{
 "cells": [
  {
   "cell_type": "markdown",
   "metadata": {},
   "source": [
    "# Importing Libraries"
   ]
  },
  {
   "cell_type": "code",
   "execution_count": 78,
   "metadata": {},
   "outputs": [],
   "source": [
    "import numpy as np\n",
    "import pandas as pd\n",
    "import matplotlib.pyplot as plt\n",
    "import seaborn as sns\n",
    "sns.set_theme(style=\"darkgrid\", palette=\"tab10\")"
   ]
  },
  {
   "cell_type": "code",
   "execution_count": 79,
   "metadata": {},
   "outputs": [
    {
     "name": "stdout",
     "output_type": "stream",
     "text": [
      "4.14.1\n"
     ]
    },
    {
     "data": {
      "text/html": [
       "        <script type=\"text/javascript\">\n",
       "        window.PlotlyConfig = {MathJaxConfig: 'local'};\n",
       "        if (window.MathJax) {MathJax.Hub.Config({SVG: {font: \"STIX-Web\"}});}\n",
       "        if (typeof require !== 'undefined') {\n",
       "        require.undef(\"plotly\");\n",
       "        requirejs.config({\n",
       "            paths: {\n",
       "                'plotly': ['https://cdn.plot.ly/plotly-latest.min']\n",
       "            }\n",
       "        });\n",
       "        require(['plotly'], function(Plotly) {\n",
       "            window._Plotly = Plotly;\n",
       "        });\n",
       "        }\n",
       "        </script>\n",
       "        "
      ]
     },
     "metadata": {},
     "output_type": "display_data"
    },
    {
     "data": {
      "text/html": [
       "        <script type=\"text/javascript\">\n",
       "        window.PlotlyConfig = {MathJaxConfig: 'local'};\n",
       "        if (window.MathJax) {MathJax.Hub.Config({SVG: {font: \"STIX-Web\"}});}\n",
       "        if (typeof require !== 'undefined') {\n",
       "        require.undef(\"plotly\");\n",
       "        requirejs.config({\n",
       "            paths: {\n",
       "                'plotly': ['https://cdn.plot.ly/plotly-latest.min']\n",
       "            }\n",
       "        });\n",
       "        require(['plotly'], function(Plotly) {\n",
       "            window._Plotly = Plotly;\n",
       "        });\n",
       "        }\n",
       "        </script>\n",
       "        "
      ]
     },
     "metadata": {},
     "output_type": "display_data"
    }
   ],
   "source": [
    "from plotly import __version__\n",
    "from plotly.offline import download_plotlyjs, init_notebook_mode, plot, iplot\n",
    "print(__version__)\n",
    "import cufflinks as cf\n",
    "init_notebook_mode(connected=True)\n",
    "cf.go_offline()"
   ]
  },
  {
   "cell_type": "markdown",
   "metadata": {},
   "source": [
    "# Reading files"
   ]
  },
  {
   "cell_type": "code",
   "execution_count": 80,
   "metadata": {},
   "outputs": [],
   "source": [
    "df=pd.read_csv(\"Data/Warm_Up_Predict_Blood_Donations_-_Traning_Data.csv\")"
   ]
  },
  {
   "cell_type": "markdown",
   "metadata": {},
   "source": [
    "# A look at the data"
   ]
  },
  {
   "cell_type": "code",
   "execution_count": 5,
   "metadata": {},
   "outputs": [
    {
     "data": {
      "text/html": [
       "<div>\n",
       "<style scoped>\n",
       "    .dataframe tbody tr th:only-of-type {\n",
       "        vertical-align: middle;\n",
       "    }\n",
       "\n",
       "    .dataframe tbody tr th {\n",
       "        vertical-align: top;\n",
       "    }\n",
       "\n",
       "    .dataframe thead th {\n",
       "        text-align: right;\n",
       "    }\n",
       "</style>\n",
       "<table border=\"1\" class=\"dataframe\">\n",
       "  <thead>\n",
       "    <tr style=\"text-align: right;\">\n",
       "      <th></th>\n",
       "      <th>Unnamed: 0</th>\n",
       "      <th>Months since Last Donation</th>\n",
       "      <th>Number of Donations</th>\n",
       "      <th>Total Volume Donated (c.c.)</th>\n",
       "      <th>Months since First Donation</th>\n",
       "      <th>Made Donation in March 2007</th>\n",
       "    </tr>\n",
       "  </thead>\n",
       "  <tbody>\n",
       "    <tr>\n",
       "      <th>0</th>\n",
       "      <td>619</td>\n",
       "      <td>2</td>\n",
       "      <td>50</td>\n",
       "      <td>12500</td>\n",
       "      <td>98</td>\n",
       "      <td>1</td>\n",
       "    </tr>\n",
       "    <tr>\n",
       "      <th>1</th>\n",
       "      <td>664</td>\n",
       "      <td>0</td>\n",
       "      <td>13</td>\n",
       "      <td>3250</td>\n",
       "      <td>28</td>\n",
       "      <td>1</td>\n",
       "    </tr>\n",
       "    <tr>\n",
       "      <th>2</th>\n",
       "      <td>441</td>\n",
       "      <td>1</td>\n",
       "      <td>16</td>\n",
       "      <td>4000</td>\n",
       "      <td>35</td>\n",
       "      <td>1</td>\n",
       "    </tr>\n",
       "  </tbody>\n",
       "</table>\n",
       "</div>"
      ],
      "text/plain": [
       "   Unnamed: 0  Months since Last Donation  Number of Donations  \\\n",
       "0         619                           2                   50   \n",
       "1         664                           0                   13   \n",
       "2         441                           1                   16   \n",
       "\n",
       "   Total Volume Donated (c.c.)  Months since First Donation  \\\n",
       "0                        12500                           98   \n",
       "1                         3250                           28   \n",
       "2                         4000                           35   \n",
       "\n",
       "   Made Donation in March 2007  \n",
       "0                            1  \n",
       "1                            1  \n",
       "2                            1  "
      ]
     },
     "execution_count": 5,
     "metadata": {},
     "output_type": "execute_result"
    }
   ],
   "source": [
    "df.head(3)"
   ]
  },
  {
   "cell_type": "markdown",
   "metadata": {},
   "source": [
    "# Extra innformation about the data"
   ]
  },
  {
   "cell_type": "code",
   "execution_count": 7,
   "metadata": {},
   "outputs": [
    {
     "name": "stdout",
     "output_type": "stream",
     "text": [
      "<class 'pandas.core.frame.DataFrame'>\n",
      "RangeIndex: 576 entries, 0 to 575\n",
      "Data columns (total 6 columns):\n",
      " #   Column                       Non-Null Count  Dtype\n",
      "---  ------                       --------------  -----\n",
      " 0   Unnamed: 0                   576 non-null    int64\n",
      " 1   Months since Last Donation   576 non-null    int64\n",
      " 2   Number of Donations          576 non-null    int64\n",
      " 3   Total Volume Donated (c.c.)  576 non-null    int64\n",
      " 4   Months since First Donation  576 non-null    int64\n",
      " 5   Made Donation in March 2007  576 non-null    int64\n",
      "dtypes: int64(6)\n",
      "memory usage: 27.1 KB\n"
     ]
    }
   ],
   "source": [
    "df.info()"
   ]
  },
  {
   "cell_type": "code",
   "execution_count": 8,
   "metadata": {},
   "outputs": [
    {
     "data": {
      "text/html": [
       "<div>\n",
       "<style scoped>\n",
       "    .dataframe tbody tr th:only-of-type {\n",
       "        vertical-align: middle;\n",
       "    }\n",
       "\n",
       "    .dataframe tbody tr th {\n",
       "        vertical-align: top;\n",
       "    }\n",
       "\n",
       "    .dataframe thead th {\n",
       "        text-align: right;\n",
       "    }\n",
       "</style>\n",
       "<table border=\"1\" class=\"dataframe\">\n",
       "  <thead>\n",
       "    <tr style=\"text-align: right;\">\n",
       "      <th></th>\n",
       "      <th>Unnamed: 0</th>\n",
       "      <th>Months since Last Donation</th>\n",
       "      <th>Number of Donations</th>\n",
       "      <th>Total Volume Donated (c.c.)</th>\n",
       "      <th>Months since First Donation</th>\n",
       "      <th>Made Donation in March 2007</th>\n",
       "    </tr>\n",
       "  </thead>\n",
       "  <tbody>\n",
       "    <tr>\n",
       "      <th>count</th>\n",
       "      <td>576.000000</td>\n",
       "      <td>576.000000</td>\n",
       "      <td>576.000000</td>\n",
       "      <td>576.000000</td>\n",
       "      <td>576.000000</td>\n",
       "      <td>576.000000</td>\n",
       "    </tr>\n",
       "    <tr>\n",
       "      <th>mean</th>\n",
       "      <td>374.034722</td>\n",
       "      <td>9.439236</td>\n",
       "      <td>5.427083</td>\n",
       "      <td>1356.770833</td>\n",
       "      <td>34.050347</td>\n",
       "      <td>0.239583</td>\n",
       "    </tr>\n",
       "    <tr>\n",
       "      <th>std</th>\n",
       "      <td>216.947773</td>\n",
       "      <td>8.175454</td>\n",
       "      <td>5.740010</td>\n",
       "      <td>1435.002556</td>\n",
       "      <td>24.227672</td>\n",
       "      <td>0.427200</td>\n",
       "    </tr>\n",
       "    <tr>\n",
       "      <th>min</th>\n",
       "      <td>0.000000</td>\n",
       "      <td>0.000000</td>\n",
       "      <td>1.000000</td>\n",
       "      <td>250.000000</td>\n",
       "      <td>2.000000</td>\n",
       "      <td>0.000000</td>\n",
       "    </tr>\n",
       "    <tr>\n",
       "      <th>25%</th>\n",
       "      <td>183.750000</td>\n",
       "      <td>2.000000</td>\n",
       "      <td>2.000000</td>\n",
       "      <td>500.000000</td>\n",
       "      <td>16.000000</td>\n",
       "      <td>0.000000</td>\n",
       "    </tr>\n",
       "    <tr>\n",
       "      <th>50%</th>\n",
       "      <td>375.500000</td>\n",
       "      <td>7.000000</td>\n",
       "      <td>4.000000</td>\n",
       "      <td>1000.000000</td>\n",
       "      <td>28.000000</td>\n",
       "      <td>0.000000</td>\n",
       "    </tr>\n",
       "    <tr>\n",
       "      <th>75%</th>\n",
       "      <td>562.500000</td>\n",
       "      <td>14.000000</td>\n",
       "      <td>7.000000</td>\n",
       "      <td>1750.000000</td>\n",
       "      <td>49.250000</td>\n",
       "      <td>0.000000</td>\n",
       "    </tr>\n",
       "    <tr>\n",
       "      <th>max</th>\n",
       "      <td>747.000000</td>\n",
       "      <td>74.000000</td>\n",
       "      <td>50.000000</td>\n",
       "      <td>12500.000000</td>\n",
       "      <td>98.000000</td>\n",
       "      <td>1.000000</td>\n",
       "    </tr>\n",
       "  </tbody>\n",
       "</table>\n",
       "</div>"
      ],
      "text/plain": [
       "       Unnamed: 0  Months since Last Donation  Number of Donations  \\\n",
       "count  576.000000                  576.000000           576.000000   \n",
       "mean   374.034722                    9.439236             5.427083   \n",
       "std    216.947773                    8.175454             5.740010   \n",
       "min      0.000000                    0.000000             1.000000   \n",
       "25%    183.750000                    2.000000             2.000000   \n",
       "50%    375.500000                    7.000000             4.000000   \n",
       "75%    562.500000                   14.000000             7.000000   \n",
       "max    747.000000                   74.000000            50.000000   \n",
       "\n",
       "       Total Volume Donated (c.c.)  Months since First Donation  \\\n",
       "count                   576.000000                   576.000000   \n",
       "mean                   1356.770833                    34.050347   \n",
       "std                    1435.002556                    24.227672   \n",
       "min                     250.000000                     2.000000   \n",
       "25%                     500.000000                    16.000000   \n",
       "50%                    1000.000000                    28.000000   \n",
       "75%                    1750.000000                    49.250000   \n",
       "max                   12500.000000                    98.000000   \n",
       "\n",
       "       Made Donation in March 2007  \n",
       "count                   576.000000  \n",
       "mean                      0.239583  \n",
       "std                       0.427200  \n",
       "min                       0.000000  \n",
       "25%                       0.000000  \n",
       "50%                       0.000000  \n",
       "75%                       0.000000  \n",
       "max                       1.000000  "
      ]
     },
     "execution_count": 8,
     "metadata": {},
     "output_type": "execute_result"
    }
   ],
   "source": [
    "df.describe()"
   ]
  },
  {
   "cell_type": "markdown",
   "metadata": {},
   "source": [
    "# Finding null values"
   ]
  },
  {
   "cell_type": "code",
   "execution_count": 90,
   "metadata": {},
   "outputs": [
    {
     "data": {
      "text/html": [
       "<div>\n",
       "<style scoped>\n",
       "    .dataframe tbody tr th:only-of-type {\n",
       "        vertical-align: middle;\n",
       "    }\n",
       "\n",
       "    .dataframe tbody tr th {\n",
       "        vertical-align: top;\n",
       "    }\n",
       "\n",
       "    .dataframe thead th {\n",
       "        text-align: right;\n",
       "    }\n",
       "</style>\n",
       "<table border=\"1\" class=\"dataframe\">\n",
       "  <thead>\n",
       "    <tr style=\"text-align: right;\">\n",
       "      <th></th>\n",
       "      <th>Unnamed: 0</th>\n",
       "      <th>Months since Last Donation</th>\n",
       "      <th>Number of Donations</th>\n",
       "      <th>Total Volume Donated (c.c.)</th>\n",
       "      <th>Months since First Donation</th>\n",
       "      <th>Made Donation in March 2007</th>\n",
       "    </tr>\n",
       "  </thead>\n",
       "  <tbody>\n",
       "    <tr>\n",
       "      <th>0</th>\n",
       "      <td>False</td>\n",
       "      <td>False</td>\n",
       "      <td>False</td>\n",
       "      <td>False</td>\n",
       "      <td>False</td>\n",
       "      <td>False</td>\n",
       "    </tr>\n",
       "    <tr>\n",
       "      <th>1</th>\n",
       "      <td>False</td>\n",
       "      <td>False</td>\n",
       "      <td>False</td>\n",
       "      <td>False</td>\n",
       "      <td>False</td>\n",
       "      <td>False</td>\n",
       "    </tr>\n",
       "    <tr>\n",
       "      <th>2</th>\n",
       "      <td>False</td>\n",
       "      <td>False</td>\n",
       "      <td>False</td>\n",
       "      <td>False</td>\n",
       "      <td>False</td>\n",
       "      <td>False</td>\n",
       "    </tr>\n",
       "    <tr>\n",
       "      <th>3</th>\n",
       "      <td>False</td>\n",
       "      <td>False</td>\n",
       "      <td>False</td>\n",
       "      <td>False</td>\n",
       "      <td>False</td>\n",
       "      <td>False</td>\n",
       "    </tr>\n",
       "    <tr>\n",
       "      <th>4</th>\n",
       "      <td>False</td>\n",
       "      <td>False</td>\n",
       "      <td>False</td>\n",
       "      <td>False</td>\n",
       "      <td>False</td>\n",
       "      <td>False</td>\n",
       "    </tr>\n",
       "    <tr>\n",
       "      <th>...</th>\n",
       "      <td>...</td>\n",
       "      <td>...</td>\n",
       "      <td>...</td>\n",
       "      <td>...</td>\n",
       "      <td>...</td>\n",
       "      <td>...</td>\n",
       "    </tr>\n",
       "    <tr>\n",
       "      <th>571</th>\n",
       "      <td>False</td>\n",
       "      <td>False</td>\n",
       "      <td>False</td>\n",
       "      <td>False</td>\n",
       "      <td>False</td>\n",
       "      <td>False</td>\n",
       "    </tr>\n",
       "    <tr>\n",
       "      <th>572</th>\n",
       "      <td>False</td>\n",
       "      <td>False</td>\n",
       "      <td>False</td>\n",
       "      <td>False</td>\n",
       "      <td>False</td>\n",
       "      <td>False</td>\n",
       "    </tr>\n",
       "    <tr>\n",
       "      <th>573</th>\n",
       "      <td>False</td>\n",
       "      <td>False</td>\n",
       "      <td>False</td>\n",
       "      <td>False</td>\n",
       "      <td>False</td>\n",
       "      <td>False</td>\n",
       "    </tr>\n",
       "    <tr>\n",
       "      <th>574</th>\n",
       "      <td>False</td>\n",
       "      <td>False</td>\n",
       "      <td>False</td>\n",
       "      <td>False</td>\n",
       "      <td>False</td>\n",
       "      <td>False</td>\n",
       "    </tr>\n",
       "    <tr>\n",
       "      <th>575</th>\n",
       "      <td>False</td>\n",
       "      <td>False</td>\n",
       "      <td>False</td>\n",
       "      <td>False</td>\n",
       "      <td>False</td>\n",
       "      <td>False</td>\n",
       "    </tr>\n",
       "  </tbody>\n",
       "</table>\n",
       "<p>576 rows × 6 columns</p>\n",
       "</div>"
      ],
      "text/plain": [
       "     Unnamed: 0  Months since Last Donation  Number of Donations  \\\n",
       "0         False                       False                False   \n",
       "1         False                       False                False   \n",
       "2         False                       False                False   \n",
       "3         False                       False                False   \n",
       "4         False                       False                False   \n",
       "..          ...                         ...                  ...   \n",
       "571       False                       False                False   \n",
       "572       False                       False                False   \n",
       "573       False                       False                False   \n",
       "574       False                       False                False   \n",
       "575       False                       False                False   \n",
       "\n",
       "     Total Volume Donated (c.c.)  Months since First Donation  \\\n",
       "0                          False                        False   \n",
       "1                          False                        False   \n",
       "2                          False                        False   \n",
       "3                          False                        False   \n",
       "4                          False                        False   \n",
       "..                           ...                          ...   \n",
       "571                        False                        False   \n",
       "572                        False                        False   \n",
       "573                        False                        False   \n",
       "574                        False                        False   \n",
       "575                        False                        False   \n",
       "\n",
       "     Made Donation in March 2007  \n",
       "0                          False  \n",
       "1                          False  \n",
       "2                          False  \n",
       "3                          False  \n",
       "4                          False  \n",
       "..                           ...  \n",
       "571                        False  \n",
       "572                        False  \n",
       "573                        False  \n",
       "574                        False  \n",
       "575                        False  \n",
       "\n",
       "[576 rows x 6 columns]"
      ]
     },
     "execution_count": 90,
     "metadata": {},
     "output_type": "execute_result"
    }
   ],
   "source": [
    "pd.isnull(df)"
   ]
  },
  {
   "cell_type": "code",
   "execution_count": 91,
   "metadata": {},
   "outputs": [
    {
     "data": {
      "text/plain": [
       "Unnamed: 0                     0\n",
       "Months since Last Donation     0\n",
       "Number of Donations            0\n",
       "Total Volume Donated (c.c.)    0\n",
       "Months since First Donation    0\n",
       "Made Donation in March 2007    0\n",
       "dtype: int64"
      ]
     },
     "execution_count": 91,
     "metadata": {},
     "output_type": "execute_result"
    }
   ],
   "source": [
    "pd.isnull(df).sum()"
   ]
  },
  {
   "cell_type": "markdown",
   "metadata": {},
   "source": [
    "####  We have 0 null values"
   ]
  },
  {
   "cell_type": "markdown",
   "metadata": {},
   "source": [
    "# Correlation between the features"
   ]
  },
  {
   "cell_type": "code",
   "execution_count": 94,
   "metadata": {},
   "outputs": [
    {
     "data": {
      "text/html": [
       "<div>\n",
       "<style scoped>\n",
       "    .dataframe tbody tr th:only-of-type {\n",
       "        vertical-align: middle;\n",
       "    }\n",
       "\n",
       "    .dataframe tbody tr th {\n",
       "        vertical-align: top;\n",
       "    }\n",
       "\n",
       "    .dataframe thead th {\n",
       "        text-align: right;\n",
       "    }\n",
       "</style>\n",
       "<table border=\"1\" class=\"dataframe\">\n",
       "  <thead>\n",
       "    <tr style=\"text-align: right;\">\n",
       "      <th></th>\n",
       "      <th>Unnamed: 0</th>\n",
       "      <th>Months since Last Donation</th>\n",
       "      <th>Number of Donations</th>\n",
       "      <th>Total Volume Donated (c.c.)</th>\n",
       "      <th>Months since First Donation</th>\n",
       "      <th>Made Donation in March 2007</th>\n",
       "    </tr>\n",
       "  </thead>\n",
       "  <tbody>\n",
       "    <tr>\n",
       "      <th>Unnamed: 0</th>\n",
       "      <td>1.000000</td>\n",
       "      <td>0.036592</td>\n",
       "      <td>-0.552575</td>\n",
       "      <td>-0.552575</td>\n",
       "      <td>-0.604281</td>\n",
       "      <td>-0.093232</td>\n",
       "    </tr>\n",
       "    <tr>\n",
       "      <th>Months since Last Donation</th>\n",
       "      <td>0.036592</td>\n",
       "      <td>1.000000</td>\n",
       "      <td>-0.684670</td>\n",
       "      <td>-0.684670</td>\n",
       "      <td>-0.181240</td>\n",
       "      <td>-0.814723</td>\n",
       "    </tr>\n",
       "    <tr>\n",
       "      <th>Number of Donations</th>\n",
       "      <td>-0.552575</td>\n",
       "      <td>-0.684670</td>\n",
       "      <td>1.000000</td>\n",
       "      <td>1.000000</td>\n",
       "      <td>0.824381</td>\n",
       "      <td>0.301829</td>\n",
       "    </tr>\n",
       "    <tr>\n",
       "      <th>Total Volume Donated (c.c.)</th>\n",
       "      <td>-0.552575</td>\n",
       "      <td>-0.684670</td>\n",
       "      <td>1.000000</td>\n",
       "      <td>1.000000</td>\n",
       "      <td>0.824381</td>\n",
       "      <td>0.301829</td>\n",
       "    </tr>\n",
       "    <tr>\n",
       "      <th>Months since First Donation</th>\n",
       "      <td>-0.604281</td>\n",
       "      <td>-0.181240</td>\n",
       "      <td>0.824381</td>\n",
       "      <td>0.824381</td>\n",
       "      <td>1.000000</td>\n",
       "      <td>-0.258284</td>\n",
       "    </tr>\n",
       "    <tr>\n",
       "      <th>Made Donation in March 2007</th>\n",
       "      <td>-0.093232</td>\n",
       "      <td>-0.814723</td>\n",
       "      <td>0.301829</td>\n",
       "      <td>0.301829</td>\n",
       "      <td>-0.258284</td>\n",
       "      <td>1.000000</td>\n",
       "    </tr>\n",
       "  </tbody>\n",
       "</table>\n",
       "</div>"
      ],
      "text/plain": [
       "                             Unnamed: 0  Months since Last Donation  \\\n",
       "Unnamed: 0                     1.000000                    0.036592   \n",
       "Months since Last Donation     0.036592                    1.000000   \n",
       "Number of Donations           -0.552575                   -0.684670   \n",
       "Total Volume Donated (c.c.)   -0.552575                   -0.684670   \n",
       "Months since First Donation   -0.604281                   -0.181240   \n",
       "Made Donation in March 2007   -0.093232                   -0.814723   \n",
       "\n",
       "                             Number of Donations  Total Volume Donated (c.c.)  \\\n",
       "Unnamed: 0                             -0.552575                    -0.552575   \n",
       "Months since Last Donation             -0.684670                    -0.684670   \n",
       "Number of Donations                     1.000000                     1.000000   \n",
       "Total Volume Donated (c.c.)             1.000000                     1.000000   \n",
       "Months since First Donation             0.824381                     0.824381   \n",
       "Made Donation in March 2007             0.301829                     0.301829   \n",
       "\n",
       "                             Months since First Donation  \\\n",
       "Unnamed: 0                                     -0.604281   \n",
       "Months since Last Donation                     -0.181240   \n",
       "Number of Donations                             0.824381   \n",
       "Total Volume Donated (c.c.)                     0.824381   \n",
       "Months since First Donation                     1.000000   \n",
       "Made Donation in March 2007                    -0.258284   \n",
       "\n",
       "                             Made Donation in March 2007  \n",
       "Unnamed: 0                                     -0.093232  \n",
       "Months since Last Donation                     -0.814723  \n",
       "Number of Donations                             0.301829  \n",
       "Total Volume Donated (c.c.)                     0.301829  \n",
       "Months since First Donation                    -0.258284  \n",
       "Made Donation in March 2007                     1.000000  "
      ]
     },
     "execution_count": 94,
     "metadata": {},
     "output_type": "execute_result"
    }
   ],
   "source": [
    "df_corr=df.corr()\n",
    "df_corr"
   ]
  },
  {
   "cell_type": "code",
   "execution_count": 96,
   "metadata": {},
   "outputs": [
    {
     "data": {
      "text/plain": [
       "<AxesSubplot:>"
      ]
     },
     "execution_count": 96,
     "metadata": {},
     "output_type": "execute_result"
    },
    {
     "data": {
      "image/png": "[encoded data removed]",
      "text/plain": [
       "<Figure size 432x288 with 2 Axes>"
      ]
     },
     "metadata": {},
     "output_type": "display_data"
    }
   ],
   "source": [
    "sns.heatmap(df_corr)"
   ]
  },
  {
   "cell_type": "markdown",
   "metadata": {},
   "source": [
    "# Data visualization to get some insights"
   ]
  },
  {
   "cell_type": "markdown",
   "metadata": {},
   "source": [
    "## Count plot of target\n",
    "**We can clearly see that the data is unbalanced**"
   ]
  },
  {
   "cell_type": "code",
   "execution_count": 82,
   "metadata": {},
   "outputs": [
    {
     "data": {
      "text/plain": [
       "<AxesSubplot:xlabel='Made Donation in March 2007', ylabel='count'>"
      ]
     },
     "execution_count": 82,
     "metadata": {},
     "output_type": "execute_result"
    },
    {
     "data": {
      "image/png": "[encoded data removed]",
      "text/plain": [
       "<Figure size 500x500 with 1 Axes>"
      ]
     },
     "metadata": {},
     "output_type": "display_data"
    }
   ],
   "source": [
    "fig = plt.figure(figsize=(5,5), dpi=100)\n",
    "sns.countplot(x='Made Donation in March 2007', data=df,linewidth=5,edgecolor=sns.color_palette(\"dark\", 3))"
   ]
  },
  {
   "cell_type": "markdown",
   "metadata": {},
   "source": [
    "## Box Plot comparison between first and last donation"
   ]
  },
  {
   "cell_type": "code",
   "execution_count": 10,
   "metadata": {},
   "outputs": [
    {
     "data": {
      "application/vnd.plotly.v1+json": {
       "config": {
        "linkText": "Export to plot.ly",
        "plotlyServerURL": "https://plot.ly",
        "showLink": true
       },
       "data": [
        {
         "boxpoints": false,
         "line": {
          "width": 1.3
         },
         "marker": {
          "color": "rgba(255, 153, 51, 1.0)"
         },
         "name": "Months since First Donation",
         "orientation": "v",
         "type": "box",
         "y": [
          98,
          28,
          35,
          45,
          77,
          4,
          14,
          35,
          98,
          4,
          28,
          47,
          15,
          11,
          48,
          49,
          15,
          4,
          4,
          28,
          16,
          16,
          40,
          14,
          21,
          58,
          28,
          28,
          64,
          28,
          47,
          16,
          22,
          53,
          16,
          16,
          16,
          69,
          28,
          36,
          2,
          2,
          2,
          46,
          46,
          22,
          14,
          69,
          26,
          28,
          21,
          35,
          16,
          74,
          14,
          4,
          25,
          51,
          16,
          16,
          71,
          4,
          4,
          4,
          16,
          4,
          4,
          16,
          16,
          16,
          28,
          28,
          4,
          4,
          35,
          4,
          4,
          4,
          23,
          86,
          38,
          34,
          40,
          26,
          70,
          59,
          14,
          64,
          46,
          23,
          40,
          82,
          64,
          46,
          61,
          57,
          79,
          16,
          26,
          41,
          33,
          26,
          34,
          46,
          48,
          10,
          28,
          10,
          88,
          19,
          37,
          19,
          11,
          74,
          16,
          16,
          9,
          14,
          11,
          11,
          11,
          58,
          2,
          2,
          2,
          2,
          2,
          2,
          2,
          2,
          2,
          2,
          2,
          2,
          2,
          2,
          2,
          2,
          2,
          2,
          2,
          35,
          16,
          41,
          22,
          26,
          16,
          35,
          88,
          26,
          34,
          35,
          52,
          52,
          14,
          47,
          38,
          47,
          45,
          52,
          58,
          11,
          38,
          16,
          76,
          27,
          14,
          4,
          4,
          4,
          4,
          4,
          4,
          4,
          4,
          4,
          4,
          24,
          4,
          4,
          4,
          39,
          26,
          63,
          14,
          43,
          58,
          52,
          98,
          25,
          79,
          11,
          46,
          86,
          11,
          11,
          75,
          41,
          16,
          59,
          35,
          28,
          37,
          28,
          58,
          41,
          73,
          58,
          43,
          23,
          46,
          82,
          21,
          28,
          16,
          58,
          58,
          46,
          57,
          34,
          78,
          48,
          70,
          22,
          26,
          16,
          14,
          23,
          19,
          50,
          28,
          35,
          70,
          28,
          14,
          14,
          14,
          34,
          37,
          74,
          23,
          38,
          60,
          9,
          9,
          29,
          17,
          26,
          72,
          41,
          51,
          50,
          38,
          16,
          98,
          28,
          39,
          47,
          35,
          28,
          11,
          34,
          30,
          98,
          11,
          11,
          11,
          11,
          11,
          21,
          50,
          21,
          28,
          26,
          26,
          51,
          24,
          71,
          57,
          71,
          21,
          57,
          38,
          26,
          40,
          51,
          40,
          40,
          50,
          14,
          14,
          14,
          14,
          14,
          72,
          14,
          52,
          73,
          58,
          59,
          59,
          61,
          40,
          89,
          21,
          26,
          76,
          26,
          23,
          33,
          34,
          64,
          41,
          16,
          16,
          16,
          16,
          16,
          16,
          45,
          16,
          16,
          16,
          23,
          23,
          57,
          60,
          23,
          74,
          28,
          40,
          52,
          52,
          87,
          35,
          93,
          25,
          52,
          95,
          46,
          76,
          86,
          35,
          26,
          26,
          33,
          28,
          21,
          21,
          21,
          21,
          21,
          21,
          21,
          21,
          21,
          21,
          21,
          60,
          45,
          52,
          22,
          70,
          58,
          40,
          41,
          83,
          35,
          49,
          70,
          23,
          23,
          23,
          23,
          23,
          23,
          23,
          53,
          86,
          64,
          70,
          70,
          87,
          89,
          64,
          74,
          86,
          28,
          98,
          23,
          52,
          4,
          26,
          28,
          35,
          14,
          12,
          98,
          33,
          28,
          40,
          41,
          39,
          43,
          28,
          16,
          22,
          16,
          14,
          14,
          26,
          16,
          32,
          26,
          38,
          4,
          28,
          4,
          95,
          11,
          70,
          32,
          16,
          35,
          14,
          23,
          18,
          28,
          30,
          14,
          50,
          52,
          98,
          75,
          35,
          55,
          35,
          45,
          47,
          9,
          11,
          38,
          38,
          18,
          21,
          2,
          2,
          2,
          2,
          2,
          2,
          2,
          2,
          2,
          22,
          49,
          38,
          3,
          43,
          24,
          39,
          14,
          14,
          26,
          13,
          95,
          4,
          4,
          4,
          4,
          4,
          4,
          4,
          4,
          62,
          34,
          28,
          14,
          54,
          11,
          63,
          89,
          64,
          22,
          89,
          58,
          35,
          27,
          89,
          52,
          41,
          38,
          14,
          14,
          14,
          33,
          23,
          46,
          9,
          27,
          26,
          30,
          21,
          77,
          31,
          50,
          26,
          45,
          33,
          16,
          21,
          72,
          11,
          11,
          11,
          75,
          77,
          28,
          87,
          83,
          62,
          23,
          26,
          62,
          75,
          69,
          46,
          25,
          37,
          76,
          50,
          33,
          14,
          14,
          14,
          14,
          58,
          35,
          64,
          21,
          35,
          16,
          16,
          16,
          16,
          16,
          74,
          48,
          23,
          45,
          35,
          58,
          71,
          26,
          35,
          69,
          38,
          40,
          21,
          21,
          50,
          21,
          21,
          39,
          33,
          79,
          23,
          23,
          23,
          23,
          23,
          23,
          86,
          52,
          39,
          72
         ]
        },
        {
         "boxpoints": false,
         "line": {
          "width": 1.3
         },
         "marker": {
          "color": "rgba(55, 128, 191, 1.0)"
         },
         "name": "Months since Last Donation",
         "orientation": "v",
         "type": "box",
         "y": [
          2,
          0,
          1,
          2,
          1,
          4,
          2,
          1,
          5,
          0,
          2,
          1,
          2,
          2,
          2,
          2,
          2,
          2,
          2,
          4,
          2,
          2,
          4,
          4,
          4,
          1,
          4,
          4,
          2,
          2,
          2,
          4,
          4,
          2,
          2,
          2,
          2,
          4,
          4,
          2,
          2,
          2,
          2,
          2,
          2,
          2,
          4,
          4,
          4,
          2,
          3,
          2,
          4,
          3,
          2,
          0,
          4,
          1,
          2,
          2,
          4,
          2,
          2,
          2,
          2,
          2,
          2,
          2,
          2,
          2,
          2,
          2,
          4,
          4,
          2,
          4,
          4,
          4,
          12,
          3,
          4,
          4,
          4,
          2,
          6,
          0,
          2,
          2,
          4,
          4,
          4,
          2,
          11,
          2,
          4,
          1,
          2,
          2,
          4,
          2,
          2,
          2,
          2,
          4,
          4,
          2,
          4,
          2,
          2,
          2,
          2,
          9,
          2,
          2,
          4,
          4,
          4,
          6,
          2,
          2,
          2,
          2,
          2,
          2,
          2,
          2,
          2,
          2,
          2,
          2,
          2,
          2,
          2,
          2,
          2,
          2,
          2,
          2,
          2,
          2,
          2,
          11,
          11,
          4,
          2,
          4,
          10,
          2,
          4,
          13,
          4,
          4,
          4,
          4,
          2,
          2,
          9,
          4,
          9,
          4,
          4,
          6,
          11,
          2,
          2,
          11,
          11,
          4,
          4,
          4,
          4,
          4,
          4,
          4,
          4,
          4,
          4,
          4,
          4,
          4,
          4,
          10,
          14,
          8,
          4,
          2,
          8,
          8,
          11,
          4,
          11,
          9,
          4,
          7,
          11,
          11,
          2,
          11,
          11,
          12,
          2,
          16,
          11,
          4,
          12,
          4,
          11,
          4,
          4,
          3,
          11,
          4,
          13,
          16,
          7,
          4,
          4,
          4,
          14,
          4,
          14,
          11,
          14,
          14,
          14,
          8,
          11,
          4,
          14,
          16,
          11,
          11,
          2,
          14,
          14,
          14,
          14,
          14,
          11,
          4,
          11,
          11,
          12,
          9,
          9,
          4,
          11,
          14,
          11,
          11,
          9,
          14,
          16,
          14,
          14,
          14,
          16,
          14,
          16,
          11,
          11,
          9,
          14,
          23,
          11,
          11,
          11,
          11,
          11,
          11,
          11,
          11,
          16,
          14,
          9,
          14,
          11,
          4,
          21,
          11,
          14,
          23,
          14,
          11,
          16,
          4,
          14,
          11,
          14,
          14,
          14,
          14,
          14,
          14,
          14,
          14,
          9,
          14,
          11,
          11,
          4,
          11,
          16,
          16,
          21,
          21,
          16,
          21,
          18,
          23,
          16,
          14,
          14,
          16,
          16,
          16,
          16,
          16,
          16,
          16,
          16,
          16,
          16,
          21,
          21,
          14,
          16,
          23,
          14,
          23,
          16,
          9,
          9,
          16,
          14,
          16,
          21,
          14,
          18,
          16,
          11,
          23,
          21,
          23,
          23,
          23,
          23,
          21,
          21,
          21,
          21,
          21,
          21,
          21,
          21,
          21,
          21,
          21,
          21,
          23,
          21,
          22,
          11,
          23,
          23,
          23,
          14,
          21,
          26,
          23,
          23,
          23,
          23,
          23,
          23,
          23,
          23,
          23,
          21,
          21,
          16,
          21,
          23,
          23,
          35,
          74,
          2,
          6,
          2,
          2,
          2,
          4,
          2,
          2,
          3,
          4,
          3,
          4,
          3,
          4,
          2,
          2,
          4,
          1,
          4,
          2,
          2,
          4,
          2,
          2,
          2,
          4,
          2,
          2,
          2,
          2,
          2,
          4,
          1,
          2,
          2,
          4,
          4,
          2,
          2,
          2,
          4,
          5,
          4,
          14,
          3,
          4,
          4,
          2,
          4,
          4,
          4,
          2,
          2,
          4,
          2,
          4,
          9,
          11,
          2,
          2,
          2,
          2,
          2,
          2,
          2,
          2,
          2,
          2,
          2,
          9,
          3,
          3,
          4,
          2,
          12,
          2,
          9,
          14,
          4,
          4,
          4,
          4,
          4,
          4,
          4,
          4,
          4,
          4,
          4,
          4,
          11,
          13,
          9,
          11,
          2,
          7,
          8,
          2,
          11,
          4,
          14,
          11,
          7,
          7,
          11,
          10,
          14,
          14,
          14,
          2,
          11,
          14,
          9,
          16,
          14,
          4,
          14,
          16,
          4,
          14,
          11,
          14,
          15,
          16,
          16,
          11,
          11,
          11,
          11,
          2,
          2,
          16,
          16,
          16,
          16,
          16,
          14,
          23,
          11,
          20,
          4,
          11,
          11,
          13,
          16,
          14,
          14,
          14,
          14,
          14,
          17,
          14,
          16,
          21,
          16,
          16,
          16,
          16,
          16,
          16,
          11,
          21,
          23,
          23,
          14,
          16,
          16,
          21,
          21,
          23,
          21,
          21,
          21,
          21,
          25,
          21,
          21,
          23,
          21,
          14,
          23,
          23,
          23,
          23,
          23,
          23,
          16,
          21,
          39,
          72
         ]
        }
       ],
       "layout": {
        "legend": {
         "bgcolor": "#F5F6F9",
         "font": {
          "color": "#4D5663"
         }
        },
        "paper_bgcolor": "#F5F6F9",
        "plot_bgcolor": "#F5F6F9",
        "template": {
         "data": {
          "bar": [
           {
            "error_x": {
             "color": "#2a3f5f"
            },
            "error_y": {
             "color": "#2a3f5f"
            },
            "marker": {
             "line": {
              "color": "#E5ECF6",
              "width": 0.5
             }
            },
            "type": "bar"
           }
          ],
          "barpolar": [
           {
            "marker": {
             "line": {
              "color": "#E5ECF6",
              "width": 0.5
             }
            },
            "type": "barpolar"
           }
          ],
          "carpet": [
           {
            "aaxis": {
             "endlinecolor": "#2a3f5f",
             "gridcolor": "white",
             "linecolor": "white",
             "minorgridcolor": "white",
             "startlinecolor": "#2a3f5f"
            },
            "baxis": {
             "endlinecolor": "#2a3f5f",
             "gridcolor": "white",
             "linecolor": "white",
             "minorgridcolor": "white",
             "startlinecolor": "#2a3f5f"
            },
            "type": "carpet"
           }
          ],
          "choropleth": [
           {
            "colorbar": {
             "outlinewidth": 0,
             "ticks": ""
            },
            "type": "choropleth"
           }
          ],
          "contour": [
           {
            "colorbar": {
             "outlinewidth": 0,
             "ticks": ""
            },
            "colorscale": [
             [
              0,
              "#0d0887"
             ],
             [
              0.1111111111111111,
              "#46039f"
             ],
             [
              0.2222222222222222,
              "#7201a8"
             ],
             [
              0.3333333333333333,
              "#9c179e"
             ],
             [
              0.4444444444444444,
              "#bd3786"
             ],
             [
              0.5555555555555556,
              "#d8576b"
             ],
             [
              0.6666666666666666,
              "#ed7953"
             ],
             [
              0.7777777777777778,
              "#fb9f3a"
             ],
             [
              0.8888888888888888,
              "#fdca26"
             ],
             [
              1,
              "#f0f921"
             ]
            ],
            "type": "contour"
           }
          ],
          "contourcarpet": [
           {
            "colorbar": {
             "outlinewidth": 0,
             "ticks": ""
            },
            "type": "contourcarpet"
           }
          ],
          "heatmap": [
           {
            "colorbar": {
             "outlinewidth": 0,
             "ticks": ""
            },
            "colorscale": [
             [
              0,
              "#0d0887"
             ],
             [
              0.1111111111111111,
              "#46039f"
             ],
             [
              0.2222222222222222,
              "#7201a8"
             ],
             [
              0.3333333333333333,
              "#9c179e"
             ],
             [
              0.4444444444444444,
              "#bd3786"
             ],
             [
              0.5555555555555556,
              "#d8576b"
             ],
             [
              0.6666666666666666,
              "#ed7953"
             ],
             [
              0.7777777777777778,
              "#fb9f3a"
             ],
             [
              0.8888888888888888,
              "#fdca26"
             ],
             [
              1,
              "#f0f921"
             ]
            ],
            "type": "heatmap"
           }
          ],
          "heatmapgl": [
           {
            "colorbar": {
             "outlinewidth": 0,
             "ticks": ""
            },
            "colorscale": [
             [
              0,
              "#0d0887"
             ],
             [
              0.1111111111111111,
              "#46039f"
             ],
             [
              0.2222222222222222,
              "#7201a8"
             ],
             [
              0.3333333333333333,
              "#9c179e"
             ],
             [
              0.4444444444444444,
              "#bd3786"
             ],
             [
              0.5555555555555556,
              "#d8576b"
             ],
             [
              0.6666666666666666,
              "#ed7953"
             ],
             [
              0.7777777777777778,
              "#fb9f3a"
             ],
             [
              0.8888888888888888,
              "#fdca26"
             ],
             [
              1,
              "#f0f921"
             ]
            ],
            "type": "heatmapgl"
           }
          ],
          "histogram": [
           {
            "marker": {
             "colorbar": {
              "outlinewidth": 0,
              "ticks": ""
             }
            },
            "type": "histogram"
           }
          ],
          "histogram2d": [
           {
            "colorbar": {
             "outlinewidth": 0,
             "ticks": ""
            },
            "colorscale": [
             [
              0,
              "#0d0887"
             ],
             [
              0.1111111111111111,
              "#46039f"
             ],
             [
              0.2222222222222222,
              "#7201a8"
             ],
             [
              0.3333333333333333,
              "#9c179e"
             ],
             [
              0.4444444444444444,
              "#bd3786"
             ],
             [
              0.5555555555555556,
              "#d8576b"
             ],
             [
              0.6666666666666666,
              "#ed7953"
             ],
             [
              0.7777777777777778,
              "#fb9f3a"
             ],
             [
              0.8888888888888888,
              "#fdca26"
             ],
             [
              1,
              "#f0f921"
             ]
            ],
            "type": "histogram2d"
           }
          ],
          "histogram2dcontour": [
           {
            "colorbar": {
             "outlinewidth": 0,
             "ticks": ""
            },
            "colorscale": [
             [
              0,
              "#0d0887"
             ],
             [
              0.1111111111111111,
              "#46039f"
             ],
             [
              0.2222222222222222,
              "#7201a8"
             ],
             [
              0.3333333333333333,
              "#9c179e"
             ],
             [
              0.4444444444444444,
              "#bd3786"
             ],
             [
              0.5555555555555556,
              "#d8576b"
             ],
             [
              0.6666666666666666,
              "#ed7953"
             ],
             [
              0.7777777777777778,
              "#fb9f3a"
             ],
             [
              0.8888888888888888,
              "#fdca26"
             ],
             [
              1,
              "#f0f921"
             ]
            ],
            "type": "histogram2dcontour"
           }
          ],
          "mesh3d": [
           {
            "colorbar": {
             "outlinewidth": 0,
             "ticks": ""
            },
            "type": "mesh3d"
           }
          ],
          "parcoords": [
           {
            "line": {
             "colorbar": {
              "outlinewidth": 0,
              "ticks": ""
             }
            },
            "type": "parcoords"
           }
          ],
          "pie": [
           {
            "automargin": true,
            "type": "pie"
           }
          ],
          "scatter": [
           {
            "marker": {
             "colorbar": {
              "outlinewidth": 0,
              "ticks": ""
             }
            },
            "type": "scatter"
           }
          ],
          "scatter3d": [
           {
            "line": {
             "colorbar": {
              "outlinewidth": 0,
              "ticks": ""
             }
            },
            "marker": {
             "colorbar": {
              "outlinewidth": 0,
              "ticks": ""
             }
            },
            "type": "scatter3d"
           }
          ],
          "scattercarpet": [
           {
            "marker": {
             "colorbar": {
              "outlinewidth": 0,
              "ticks": ""
             }
            },
            "type": "scattercarpet"
           }
          ],
          "scattergeo": [
           {
            "marker": {
             "colorbar": {
              "outlinewidth": 0,
              "ticks": ""
             }
            },
            "type": "scattergeo"
           }
          ],
          "scattergl": [
           {
            "marker": {
             "colorbar": {
              "outlinewidth": 0,
              "ticks": ""
             }
            },
            "type": "scattergl"
           }
          ],
          "scattermapbox": [
           {
            "marker": {
             "colorbar": {
              "outlinewidth": 0,
              "ticks": ""
             }
            },
            "type": "scattermapbox"
           }
          ],
          "scatterpolar": [
           {
            "marker": {
             "colorbar": {
              "outlinewidth": 0,
              "ticks": ""
             }
            },
            "type": "scatterpolar"
           }
          ],
          "scatterpolargl": [
           {
            "marker": {
             "colorbar": {
              "outlinewidth": 0,
              "ticks": ""
             }
            },
            "type": "scatterpolargl"
           }
          ],
          "scatterternary": [
           {
            "marker": {
             "colorbar": {
              "outlinewidth": 0,
              "ticks": ""
             }
            },
            "type": "scatterternary"
           }
          ],
          "surface": [
           {
            "colorbar": {
             "outlinewidth": 0,
             "ticks": ""
            },
            "colorscale": [
             [
              0,
              "#0d0887"
             ],
             [
              0.1111111111111111,
              "#46039f"
             ],
             [
              0.2222222222222222,
              "#7201a8"
             ],
             [
              0.3333333333333333,
              "#9c179e"
             ],
             [
              0.4444444444444444,
              "#bd3786"
             ],
             [
              0.5555555555555556,
              "#d8576b"
             ],
             [
              0.6666666666666666,
              "#ed7953"
             ],
             [
              0.7777777777777778,
              "#fb9f3a"
             ],
             [
              0.8888888888888888,
              "#fdca26"
             ],
             [
              1,
              "#f0f921"
             ]
            ],
            "type": "surface"
           }
          ],
          "table": [
           {
            "cells": {
             "fill": {
              "color": "#EBF0F8"
             },
             "line": {
              "color": "white"
             }
            },
            "header": {
             "fill": {
              "color": "#C8D4E3"
             },
             "line": {
              "color": "white"
             }
            },
            "type": "table"
           }
          ]
         },
         "layout": {
          "annotationdefaults": {
           "arrowcolor": "#2a3f5f",
           "arrowhead": 0,
           "arrowwidth": 1
          },
          "autotypenumbers": "strict",
          "coloraxis": {
           "colorbar": {
            "outlinewidth": 0,
            "ticks": ""
           }
          },
          "colorscale": {
           "diverging": [
            [
             0,
             "#8e0152"
            ],
            [
             0.1,
             "#c51b7d"
            ],
            [
             0.2,
             "#de77ae"
            ],
            [
             0.3,
             "#f1b6da"
            ],
            [
             0.4,
             "#fde0ef"
            ],
            [
             0.5,
             "#f7f7f7"
            ],
            [
             0.6,
             "#e6f5d0"
            ],
            [
             0.7,
             "#b8e186"
            ],
            [
             0.8,
             "#7fbc41"
            ],
            [
             0.9,
             "#4d9221"
            ],
            [
             1,
             "#276419"
            ]
           ],
           "sequential": [
            [
             0,
             "#0d0887"
            ],
            [
             0.1111111111111111,
             "#46039f"
            ],
            [
             0.2222222222222222,
             "#7201a8"
            ],
            [
             0.3333333333333333,
             "#9c179e"
            ],
            [
             0.4444444444444444,
             "#bd3786"
            ],
            [
             0.5555555555555556,
             "#d8576b"
            ],
            [
             0.6666666666666666,
             "#ed7953"
            ],
            [
             0.7777777777777778,
             "#fb9f3a"
            ],
            [
             0.8888888888888888,
             "#fdca26"
            ],
            [
             1,
             "#f0f921"
            ]
           ],
           "sequentialminus": [
            [
             0,
             "#0d0887"
            ],
            [
             0.1111111111111111,
             "#46039f"
            ],
            [
             0.2222222222222222,
             "#7201a8"
            ],
            [
             0.3333333333333333,
             "#9c179e"
            ],
            [
             0.4444444444444444,
             "#bd3786"
            ],
            [
             0.5555555555555556,
             "#d8576b"
            ],
            [
             0.6666666666666666,
             "#ed7953"
            ],
            [
             0.7777777777777778,
             "#fb9f3a"
            ],
            [
             0.8888888888888888,
             "#fdca26"
            ],
            [
             1,
             "#f0f921"
            ]
           ]
          },
          "colorway": [
           "#636efa",
           "#EF553B",
           "#00cc96",
           "#ab63fa",
           "#FFA15A",
           "#19d3f3",
           "#FF6692",
           "#B6E880",
           "#FF97FF",
           "#FECB52"
          ],
          "font": {
           "color": "#2a3f5f"
          },
          "geo": {
           "bgcolor": "white",
           "lakecolor": "white",
           "landcolor": "#E5ECF6",
           "showlakes": true,
           "showland": true,
           "subunitcolor": "white"
          },
          "hoverlabel": {
           "align": "left"
          },
          "hovermode": "closest",
          "mapbox": {
           "style": "light"
          },
          "paper_bgcolor": "white",
          "plot_bgcolor": "#E5ECF6",
          "polar": {
           "angularaxis": {
            "gridcolor": "white",
            "linecolor": "white",
            "ticks": ""
           },
           "bgcolor": "#E5ECF6",
           "radialaxis": {
            "gridcolor": "white",
            "linecolor": "white",
            "ticks": ""
           }
          },
          "scene": {
           "xaxis": {
            "backgroundcolor": "#E5ECF6",
            "gridcolor": "white",
            "gridwidth": 2,
            "linecolor": "white",
            "showbackground": true,
            "ticks": "",
            "zerolinecolor": "white"
           },
           "yaxis": {
            "backgroundcolor": "#E5ECF6",
            "gridcolor": "white",
            "gridwidth": 2,
            "linecolor": "white",
            "showbackground": true,
            "ticks": "",
            "zerolinecolor": "white"
           },
           "zaxis": {
            "backgroundcolor": "#E5ECF6",
            "gridcolor": "white",
            "gridwidth": 2,
            "linecolor": "white",
            "showbackground": true,
            "ticks": "",
            "zerolinecolor": "white"
           }
          },
          "shapedefaults": {
           "line": {
            "color": "#2a3f5f"
           }
          },
          "ternary": {
           "aaxis": {
            "gridcolor": "white",
            "linecolor": "white",
            "ticks": ""
           },
           "baxis": {
            "gridcolor": "white",
            "linecolor": "white",
            "ticks": ""
           },
           "bgcolor": "#E5ECF6",
           "caxis": {
            "gridcolor": "white",
            "linecolor": "white",
            "ticks": ""
           }
          },
          "title": {
           "x": 0.05
          },
          "xaxis": {
           "automargin": true,
           "gridcolor": "white",
           "linecolor": "white",
           "ticks": "",
           "title": {
            "standoff": 15
           },
           "zerolinecolor": "white",
           "zerolinewidth": 2
          },
          "yaxis": {
           "automargin": true,
           "gridcolor": "white",
           "linecolor": "white",
           "ticks": "",
           "title": {
            "standoff": 15
           },
           "zerolinecolor": "white",
           "zerolinewidth": 2
          }
         }
        },
        "title": {
         "font": {
          "color": "#4D5663"
         }
        },
        "xaxis": {
         "gridcolor": "#E1E5ED",
         "showgrid": true,
         "tickfont": {
          "color": "#4D5663"
         },
         "title": {
          "font": {
           "color": "#4D5663"
          },
          "text": ""
         },
         "zerolinecolor": "#E1E5ED"
        },
        "yaxis": {
         "gridcolor": "#E1E5ED",
         "showgrid": true,
         "tickfont": {
          "color": "#4D5663"
         },
         "title": {
          "font": {
           "color": "#4D5663"
          },
          "text": ""
         },
         "zerolinecolor": "#E1E5ED"
        }
       }
      },
      "text/html": [
       "<div>                            <div id=\"82ed9583-214a-43a7-bd55-b4a158450941\" class=\"plotly-graph-div\" style=\"height:525px; width:100%;\"></div>            <script type=\"text/javascript\">                require([\"plotly\"], function(Plotly) {                    window.PLOTLYENV=window.PLOTLYENV || {};\n",
       "                    window.PLOTLYENV.BASE_URL='https://plot.ly';                                    if (document.getElementById(\"82ed9583-214a-43a7-bd55-b4a158450941\")) {                    Plotly.newPlot(                        \"82ed9583-214a-43a7-bd55-b4a158450941\",                        [{\"boxpoints\": false, \"line\": {\"width\": 1.3}, \"marker\": {\"color\": \"rgba(255, 153, 51, 1.0)\"}, \"name\": \"Months since First Donation\", \"orientation\": \"v\", \"type\": \"box\", \"y\": [98, 28, 35, 45, 77, 4, 14, 35, 98, 4, 28, 47, 15, 11, 48, 49, 15, 4, 4, 28, 16, 16, 40, 14, 21, 58, 28, 28, 64, 28, 47, 16, 22, 53, 16, 16, 16, 69, 28, 36, 2, 2, 2, 46, 46, 22, 14, 69, 26, 28, 21, 35, 16, 74, 14, 4, 25, 51, 16, 16, 71, 4, 4, 4, 16, 4, 4, 16, 16, 16, 28, 28, 4, 4, 35, 4, 4, 4, 23, 86, 38, 34, 40, 26, 70, 59, 14, 64, 46, 23, 40, 82, 64, 46, 61, 57, 79, 16, 26, 41, 33, 26, 34, 46, 48, 10, 28, 10, 88, 19, 37, 19, 11, 74, 16, 16, 9, 14, 11, 11, 11, 58, 2, 2, 2, 2, 2, 2, 2, 2, 2, 2, 2, 2, 2, 2, 2, 2, 2, 2, 2, 35, 16, 41, 22, 26, 16, 35, 88, 26, 34, 35, 52, 52, 14, 47, 38, 47, 45, 52, 58, 11, 38, 16, 76, 27, 14, 4, 4, 4, 4, 4, 4, 4, 4, 4, 4, 24, 4, 4, 4, 39, 26, 63, 14, 43, 58, 52, 98, 25, 79, 11, 46, 86, 11, 11, 75, 41, 16, 59, 35, 28, 37, 28, 58, 41, 73, 58, 43, 23, 46, 82, 21, 28, 16, 58, 58, 46, 57, 34, 78, 48, 70, 22, 26, 16, 14, 23, 19, 50, 28, 35, 70, 28, 14, 14, 14, 34, 37, 74, 23, 38, 60, 9, 9, 29, 17, 26, 72, 41, 51, 50, 38, 16, 98, 28, 39, 47, 35, 28, 11, 34, 30, 98, 11, 11, 11, 11, 11, 21, 50, 21, 28, 26, 26, 51, 24, 71, 57, 71, 21, 57, 38, 26, 40, 51, 40, 40, 50, 14, 14, 14, 14, 14, 72, 14, 52, 73, 58, 59, 59, 61, 40, 89, 21, 26, 76, 26, 23, 33, 34, 64, 41, 16, 16, 16, 16, 16, 16, 45, 16, 16, 16, 23, 23, 57, 60, 23, 74, 28, 40, 52, 52, 87, 35, 93, 25, 52, 95, 46, 76, 86, 35, 26, 26, 33, 28, 21, 21, 21, 21, 21, 21, 21, 21, 21, 21, 21, 60, 45, 52, 22, 70, 58, 40, 41, 83, 35, 49, 70, 23, 23, 23, 23, 23, 23, 23, 53, 86, 64, 70, 70, 87, 89, 64, 74, 86, 28, 98, 23, 52, 4, 26, 28, 35, 14, 12, 98, 33, 28, 40, 41, 39, 43, 28, 16, 22, 16, 14, 14, 26, 16, 32, 26, 38, 4, 28, 4, 95, 11, 70, 32, 16, 35, 14, 23, 18, 28, 30, 14, 50, 52, 98, 75, 35, 55, 35, 45, 47, 9, 11, 38, 38, 18, 21, 2, 2, 2, 2, 2, 2, 2, 2, 2, 22, 49, 38, 3, 43, 24, 39, 14, 14, 26, 13, 95, 4, 4, 4, 4, 4, 4, 4, 4, 62, 34, 28, 14, 54, 11, 63, 89, 64, 22, 89, 58, 35, 27, 89, 52, 41, 38, 14, 14, 14, 33, 23, 46, 9, 27, 26, 30, 21, 77, 31, 50, 26, 45, 33, 16, 21, 72, 11, 11, 11, 75, 77, 28, 87, 83, 62, 23, 26, 62, 75, 69, 46, 25, 37, 76, 50, 33, 14, 14, 14, 14, 58, 35, 64, 21, 35, 16, 16, 16, 16, 16, 74, 48, 23, 45, 35, 58, 71, 26, 35, 69, 38, 40, 21, 21, 50, 21, 21, 39, 33, 79, 23, 23, 23, 23, 23, 23, 86, 52, 39, 72]}, {\"boxpoints\": false, \"line\": {\"width\": 1.3}, \"marker\": {\"color\": \"rgba(55, 128, 191, 1.0)\"}, \"name\": \"Months since Last Donation\", \"orientation\": \"v\", \"type\": \"box\", \"y\": [2, 0, 1, 2, 1, 4, 2, 1, 5, 0, 2, 1, 2, 2, 2, 2, 2, 2, 2, 4, 2, 2, 4, 4, 4, 1, 4, 4, 2, 2, 2, 4, 4, 2, 2, 2, 2, 4, 4, 2, 2, 2, 2, 2, 2, 2, 4, 4, 4, 2, 3, 2, 4, 3, 2, 0, 4, 1, 2, 2, 4, 2, 2, 2, 2, 2, 2, 2, 2, 2, 2, 2, 4, 4, 2, 4, 4, 4, 12, 3, 4, 4, 4, 2, 6, 0, 2, 2, 4, 4, 4, 2, 11, 2, 4, 1, 2, 2, 4, 2, 2, 2, 2, 4, 4, 2, 4, 2, 2, 2, 2, 9, 2, 2, 4, 4, 4, 6, 2, 2, 2, 2, 2, 2, 2, 2, 2, 2, 2, 2, 2, 2, 2, 2, 2, 2, 2, 2, 2, 2, 2, 11, 11, 4, 2, 4, 10, 2, 4, 13, 4, 4, 4, 4, 2, 2, 9, 4, 9, 4, 4, 6, 11, 2, 2, 11, 11, 4, 4, 4, 4, 4, 4, 4, 4, 4, 4, 4, 4, 4, 4, 10, 14, 8, 4, 2, 8, 8, 11, 4, 11, 9, 4, 7, 11, 11, 2, 11, 11, 12, 2, 16, 11, 4, 12, 4, 11, 4, 4, 3, 11, 4, 13, 16, 7, 4, 4, 4, 14, 4, 14, 11, 14, 14, 14, 8, 11, 4, 14, 16, 11, 11, 2, 14, 14, 14, 14, 14, 11, 4, 11, 11, 12, 9, 9, 4, 11, 14, 11, 11, 9, 14, 16, 14, 14, 14, 16, 14, 16, 11, 11, 9, 14, 23, 11, 11, 11, 11, 11, 11, 11, 11, 16, 14, 9, 14, 11, 4, 21, 11, 14, 23, 14, 11, 16, 4, 14, 11, 14, 14, 14, 14, 14, 14, 14, 14, 9, 14, 11, 11, 4, 11, 16, 16, 21, 21, 16, 21, 18, 23, 16, 14, 14, 16, 16, 16, 16, 16, 16, 16, 16, 16, 16, 21, 21, 14, 16, 23, 14, 23, 16, 9, 9, 16, 14, 16, 21, 14, 18, 16, 11, 23, 21, 23, 23, 23, 23, 21, 21, 21, 21, 21, 21, 21, 21, 21, 21, 21, 21, 23, 21, 22, 11, 23, 23, 23, 14, 21, 26, 23, 23, 23, 23, 23, 23, 23, 23, 23, 21, 21, 16, 21, 23, 23, 35, 74, 2, 6, 2, 2, 2, 4, 2, 2, 3, 4, 3, 4, 3, 4, 2, 2, 4, 1, 4, 2, 2, 4, 2, 2, 2, 4, 2, 2, 2, 2, 2, 4, 1, 2, 2, 4, 4, 2, 2, 2, 4, 5, 4, 14, 3, 4, 4, 2, 4, 4, 4, 2, 2, 4, 2, 4, 9, 11, 2, 2, 2, 2, 2, 2, 2, 2, 2, 2, 2, 9, 3, 3, 4, 2, 12, 2, 9, 14, 4, 4, 4, 4, 4, 4, 4, 4, 4, 4, 4, 4, 11, 13, 9, 11, 2, 7, 8, 2, 11, 4, 14, 11, 7, 7, 11, 10, 14, 14, 14, 2, 11, 14, 9, 16, 14, 4, 14, 16, 4, 14, 11, 14, 15, 16, 16, 11, 11, 11, 11, 2, 2, 16, 16, 16, 16, 16, 14, 23, 11, 20, 4, 11, 11, 13, 16, 14, 14, 14, 14, 14, 17, 14, 16, 21, 16, 16, 16, 16, 16, 16, 11, 21, 23, 23, 14, 16, 16, 21, 21, 23, 21, 21, 21, 21, 25, 21, 21, 23, 21, 14, 23, 23, 23, 23, 23, 23, 16, 21, 39, 72]}],                        {\"legend\": {\"bgcolor\": \"#F5F6F9\", \"font\": {\"color\": \"#4D5663\"}}, \"paper_bgcolor\": \"#F5F6F9\", \"plot_bgcolor\": \"#F5F6F9\", \"template\": {\"data\": {\"bar\": [{\"error_x\": {\"color\": \"#2a3f5f\"}, \"error_y\": {\"color\": \"#2a3f5f\"}, \"marker\": {\"line\": {\"color\": \"#E5ECF6\", \"width\": 0.5}}, \"type\": \"bar\"}], \"barpolar\": [{\"marker\": {\"line\": {\"color\": \"#E5ECF6\", \"width\": 0.5}}, \"type\": \"barpolar\"}], \"carpet\": [{\"aaxis\": {\"endlinecolor\": \"#2a3f5f\", \"gridcolor\": \"white\", \"linecolor\": \"white\", \"minorgridcolor\": \"white\", \"startlinecolor\": \"#2a3f5f\"}, \"baxis\": {\"endlinecolor\": \"#2a3f5f\", \"gridcolor\": \"white\", \"linecolor\": \"white\", \"minorgridcolor\": \"white\", \"startlinecolor\": \"#2a3f5f\"}, \"type\": \"carpet\"}], \"choropleth\": [{\"colorbar\": {\"outlinewidth\": 0, \"ticks\": \"\"}, \"type\": \"choropleth\"}], \"contour\": [{\"colorbar\": {\"outlinewidth\": 0, \"ticks\": \"\"}, \"colorscale\": [[0.0, \"#0d0887\"], [0.1111111111111111, \"#46039f\"], [0.2222222222222222, \"#7201a8\"], [0.3333333333333333, \"#9c179e\"], [0.4444444444444444, \"#bd3786\"], [0.5555555555555556, \"#d8576b\"], [0.6666666666666666, \"#ed7953\"], [0.7777777777777778, \"#fb9f3a\"], [0.8888888888888888, \"#fdca26\"], [1.0, \"#f0f921\"]], \"type\": \"contour\"}], \"contourcarpet\": [{\"colorbar\": {\"outlinewidth\": 0, \"ticks\": \"\"}, \"type\": \"contourcarpet\"}], \"heatmap\": [{\"colorbar\": {\"outlinewidth\": 0, \"ticks\": \"\"}, \"colorscale\": [[0.0, \"#0d0887\"], [0.1111111111111111, \"#46039f\"], [0.2222222222222222, \"#7201a8\"], [0.3333333333333333, \"#9c179e\"], [0.4444444444444444, \"#bd3786\"], [0.5555555555555556, \"#d8576b\"], [0.6666666666666666, \"#ed7953\"], [0.7777777777777778, \"#fb9f3a\"], [0.8888888888888888, \"#fdca26\"], [1.0, \"#f0f921\"]], \"type\": \"heatmap\"}], \"heatmapgl\": [{\"colorbar\": {\"outlinewidth\": 0, \"ticks\": \"\"}, \"colorscale\": [[0.0, \"#0d0887\"], [0.1111111111111111, \"#46039f\"], [0.2222222222222222, \"#7201a8\"], [0.3333333333333333, \"#9c179e\"], [0.4444444444444444, \"#bd3786\"], [0.5555555555555556, \"#d8576b\"], [0.6666666666666666, \"#ed7953\"], [0.7777777777777778, \"#fb9f3a\"], [0.8888888888888888, \"#fdca26\"], [1.0, \"#f0f921\"]], \"type\": \"heatmapgl\"}], \"histogram\": [{\"marker\": {\"colorbar\": {\"outlinewidth\": 0, \"ticks\": \"\"}}, \"type\": \"histogram\"}], \"histogram2d\": [{\"colorbar\": {\"outlinewidth\": 0, \"ticks\": \"\"}, \"colorscale\": [[0.0, \"#0d0887\"], [0.1111111111111111, \"#46039f\"], [0.2222222222222222, \"#7201a8\"], [0.3333333333333333, \"#9c179e\"], [0.4444444444444444, \"#bd3786\"], [0.5555555555555556, \"#d8576b\"], [0.6666666666666666, \"#ed7953\"], [0.7777777777777778, \"#fb9f3a\"], [0.8888888888888888, \"#fdca26\"], [1.0, \"#f0f921\"]], \"type\": \"histogram2d\"}], \"histogram2dcontour\": [{\"colorbar\": {\"outlinewidth\": 0, \"ticks\": \"\"}, \"colorscale\": [[0.0, \"#0d0887\"], [0.1111111111111111, \"#46039f\"], [0.2222222222222222, \"#7201a8\"], [0.3333333333333333, \"#9c179e\"], [0.4444444444444444, \"#bd3786\"], [0.5555555555555556, \"#d8576b\"], [0.6666666666666666, \"#ed7953\"], [0.7777777777777778, \"#fb9f3a\"], [0.8888888888888888, \"#fdca26\"], [1.0, \"#f0f921\"]], \"type\": \"histogram2dcontour\"}], \"mesh3d\": [{\"colorbar\": {\"outlinewidth\": 0, \"ticks\": \"\"}, \"type\": \"mesh3d\"}], \"parcoords\": [{\"line\": {\"colorbar\": {\"outlinewidth\": 0, \"ticks\": \"\"}}, \"type\": \"parcoords\"}], \"pie\": [{\"automargin\": true, \"type\": \"pie\"}], \"scatter\": [{\"marker\": {\"colorbar\": {\"outlinewidth\": 0, \"ticks\": \"\"}}, \"type\": \"scatter\"}], \"scatter3d\": [{\"line\": {\"colorbar\": {\"outlinewidth\": 0, \"ticks\": \"\"}}, \"marker\": {\"colorbar\": {\"outlinewidth\": 0, \"ticks\": \"\"}}, \"type\": \"scatter3d\"}], \"scattercarpet\": [{\"marker\": {\"colorbar\": {\"outlinewidth\": 0, \"ticks\": \"\"}}, \"type\": \"scattercarpet\"}], \"scattergeo\": [{\"marker\": {\"colorbar\": {\"outlinewidth\": 0, \"ticks\": \"\"}}, \"type\": \"scattergeo\"}], \"scattergl\": [{\"marker\": {\"colorbar\": {\"outlinewidth\": 0, \"ticks\": \"\"}}, \"type\": \"scattergl\"}], \"scattermapbox\": [{\"marker\": {\"colorbar\": {\"outlinewidth\": 0, \"ticks\": \"\"}}, \"type\": \"scattermapbox\"}], \"scatterpolar\": [{\"marker\": {\"colorbar\": {\"outlinewidth\": 0, \"ticks\": \"\"}}, \"type\": \"scatterpolar\"}], \"scatterpolargl\": [{\"marker\": {\"colorbar\": {\"outlinewidth\": 0, \"ticks\": \"\"}}, \"type\": \"scatterpolargl\"}], \"scatterternary\": [{\"marker\": {\"colorbar\": {\"outlinewidth\": 0, \"ticks\": \"\"}}, \"type\": \"scatterternary\"}], \"surface\": [{\"colorbar\": {\"outlinewidth\": 0, \"ticks\": \"\"}, \"colorscale\": [[0.0, \"#0d0887\"], [0.1111111111111111, \"#46039f\"], [0.2222222222222222, \"#7201a8\"], [0.3333333333333333, \"#9c179e\"], [0.4444444444444444, \"#bd3786\"], [0.5555555555555556, \"#d8576b\"], [0.6666666666666666, \"#ed7953\"], [0.7777777777777778, \"#fb9f3a\"], [0.8888888888888888, \"#fdca26\"], [1.0, \"#f0f921\"]], \"type\": \"surface\"}], \"table\": [{\"cells\": {\"fill\": {\"color\": \"#EBF0F8\"}, \"line\": {\"color\": \"white\"}}, \"header\": {\"fill\": {\"color\": \"#C8D4E3\"}, \"line\": {\"color\": \"white\"}}, \"type\": \"table\"}]}, \"layout\": {\"annotationdefaults\": {\"arrowcolor\": \"#2a3f5f\", \"arrowhead\": 0, \"arrowwidth\": 1}, \"autotypenumbers\": \"strict\", \"coloraxis\": {\"colorbar\": {\"outlinewidth\": 0, \"ticks\": \"\"}}, \"colorscale\": {\"diverging\": [[0, \"#8e0152\"], [0.1, \"#c51b7d\"], [0.2, \"#de77ae\"], [0.3, \"#f1b6da\"], [0.4, \"#fde0ef\"], [0.5, \"#f7f7f7\"], [0.6, \"#e6f5d0\"], [0.7, \"#b8e186\"], [0.8, \"#7fbc41\"], [0.9, \"#4d9221\"], [1, \"#276419\"]], \"sequential\": [[0.0, \"#0d0887\"], [0.1111111111111111, \"#46039f\"], [0.2222222222222222, \"#7201a8\"], [0.3333333333333333, \"#9c179e\"], [0.4444444444444444, \"#bd3786\"], [0.5555555555555556, \"#d8576b\"], [0.6666666666666666, \"#ed7953\"], [0.7777777777777778, \"#fb9f3a\"], [0.8888888888888888, \"#fdca26\"], [1.0, \"#f0f921\"]], \"sequentialminus\": [[0.0, \"#0d0887\"], [0.1111111111111111, \"#46039f\"], [0.2222222222222222, \"#7201a8\"], [0.3333333333333333, \"#9c179e\"], [0.4444444444444444, \"#bd3786\"], [0.5555555555555556, \"#d8576b\"], [0.6666666666666666, \"#ed7953\"], [0.7777777777777778, \"#fb9f3a\"], [0.8888888888888888, \"#fdca26\"], [1.0, \"#f0f921\"]]}, \"colorway\": [\"#636efa\", \"#EF553B\", \"#00cc96\", \"#ab63fa\", \"#FFA15A\", \"#19d3f3\", \"#FF6692\", \"#B6E880\", \"#FF97FF\", \"#FECB52\"], \"font\": {\"color\": \"#2a3f5f\"}, \"geo\": {\"bgcolor\": \"white\", \"lakecolor\": \"white\", \"landcolor\": \"#E5ECF6\", \"showlakes\": true, \"showland\": true, \"subunitcolor\": \"white\"}, \"hoverlabel\": {\"align\": \"left\"}, \"hovermode\": \"closest\", \"mapbox\": {\"style\": \"light\"}, \"paper_bgcolor\": \"white\", \"plot_bgcolor\": \"#E5ECF6\", \"polar\": {\"angularaxis\": {\"gridcolor\": \"white\", \"linecolor\": \"white\", \"ticks\": \"\"}, \"bgcolor\": \"#E5ECF6\", \"radialaxis\": {\"gridcolor\": \"white\", \"linecolor\": \"white\", \"ticks\": \"\"}}, \"scene\": {\"xaxis\": {\"backgroundcolor\": \"#E5ECF6\", \"gridcolor\": \"white\", \"gridwidth\": 2, \"linecolor\": \"white\", \"showbackground\": true, \"ticks\": \"\", \"zerolinecolor\": \"white\"}, \"yaxis\": {\"backgroundcolor\": \"#E5ECF6\", \"gridcolor\": \"white\", \"gridwidth\": 2, \"linecolor\": \"white\", \"showbackground\": true, \"ticks\": \"\", \"zerolinecolor\": \"white\"}, \"zaxis\": {\"backgroundcolor\": \"#E5ECF6\", \"gridcolor\": \"white\", \"gridwidth\": 2, \"linecolor\": \"white\", \"showbackground\": true, \"ticks\": \"\", \"zerolinecolor\": \"white\"}}, \"shapedefaults\": {\"line\": {\"color\": \"#2a3f5f\"}}, \"ternary\": {\"aaxis\": {\"gridcolor\": \"white\", \"linecolor\": \"white\", \"ticks\": \"\"}, \"baxis\": {\"gridcolor\": \"white\", \"linecolor\": \"white\", \"ticks\": \"\"}, \"bgcolor\": \"#E5ECF6\", \"caxis\": {\"gridcolor\": \"white\", \"linecolor\": \"white\", \"ticks\": \"\"}}, \"title\": {\"x\": 0.05}, \"xaxis\": {\"automargin\": true, \"gridcolor\": \"white\", \"linecolor\": \"white\", \"ticks\": \"\", \"title\": {\"standoff\": 15}, \"zerolinecolor\": \"white\", \"zerolinewidth\": 2}, \"yaxis\": {\"automargin\": true, \"gridcolor\": \"white\", \"linecolor\": \"white\", \"ticks\": \"\", \"title\": {\"standoff\": 15}, \"zerolinecolor\": \"white\", \"zerolinewidth\": 2}}}, \"title\": {\"font\": {\"color\": \"#4D5663\"}}, \"xaxis\": {\"gridcolor\": \"#E1E5ED\", \"showgrid\": true, \"tickfont\": {\"color\": \"#4D5663\"}, \"title\": {\"font\": {\"color\": \"#4D5663\"}, \"text\": \"\"}, \"zerolinecolor\": \"#E1E5ED\"}, \"yaxis\": {\"gridcolor\": \"#E1E5ED\", \"showgrid\": true, \"tickfont\": {\"color\": \"#4D5663\"}, \"title\": {\"font\": {\"color\": \"#4D5663\"}, \"text\": \"\"}, \"zerolinecolor\": \"#E1E5ED\"}},                        {\"showLink\": true, \"linkText\": \"Export to plot.ly\", \"plotlyServerURL\": \"https://plot.ly\", \"responsive\": true}                    ).then(function(){\n",
       "                            \n",
       "var gd = document.getElementById('82ed9583-214a-43a7-bd55-b4a158450941');\n",
       "var x = new MutationObserver(function (mutations, observer) {{\n",
       "        var display = window.getComputedStyle(gd).display;\n",
       "        if (!display || display === 'none') {{\n",
       "            console.log([gd, 'removed!']);\n",
       "            Plotly.purge(gd);\n",
       "            observer.disconnect();\n",
       "        }}\n",
       "}});\n",
       "\n",
       "// Listen for the removal of the full notebook cells\n",
       "var notebookContainer = gd.closest('#notebook-container');\n",
       "if (notebookContainer) {{\n",
       "    x.observe(notebookContainer, {childList: true});\n",
       "}}\n",
       "\n",
       "// Listen for the clearing of the current output cell\n",
       "var outputEl = gd.closest('.output');\n",
       "if (outputEl) {{\n",
       "    x.observe(outputEl, {childList: true});\n",
       "}}\n",
       "\n",
       "                        })                };                });            </script>        </div>"
      ]
     },
     "metadata": {},
     "output_type": "display_data"
    }
   ],
   "source": [
    "df[[\"Months since First Donation\",\"Months since Last Donation\"]].iplot(kind='box')"
   ]
  },
  {
   "cell_type": "markdown",
   "metadata": {},
   "source": [
    "## Box plot between No. of donations and Per target (0 1)"
   ]
  },
  {
   "cell_type": "code",
   "execution_count": 12,
   "metadata": {},
   "outputs": [
    {
     "data": {
      "text/plain": [
       "<AxesSubplot:xlabel='Made Donation in March 2007', ylabel='Number of Donations'>"
      ]
     },
     "execution_count": 12,
     "metadata": {},
     "output_type": "execute_result"
    },
    {
     "data": {
      "image/png": "[encoded data removed]",
      "text/plain": [
       "<Figure size 400x700 with 1 Axes>"
      ]
     },
     "metadata": {},
     "output_type": "display_data"
    }
   ],
   "source": [
    "fig = plt.figure(figsize=(4,7), dpi=100)\n",
    "sns.boxplot(x=\"Made Donation in March 2007\", y=\"Number of Donations\",data=df)"
   ]
  },
  {
   "cell_type": "markdown",
   "metadata": {},
   "source": [
    "## Pair Plot"
   ]
  },
  {
   "cell_type": "code",
   "execution_count": 13,
   "metadata": {},
   "outputs": [
    {
     "data": {
      "text/plain": [
       "<seaborn.axisgrid.PairGrid at 0x7fa6fb149ee0>"
      ]
     },
     "execution_count": 13,
     "metadata": {},
     "output_type": "execute_result"
    },
    {
     "data": {
      "image/png": "[encoded data removed]",
      "text/plain": [
       "<Figure size 1069.05x900 with 30 Axes>"
      ]
     },
     "metadata": {},
     "output_type": "display_data"
    }
   ],
   "source": [
    "sns.pairplot(df,hue=\"Made Donation in March 2007\")"
   ]
  },
  {
   "cell_type": "markdown",
   "metadata": {},
   "source": [
    "## Join plot between Number of Donations and Total Volume Donated"
   ]
  },
  {
   "cell_type": "code",
   "execution_count": 14,
   "metadata": {},
   "outputs": [
    {
     "data": {
      "text/plain": [
       "<seaborn.axisgrid.JointGrid at 0x7fa6fcc04ac0>"
      ]
     },
     "execution_count": 14,
     "metadata": {},
     "output_type": "execute_result"
    },
    {
     "data": {
      "image/png": "[encoded data removed]",
      "text/plain": [
       "<Figure size 432x432 with 3 Axes>"
      ]
     },
     "metadata": {},
     "output_type": "display_data"
    }
   ],
   "source": [
    "sns.jointplot(x='Number of Donations',y='Total Volume Donated (c.c.)',data=df,hue=\"Made Donation in March 2007\")"
   ]
  },
  {
   "cell_type": "markdown",
   "metadata": {},
   "source": [
    "### The below shows the comparision between the F1 scores and accuracy of the models made for this data \n",
    "**As the data is unbalanced the F1 score of 1 is very low so we will balance the data first to make the accurate model** "
   ]
  },
  {
   "cell_type": "code",
   "execution_count": 73,
   "metadata": {},
   "outputs": [
    {
     "data": {
      "text/html": [
       "<div>\n",
       "<style scoped>\n",
       "    .dataframe tbody tr th:only-of-type {\n",
       "        vertical-align: middle;\n",
       "    }\n",
       "\n",
       "    .dataframe tbody tr th {\n",
       "        vertical-align: top;\n",
       "    }\n",
       "\n",
       "    .dataframe thead th {\n",
       "        text-align: right;\n",
       "    }\n",
       "</style>\n",
       "<table border=\"1\" class=\"dataframe\">\n",
       "  <thead>\n",
       "    <tr style=\"text-align: right;\">\n",
       "      <th></th>\n",
       "      <th>Model</th>\n",
       "      <th>Accuracy</th>\n",
       "      <th>F1-score 0</th>\n",
       "      <th>F1-score 1</th>\n",
       "    </tr>\n",
       "  </thead>\n",
       "  <tbody>\n",
       "    <tr>\n",
       "      <th>0</th>\n",
       "      <td>LR</td>\n",
       "      <td>74</td>\n",
       "      <td>85</td>\n",
       "      <td>21</td>\n",
       "    </tr>\n",
       "    <tr>\n",
       "      <th>1</th>\n",
       "      <td>KNN</td>\n",
       "      <td>74</td>\n",
       "      <td>84</td>\n",
       "      <td>38</td>\n",
       "    </tr>\n",
       "    <tr>\n",
       "      <th>2</th>\n",
       "      <td>RF</td>\n",
       "      <td>77</td>\n",
       "      <td>86</td>\n",
       "      <td>34</td>\n",
       "    </tr>\n",
       "    <tr>\n",
       "      <th>3</th>\n",
       "      <td>SVC</td>\n",
       "      <td>72</td>\n",
       "      <td>84</td>\n",
       "      <td>6</td>\n",
       "    </tr>\n",
       "    <tr>\n",
       "      <th>4</th>\n",
       "      <td>NB</td>\n",
       "      <td>73</td>\n",
       "      <td>85</td>\n",
       "      <td>0</td>\n",
       "    </tr>\n",
       "  </tbody>\n",
       "</table>\n",
       "</div>"
      ],
      "text/plain": [
       "  Model  Accuracy  F1-score 0  F1-score 1\n",
       "0    LR        74          85          21\n",
       "1   KNN        74          84          38\n",
       "2    RF        77          86          34\n",
       "3   SVC        72          84           6\n",
       "4    NB        73          85           0"
      ]
     },
     "execution_count": 73,
     "metadata": {},
     "output_type": "execute_result"
    }
   ],
   "source": [
    "pf=pd.read_excel(\"ACCURACY.xlsx\")\n",
    "pf.head()"
   ]
  },
  {
   "cell_type": "code",
   "execution_count": 74,
   "metadata": {},
   "outputs": [
    {
     "data": {
      "text/plain": [
       "<matplotlib.legend.Legend at 0x7fa6e3bb3fa0>"
      ]
     },
     "execution_count": 74,
     "metadata": {},
     "output_type": "execute_result"
    },
    {
     "data": {
      "image/png": "[encoded data removed]",
      "text/plain": [
       "<Figure size 1000x600 with 1 Axes>"
      ]
     },
     "metadata": {},
     "output_type": "display_data"
    }
   ],
   "source": [
    "fig = plt.figure(figsize=(10,6), dpi=100)\n",
    "ax = fig.add_axes([0,0,1,1])\n",
    "\n",
    "ax.plot(pf.Model, pf['F1-score 0'],label=\"F1-score 0\",marker='o')\n",
    "ax.plot(pf.Model, pf.Accuracy,label=\"Accuracy\",marker='o')\n",
    "ax.plot(pf.Model, pf['F1-score 1'],label=\"F1-score 1\",marker='o')\n",
    "ax.plot()\n",
    "ax.legend()"
   ]
  },
  {
   "cell_type": "markdown",
   "metadata": {},
   "source": [
    "### After balancing the data "
   ]
  },
  {
   "cell_type": "code",
   "execution_count": 67,
   "metadata": {},
   "outputs": [
    {
     "data": {
      "text/html": [
       "<div>\n",
       "<style scoped>\n",
       "    .dataframe tbody tr th:only-of-type {\n",
       "        vertical-align: middle;\n",
       "    }\n",
       "\n",
       "    .dataframe tbody tr th {\n",
       "        vertical-align: top;\n",
       "    }\n",
       "\n",
       "    .dataframe thead th {\n",
       "        text-align: right;\n",
       "    }\n",
       "</style>\n",
       "<table border=\"1\" class=\"dataframe\">\n",
       "  <thead>\n",
       "    <tr style=\"text-align: right;\">\n",
       "      <th></th>\n",
       "      <th>Model</th>\n",
       "      <th>Accuracy</th>\n",
       "      <th>F1- score 0</th>\n",
       "      <th>F1- score 1</th>\n",
       "    </tr>\n",
       "  </thead>\n",
       "  <tbody>\n",
       "    <tr>\n",
       "      <th>0</th>\n",
       "      <td>LR (Oversampling)</td>\n",
       "      <td>65</td>\n",
       "      <td>64</td>\n",
       "      <td>66</td>\n",
       "    </tr>\n",
       "    <tr>\n",
       "      <th>1</th>\n",
       "      <td>RF (Oversampling)</td>\n",
       "      <td>83</td>\n",
       "      <td>81</td>\n",
       "      <td>79</td>\n",
       "    </tr>\n",
       "    <tr>\n",
       "      <th>2</th>\n",
       "      <td>LR(Ensembling)</td>\n",
       "      <td>59</td>\n",
       "      <td>68</td>\n",
       "      <td>45</td>\n",
       "    </tr>\n",
       "    <tr>\n",
       "      <th>3</th>\n",
       "      <td>RF (Ensembling)</td>\n",
       "      <td>66</td>\n",
       "      <td>75</td>\n",
       "      <td>46</td>\n",
       "    </tr>\n",
       "  </tbody>\n",
       "</table>\n",
       "</div>"
      ],
      "text/plain": [
       "               Model  Accuracy  F1- score 0  F1- score 1\n",
       "0  LR (Oversampling)        65           64           66\n",
       "1  RF (Oversampling)        83           81           79\n",
       "2     LR(Ensembling)        59           68           45\n",
       "3    RF (Ensembling)        66           75           46"
      ]
     },
     "execution_count": 67,
     "metadata": {},
     "output_type": "execute_result"
    }
   ],
   "source": [
    "bf=pd.read_excel(\"Balanced.xlsx\")\n",
    "bf.head()"
   ]
  },
  {
   "cell_type": "code",
   "execution_count": 71,
   "metadata": {},
   "outputs": [
    {
     "data": {
      "text/plain": [
       "[]"
      ]
     },
     "execution_count": 71,
     "metadata": {},
     "output_type": "execute_result"
    },
    {
     "data": {
      "image/png": "[encoded data removed]",
      "text/plain": [
       "<Figure size 1000x600 with 1 Axes>"
      ]
     },
     "metadata": {},
     "output_type": "display_data"
    }
   ],
   "source": [
    "fig = plt.figure(figsize=(10,6), dpi=100)\n",
    "ax = fig.add_axes([0,0,1,1])\n",
    "\n",
    "ax.plot(bf.Model, pf['F1- score 0'],label=\"F1-score 0\",marker='o')\n",
    "ax.plot(bf.Model, pf.Accuracy,label=\"Accuracy\",marker='o')\n",
    "ax.plot(bf.Model, pf['F1- score 1'],label=\"F1-score 1\",marker='o')\n",
    "ax.legend()\n",
    "ax.plot()"
   ]
  },
  {
   "cell_type": "markdown",
   "metadata": {},
   "source": [
    "# Normalizing the values"
   ]
  },
  {
   "cell_type": "code",
   "execution_count": 15,
   "metadata": {},
   "outputs": [
    {
     "data": {
      "text/html": [
       "<div>\n",
       "<style scoped>\n",
       "    .dataframe tbody tr th:only-of-type {\n",
       "        vertical-align: middle;\n",
       "    }\n",
       "\n",
       "    .dataframe tbody tr th {\n",
       "        vertical-align: top;\n",
       "    }\n",
       "\n",
       "    .dataframe thead th {\n",
       "        text-align: right;\n",
       "    }\n",
       "</style>\n",
       "<table border=\"1\" class=\"dataframe\">\n",
       "  <thead>\n",
       "    <tr style=\"text-align: right;\">\n",
       "      <th></th>\n",
       "      <th>Unnamed: 0</th>\n",
       "      <th>Months since Last Donation</th>\n",
       "      <th>Number of Donations</th>\n",
       "      <th>Total Volume Donated (c.c.)</th>\n",
       "      <th>Months since First Donation</th>\n",
       "      <th>Made Donation in March 2007</th>\n",
       "    </tr>\n",
       "  </thead>\n",
       "  <tbody>\n",
       "    <tr>\n",
       "      <th>0</th>\n",
       "      <td>0.828648</td>\n",
       "      <td>0.027027</td>\n",
       "      <td>1.000000</td>\n",
       "      <td>1.000000</td>\n",
       "      <td>1.000000</td>\n",
       "      <td>1.0</td>\n",
       "    </tr>\n",
       "    <tr>\n",
       "      <th>1</th>\n",
       "      <td>0.888889</td>\n",
       "      <td>0.000000</td>\n",
       "      <td>0.244898</td>\n",
       "      <td>0.244898</td>\n",
       "      <td>0.270833</td>\n",
       "      <td>1.0</td>\n",
       "    </tr>\n",
       "    <tr>\n",
       "      <th>2</th>\n",
       "      <td>0.590361</td>\n",
       "      <td>0.013514</td>\n",
       "      <td>0.306122</td>\n",
       "      <td>0.306122</td>\n",
       "      <td>0.343750</td>\n",
       "      <td>1.0</td>\n",
       "    </tr>\n",
       "    <tr>\n",
       "      <th>3</th>\n",
       "      <td>0.214190</td>\n",
       "      <td>0.027027</td>\n",
       "      <td>0.387755</td>\n",
       "      <td>0.387755</td>\n",
       "      <td>0.447917</td>\n",
       "      <td>1.0</td>\n",
       "    </tr>\n",
       "    <tr>\n",
       "      <th>4</th>\n",
       "      <td>0.479250</td>\n",
       "      <td>0.013514</td>\n",
       "      <td>0.469388</td>\n",
       "      <td>0.469388</td>\n",
       "      <td>0.781250</td>\n",
       "      <td>0.0</td>\n",
       "    </tr>\n",
       "  </tbody>\n",
       "</table>\n",
       "</div>"
      ],
      "text/plain": [
       "   Unnamed: 0  Months since Last Donation  Number of Donations  \\\n",
       "0    0.828648                    0.027027             1.000000   \n",
       "1    0.888889                    0.000000             0.244898   \n",
       "2    0.590361                    0.013514             0.306122   \n",
       "3    0.214190                    0.027027             0.387755   \n",
       "4    0.479250                    0.013514             0.469388   \n",
       "\n",
       "   Total Volume Donated (c.c.)  Months since First Donation  \\\n",
       "0                     1.000000                     1.000000   \n",
       "1                     0.244898                     0.270833   \n",
       "2                     0.306122                     0.343750   \n",
       "3                     0.387755                     0.447917   \n",
       "4                     0.469388                     0.781250   \n",
       "\n",
       "   Made Donation in March 2007  \n",
       "0                          1.0  \n",
       "1                          1.0  \n",
       "2                          1.0  \n",
       "3                          1.0  \n",
       "4                          0.0  "
      ]
     },
     "execution_count": 15,
     "metadata": {},
     "output_type": "execute_result"
    }
   ],
   "source": [
    "from sklearn import preprocessing\n",
    "import pandas as pd\n",
    "scaler = preprocessing.MinMaxScaler(feature_range=(0, 1))\n",
    "names = df.columns\n",
    "d = scaler.fit_transform(df)\n",
    "df_new = pd.DataFrame(d, columns=names)\n",
    "df_new.head()"
   ]
  },
  {
   "cell_type": "markdown",
   "metadata": {},
   "source": [
    "# Giving names to the headers"
   ]
  },
  {
   "cell_type": "code",
   "execution_count": 16,
   "metadata": {},
   "outputs": [],
   "source": [
    "df_new.columns = [\"Unnamed: 0\", \"Months since Last Donation\", \"Number of Donations\", \"Total Volume Donated (c.c.)\",\"Months since First Donation\",\"Made Donation in March 2007\"]"
   ]
  },
  {
   "cell_type": "code",
   "execution_count": 17,
   "metadata": {},
   "outputs": [
    {
     "data": {
      "text/html": [
       "<div>\n",
       "<style scoped>\n",
       "    .dataframe tbody tr th:only-of-type {\n",
       "        vertical-align: middle;\n",
       "    }\n",
       "\n",
       "    .dataframe tbody tr th {\n",
       "        vertical-align: top;\n",
       "    }\n",
       "\n",
       "    .dataframe thead th {\n",
       "        text-align: right;\n",
       "    }\n",
       "</style>\n",
       "<table border=\"1\" class=\"dataframe\">\n",
       "  <thead>\n",
       "    <tr style=\"text-align: right;\">\n",
       "      <th></th>\n",
       "      <th>Unnamed: 0</th>\n",
       "      <th>Months since Last Donation</th>\n",
       "      <th>Number of Donations</th>\n",
       "      <th>Total Volume Donated (c.c.)</th>\n",
       "      <th>Months since First Donation</th>\n",
       "      <th>Made Donation in March 2007</th>\n",
       "    </tr>\n",
       "  </thead>\n",
       "  <tbody>\n",
       "    <tr>\n",
       "      <th>0</th>\n",
       "      <td>0.828648</td>\n",
       "      <td>0.027027</td>\n",
       "      <td>1.000000</td>\n",
       "      <td>1.000000</td>\n",
       "      <td>1.000000</td>\n",
       "      <td>1.0</td>\n",
       "    </tr>\n",
       "    <tr>\n",
       "      <th>1</th>\n",
       "      <td>0.888889</td>\n",
       "      <td>0.000000</td>\n",
       "      <td>0.244898</td>\n",
       "      <td>0.244898</td>\n",
       "      <td>0.270833</td>\n",
       "      <td>1.0</td>\n",
       "    </tr>\n",
       "    <tr>\n",
       "      <th>2</th>\n",
       "      <td>0.590361</td>\n",
       "      <td>0.013514</td>\n",
       "      <td>0.306122</td>\n",
       "      <td>0.306122</td>\n",
       "      <td>0.343750</td>\n",
       "      <td>1.0</td>\n",
       "    </tr>\n",
       "    <tr>\n",
       "      <th>3</th>\n",
       "      <td>0.214190</td>\n",
       "      <td>0.027027</td>\n",
       "      <td>0.387755</td>\n",
       "      <td>0.387755</td>\n",
       "      <td>0.447917</td>\n",
       "      <td>1.0</td>\n",
       "    </tr>\n",
       "    <tr>\n",
       "      <th>4</th>\n",
       "      <td>0.479250</td>\n",
       "      <td>0.013514</td>\n",
       "      <td>0.469388</td>\n",
       "      <td>0.469388</td>\n",
       "      <td>0.781250</td>\n",
       "      <td>0.0</td>\n",
       "    </tr>\n",
       "  </tbody>\n",
       "</table>\n",
       "</div>"
      ],
      "text/plain": [
       "   Unnamed: 0  Months since Last Donation  Number of Donations  \\\n",
       "0    0.828648                    0.027027             1.000000   \n",
       "1    0.888889                    0.000000             0.244898   \n",
       "2    0.590361                    0.013514             0.306122   \n",
       "3    0.214190                    0.027027             0.387755   \n",
       "4    0.479250                    0.013514             0.469388   \n",
       "\n",
       "   Total Volume Donated (c.c.)  Months since First Donation  \\\n",
       "0                     1.000000                     1.000000   \n",
       "1                     0.244898                     0.270833   \n",
       "2                     0.306122                     0.343750   \n",
       "3                     0.387755                     0.447917   \n",
       "4                     0.469388                     0.781250   \n",
       "\n",
       "   Made Donation in March 2007  \n",
       "0                          1.0  \n",
       "1                          1.0  \n",
       "2                          1.0  \n",
       "3                          1.0  \n",
       "4                          0.0  "
      ]
     },
     "execution_count": 17,
     "metadata": {},
     "output_type": "execute_result"
    }
   ],
   "source": [
    "df_new.head()"
   ]
  },
  {
   "cell_type": "markdown",
   "metadata": {},
   "source": [
    "# Differentiating features and labels"
   ]
  },
  {
   "cell_type": "code",
   "execution_count": 18,
   "metadata": {},
   "outputs": [
    {
     "data": {
      "text/html": [
       "<div>\n",
       "<style scoped>\n",
       "    .dataframe tbody tr th:only-of-type {\n",
       "        vertical-align: middle;\n",
       "    }\n",
       "\n",
       "    .dataframe tbody tr th {\n",
       "        vertical-align: top;\n",
       "    }\n",
       "\n",
       "    .dataframe thead th {\n",
       "        text-align: right;\n",
       "    }\n",
       "</style>\n",
       "<table border=\"1\" class=\"dataframe\">\n",
       "  <thead>\n",
       "    <tr style=\"text-align: right;\">\n",
       "      <th></th>\n",
       "      <th>Months since Last Donation</th>\n",
       "      <th>Number of Donations</th>\n",
       "      <th>Total Volume Donated (c.c.)</th>\n",
       "      <th>Months since First Donation</th>\n",
       "    </tr>\n",
       "  </thead>\n",
       "  <tbody>\n",
       "    <tr>\n",
       "      <th>0</th>\n",
       "      <td>0.027027</td>\n",
       "      <td>1.000000</td>\n",
       "      <td>1.000000</td>\n",
       "      <td>1.000000</td>\n",
       "    </tr>\n",
       "    <tr>\n",
       "      <th>1</th>\n",
       "      <td>0.000000</td>\n",
       "      <td>0.244898</td>\n",
       "      <td>0.244898</td>\n",
       "      <td>0.270833</td>\n",
       "    </tr>\n",
       "  </tbody>\n",
       "</table>\n",
       "</div>"
      ],
      "text/plain": [
       "   Months since Last Donation  Number of Donations  \\\n",
       "0                    0.027027             1.000000   \n",
       "1                    0.000000             0.244898   \n",
       "\n",
       "   Total Volume Donated (c.c.)  Months since First Donation  \n",
       "0                     1.000000                     1.000000  \n",
       "1                     0.244898                     0.270833  "
      ]
     },
     "execution_count": 18,
     "metadata": {},
     "output_type": "execute_result"
    }
   ],
   "source": [
    "X=df_new.iloc[:,1:-1]\n",
    "y=df_new['Made Donation in March 2007']\n",
    "X.head(2)"
   ]
  },
  {
   "cell_type": "markdown",
   "metadata": {},
   "source": [
    "# Trying to balance the data using oversampling"
   ]
  },
  {
   "cell_type": "code",
   "execution_count": 19,
   "metadata": {},
   "outputs": [],
   "source": [
    "class_count_0, class_count_1= df_new[\"Made Donation in March 2007\"].value_counts()\n",
    "class_count_0= df_new[df_new[\"Made Donation in March 2007\"]==0]\n",
    "class_count_1= df_new[df_new[\"Made Donation in March 2007\"]==1]"
   ]
  },
  {
   "cell_type": "code",
   "execution_count": 20,
   "metadata": {},
   "outputs": [],
   "source": [
    "Final_class_1 = class_count_1.sample(438,replace= True) "
   ]
  },
  {
   "cell_type": "code",
   "execution_count": 21,
   "metadata": {},
   "outputs": [],
   "source": [
    "over_sample_df=pd.concat([Final_class_1,class_count_0],axis=0)"
   ]
  },
  {
   "cell_type": "code",
   "execution_count": 22,
   "metadata": {},
   "outputs": [
    {
     "data": {
      "text/plain": [
       "573    0.0\n",
       "574    0.0\n",
       "575    0.0\n",
       "Name: Made Donation in March 2007, dtype: float64"
      ]
     },
     "execution_count": 22,
     "metadata": {},
     "output_type": "execute_result"
    }
   ],
   "source": [
    "X=over_sample_df.iloc[:,1:-1]\n",
    "y=over_sample_df['Made Donation in March 2007']\n",
    "y.tail(3)"
   ]
  },
  {
   "cell_type": "markdown",
   "metadata": {},
   "source": [
    "# Spliting the data "
   ]
  },
  {
   "cell_type": "code",
   "execution_count": 23,
   "metadata": {},
   "outputs": [],
   "source": [
    "from sklearn.model_selection import train_test_split\n",
    "X_train,X_test,y_train,y_test=train_test_split(X,y,test_size=0.2,random_state=15)"
   ]
  },
  {
   "cell_type": "markdown",
   "metadata": {},
   "source": [
    "# Modeling"
   ]
  },
  {
   "cell_type": "code",
   "execution_count": 28,
   "metadata": {},
   "outputs": [
    {
     "data": {
      "text/plain": [
       "0.7670454545454546"
      ]
     },
     "execution_count": 28,
     "metadata": {},
     "output_type": "execute_result"
    }
   ],
   "source": [
    "from sklearn.ensemble import RandomForestClassifier\n",
    "from sklearn.metrics import accuracy_score\n",
    "model=RandomForestClassifier(\n",
    "random_state=15,\n",
    "n_estimators=40, #no. of trees to make\n",
    "    max_depth=5\n",
    ")\n",
    "#Fitting the model\n",
    "model.fit(X_train,y_train)\n",
    "#Predicting\n",
    "y_predict= model.predict(X_test)\n",
    "accuracy_score(y_test,y_predict)"
   ]
  },
  {
   "cell_type": "markdown",
   "metadata": {},
   "source": [
    "# Confusion matrix"
   ]
  },
  {
   "cell_type": "code",
   "execution_count": 29,
   "metadata": {},
   "outputs": [
    {
     "data": {
      "text/html": [
       "<div>\n",
       "<style scoped>\n",
       "    .dataframe tbody tr th:only-of-type {\n",
       "        vertical-align: middle;\n",
       "    }\n",
       "\n",
       "    .dataframe tbody tr th {\n",
       "        vertical-align: top;\n",
       "    }\n",
       "\n",
       "    .dataframe thead th {\n",
       "        text-align: right;\n",
       "    }\n",
       "</style>\n",
       "<table border=\"1\" class=\"dataframe\">\n",
       "  <thead>\n",
       "    <tr style=\"text-align: right;\">\n",
       "      <th>col_0</th>\n",
       "      <th>0.0</th>\n",
       "      <th>1.0</th>\n",
       "    </tr>\n",
       "    <tr>\n",
       "      <th>Made Donation in March 2007</th>\n",
       "      <th></th>\n",
       "      <th></th>\n",
       "    </tr>\n",
       "  </thead>\n",
       "  <tbody>\n",
       "    <tr>\n",
       "      <th>0.0</th>\n",
       "      <td>67</td>\n",
       "      <td>28</td>\n",
       "    </tr>\n",
       "    <tr>\n",
       "      <th>1.0</th>\n",
       "      <td>13</td>\n",
       "      <td>68</td>\n",
       "    </tr>\n",
       "  </tbody>\n",
       "</table>\n",
       "</div>"
      ],
      "text/plain": [
       "col_0                        0.0  1.0\n",
       "Made Donation in March 2007          \n",
       "0.0                           67   28\n",
       "1.0                           13   68"
      ]
     },
     "execution_count": 29,
     "metadata": {},
     "output_type": "execute_result"
    }
   ],
   "source": [
    "pd.crosstab(y_test,y_predict)"
   ]
  },
  {
   "cell_type": "markdown",
   "metadata": {},
   "source": [
    "# Classification report"
   ]
  },
  {
   "cell_type": "code",
   "execution_count": 31,
   "metadata": {},
   "outputs": [
    {
     "name": "stdout",
     "output_type": "stream",
     "text": [
      "              precision    recall  f1-score   support\n",
      "\n",
      "         0.0       0.71      0.84      0.77        80\n",
      "         1.0       0.84      0.71      0.77        96\n",
      "\n",
      "    accuracy                           0.77       176\n",
      "   macro avg       0.77      0.77      0.77       176\n",
      "weighted avg       0.78      0.77      0.77       176\n",
      "\n"
     ]
    }
   ],
   "source": [
    "from sklearn.metrics import classification_report\n",
    "print(classification_report(y_predict,y_test))"
   ]
  },
  {
   "cell_type": "markdown",
   "metadata": {},
   "source": [
    "# Grid search"
   ]
  },
  {
   "cell_type": "code",
   "execution_count": 32,
   "metadata": {},
   "outputs": [
    {
     "name": "stdout",
     "output_type": "stream",
     "text": [
      "Fitting 5 folds for each of 252 candidates, totalling 1260 fits\n",
      "[CV] END .....max_depth=3, n_estimators=100, random_state=10; total time=   0.1s\n",
      "[CV] END .....max_depth=3, n_estimators=100, random_state=10; total time=   0.1s\n",
      "[CV] END .....max_depth=3, n_estimators=100, random_state=10; total time=   0.1s\n",
      "[CV] END .....max_depth=3, n_estimators=100, random_state=10; total time=   0.1s\n",
      "[CV] END .....max_depth=3, n_estimators=100, random_state=10; total time=   0.1s\n",
      "[CV] END .....max_depth=3, n_estimators=100, random_state=13; total time=   0.1s\n",
      "[CV] END .....max_depth=3, n_estimators=100, random_state=13; total time=   0.1s\n",
      "[CV] END .....max_depth=3, n_estimators=100, random_state=13; total time=   0.1s\n",
      "[CV] END .....max_depth=3, n_estimators=100, random_state=13; total time=   0.1s\n",
      "[CV] END .....max_depth=3, n_estimators=100, random_state=13; total time=   0.1s\n",
      "[CV] END .....max_depth=3, n_estimators=100, random_state=15; total time=   0.1s\n",
      "[CV] END .....max_depth=3, n_estimators=100, random_state=15; total time=   0.1s\n",
      "[CV] END .....max_depth=3, n_estimators=100, random_state=15; total time=   0.1s\n",
      "[CV] END .....max_depth=3, n_estimators=100, random_state=15; total time=   0.1s\n",
      "[CV] END .....max_depth=3, n_estimators=100, random_state=15; total time=   0.1s\n",
      "[CV] END .....max_depth=3, n_estimators=100, random_state=16; total time=   0.1s\n",
      "[CV] END .....max_depth=3, n_estimators=100, random_state=16; total time=   0.1s\n",
      "[CV] END .....max_depth=3, n_estimators=100, random_state=16; total time=   0.1s\n",
      "[CV] END .....max_depth=3, n_estimators=100, random_state=16; total time=   0.1s\n",
      "[CV] END .....max_depth=3, n_estimators=100, random_state=16; total time=   0.1s\n",
      "[CV] END .....max_depth=3, n_estimators=100, random_state=20; total time=   0.1s\n",
      "[CV] END .....max_depth=3, n_estimators=100, random_state=20; total time=   0.1s\n",
      "[CV] END .....max_depth=3, n_estimators=100, random_state=20; total time=   0.1s\n",
      "[CV] END .....max_depth=3, n_estimators=100, random_state=20; total time=   0.1s\n",
      "[CV] END .....max_depth=3, n_estimators=100, random_state=20; total time=   0.1s\n",
      "[CV] END .....max_depth=3, n_estimators=100, random_state=25; total time=   0.1s\n",
      "[CV] END .....max_depth=3, n_estimators=100, random_state=25; total time=   0.1s\n",
      "[CV] END .....max_depth=3, n_estimators=100, random_state=25; total time=   0.1s\n",
      "[CV] END .....max_depth=3, n_estimators=100, random_state=25; total time=   0.1s\n",
      "[CV] END .....max_depth=3, n_estimators=100, random_state=25; total time=   0.1s\n",
      "[CV] END .....max_depth=3, n_estimators=200, random_state=10; total time=   0.3s\n",
      "[CV] END .....max_depth=3, n_estimators=200, random_state=10; total time=   0.3s\n",
      "[CV] END .....max_depth=3, n_estimators=200, random_state=10; total time=   0.3s\n",
      "[CV] END .....max_depth=3, n_estimators=200, random_state=10; total time=   0.3s\n",
      "[CV] END .....max_depth=3, n_estimators=200, random_state=10; total time=   0.3s\n",
      "[CV] END .....max_depth=3, n_estimators=200, random_state=13; total time=   0.3s\n",
      "[CV] END .....max_depth=3, n_estimators=200, random_state=13; total time=   0.3s\n",
      "[CV] END .....max_depth=3, n_estimators=200, random_state=13; total time=   0.3s\n",
      "[CV] END .....max_depth=3, n_estimators=200, random_state=13; total time=   0.3s\n",
      "[CV] END .....max_depth=3, n_estimators=200, random_state=13; total time=   0.3s\n",
      "[CV] END .....max_depth=3, n_estimators=200, random_state=15; total time=   0.3s\n",
      "[CV] END .....max_depth=3, n_estimators=200, random_state=15; total time=   0.3s\n",
      "[CV] END .....max_depth=3, n_estimators=200, random_state=15; total time=   0.3s\n",
      "[CV] END .....max_depth=3, n_estimators=200, random_state=15; total time=   0.3s\n",
      "[CV] END .....max_depth=3, n_estimators=200, random_state=15; total time=   0.3s\n",
      "[CV] END .....max_depth=3, n_estimators=200, random_state=16; total time=   0.3s\n",
      "[CV] END .....max_depth=3, n_estimators=200, random_state=16; total time=   0.3s\n",
      "[CV] END .....max_depth=3, n_estimators=200, random_state=16; total time=   0.3s\n",
      "[CV] END .....max_depth=3, n_estimators=200, random_state=16; total time=   0.3s\n",
      "[CV] END .....max_depth=3, n_estimators=200, random_state=16; total time=   0.3s\n",
      "[CV] END .....max_depth=3, n_estimators=200, random_state=20; total time=   0.3s\n",
      "[CV] END .....max_depth=3, n_estimators=200, random_state=20; total time=   0.3s\n",
      "[CV] END .....max_depth=3, n_estimators=200, random_state=20; total time=   0.3s\n",
      "[CV] END .....max_depth=3, n_estimators=200, random_state=20; total time=   0.3s\n",
      "[CV] END .....max_depth=3, n_estimators=200, random_state=20; total time=   0.3s\n",
      "[CV] END .....max_depth=3, n_estimators=200, random_state=25; total time=   0.3s\n",
      "[CV] END .....max_depth=3, n_estimators=200, random_state=25; total time=   0.3s\n",
      "[CV] END .....max_depth=3, n_estimators=200, random_state=25; total time=   0.3s\n",
      "[CV] END .....max_depth=3, n_estimators=200, random_state=25; total time=   0.3s\n",
      "[CV] END .....max_depth=3, n_estimators=200, random_state=25; total time=   0.3s\n",
      "[CV] END ......max_depth=3, n_estimators=40, random_state=10; total time=   0.1s\n",
      "[CV] END ......max_depth=3, n_estimators=40, random_state=10; total time=   0.1s\n",
      "[CV] END ......max_depth=3, n_estimators=40, random_state=10; total time=   0.1s\n",
      "[CV] END ......max_depth=3, n_estimators=40, random_state=10; total time=   0.1s\n",
      "[CV] END ......max_depth=3, n_estimators=40, random_state=10; total time=   0.1s\n",
      "[CV] END ......max_depth=3, n_estimators=40, random_state=13; total time=   0.1s\n",
      "[CV] END ......max_depth=3, n_estimators=40, random_state=13; total time=   0.1s\n",
      "[CV] END ......max_depth=3, n_estimators=40, random_state=13; total time=   0.1s\n",
      "[CV] END ......max_depth=3, n_estimators=40, random_state=13; total time=   0.1s\n",
      "[CV] END ......max_depth=3, n_estimators=40, random_state=13; total time=   0.1s\n",
      "[CV] END ......max_depth=3, n_estimators=40, random_state=15; total time=   0.1s\n",
      "[CV] END ......max_depth=3, n_estimators=40, random_state=15; total time=   0.1s\n",
      "[CV] END ......max_depth=3, n_estimators=40, random_state=15; total time=   0.1s\n",
      "[CV] END ......max_depth=3, n_estimators=40, random_state=15; total time=   0.1s\n",
      "[CV] END ......max_depth=3, n_estimators=40, random_state=15; total time=   0.1s\n",
      "[CV] END ......max_depth=3, n_estimators=40, random_state=16; total time=   0.1s\n",
      "[CV] END ......max_depth=3, n_estimators=40, random_state=16; total time=   0.1s\n",
      "[CV] END ......max_depth=3, n_estimators=40, random_state=16; total time=   0.1s\n",
      "[CV] END ......max_depth=3, n_estimators=40, random_state=16; total time=   0.1s\n",
      "[CV] END ......max_depth=3, n_estimators=40, random_state=16; total time=   0.1s\n",
      "[CV] END ......max_depth=3, n_estimators=40, random_state=20; total time=   0.1s\n",
      "[CV] END ......max_depth=3, n_estimators=40, random_state=20; total time=   0.1s\n",
      "[CV] END ......max_depth=3, n_estimators=40, random_state=20; total time=   0.1s\n",
      "[CV] END ......max_depth=3, n_estimators=40, random_state=20; total time=   0.1s\n",
      "[CV] END ......max_depth=3, n_estimators=40, random_state=20; total time=   0.1s\n",
      "[CV] END ......max_depth=3, n_estimators=40, random_state=25; total time=   0.1s\n",
      "[CV] END ......max_depth=3, n_estimators=40, random_state=25; total time=   0.1s\n",
      "[CV] END ......max_depth=3, n_estimators=40, random_state=25; total time=   0.1s\n",
      "[CV] END ......max_depth=3, n_estimators=40, random_state=25; total time=   0.1s\n",
      "[CV] END ......max_depth=3, n_estimators=40, random_state=25; total time=   0.1s\n",
      "[CV] END ......max_depth=3, n_estimators=50, random_state=10; total time=   0.1s\n",
      "[CV] END ......max_depth=3, n_estimators=50, random_state=10; total time=   0.1s\n",
      "[CV] END ......max_depth=3, n_estimators=50, random_state=10; total time=   0.1s\n",
      "[CV] END ......max_depth=3, n_estimators=50, random_state=10; total time=   0.1s\n",
      "[CV] END ......max_depth=3, n_estimators=50, random_state=10; total time=   0.1s\n",
      "[CV] END ......max_depth=3, n_estimators=50, random_state=13; total time=   0.1s\n",
      "[CV] END ......max_depth=3, n_estimators=50, random_state=13; total time=   0.1s\n",
      "[CV] END ......max_depth=3, n_estimators=50, random_state=13; total time=   0.1s\n",
      "[CV] END ......max_depth=3, n_estimators=50, random_state=13; total time=   0.1s\n",
      "[CV] END ......max_depth=3, n_estimators=50, random_state=13; total time=   0.1s\n",
      "[CV] END ......max_depth=3, n_estimators=50, random_state=15; total time=   0.1s\n",
      "[CV] END ......max_depth=3, n_estimators=50, random_state=15; total time=   0.1s\n",
      "[CV] END ......max_depth=3, n_estimators=50, random_state=15; total time=   0.1s\n"
     ]
    },
    {
     "name": "stdout",
     "output_type": "stream",
     "text": [
      "[CV] END ......max_depth=3, n_estimators=50, random_state=15; total time=   0.1s\n",
      "[CV] END ......max_depth=3, n_estimators=50, random_state=15; total time=   0.1s\n",
      "[CV] END ......max_depth=3, n_estimators=50, random_state=16; total time=   0.1s\n",
      "[CV] END ......max_depth=3, n_estimators=50, random_state=16; total time=   0.1s\n",
      "[CV] END ......max_depth=3, n_estimators=50, random_state=16; total time=   0.1s\n",
      "[CV] END ......max_depth=3, n_estimators=50, random_state=16; total time=   0.1s\n",
      "[CV] END ......max_depth=3, n_estimators=50, random_state=16; total time=   0.1s\n",
      "[CV] END ......max_depth=3, n_estimators=50, random_state=20; total time=   0.1s\n",
      "[CV] END ......max_depth=3, n_estimators=50, random_state=20; total time=   0.1s\n",
      "[CV] END ......max_depth=3, n_estimators=50, random_state=20; total time=   0.1s\n",
      "[CV] END ......max_depth=3, n_estimators=50, random_state=20; total time=   0.1s\n",
      "[CV] END ......max_depth=3, n_estimators=50, random_state=20; total time=   0.1s\n",
      "[CV] END ......max_depth=3, n_estimators=50, random_state=25; total time=   0.1s\n",
      "[CV] END ......max_depth=3, n_estimators=50, random_state=25; total time=   0.1s\n",
      "[CV] END ......max_depth=3, n_estimators=50, random_state=25; total time=   0.1s\n",
      "[CV] END ......max_depth=3, n_estimators=50, random_state=25; total time=   0.1s\n",
      "[CV] END ......max_depth=3, n_estimators=50, random_state=25; total time=   0.1s\n",
      "[CV] END .....max_depth=3, n_estimators=500, random_state=10; total time=   0.7s\n",
      "[CV] END .....max_depth=3, n_estimators=500, random_state=10; total time=   0.6s\n",
      "[CV] END .....max_depth=3, n_estimators=500, random_state=10; total time=   0.6s\n",
      "[CV] END .....max_depth=3, n_estimators=500, random_state=10; total time=   0.6s\n",
      "[CV] END .....max_depth=3, n_estimators=500, random_state=10; total time=   0.6s\n",
      "[CV] END .....max_depth=3, n_estimators=500, random_state=13; total time=   0.6s\n",
      "[CV] END .....max_depth=3, n_estimators=500, random_state=13; total time=   0.6s\n",
      "[CV] END .....max_depth=3, n_estimators=500, random_state=13; total time=   0.6s\n",
      "[CV] END .....max_depth=3, n_estimators=500, random_state=13; total time=   0.6s\n",
      "[CV] END .....max_depth=3, n_estimators=500, random_state=13; total time=   0.7s\n",
      "[CV] END .....max_depth=3, n_estimators=500, random_state=15; total time=   0.6s\n",
      "[CV] END .....max_depth=3, n_estimators=500, random_state=15; total time=   0.6s\n",
      "[CV] END .....max_depth=3, n_estimators=500, random_state=15; total time=   0.6s\n",
      "[CV] END .....max_depth=3, n_estimators=500, random_state=15; total time=   0.6s\n",
      "[CV] END .....max_depth=3, n_estimators=500, random_state=15; total time=   0.6s\n",
      "[CV] END .....max_depth=3, n_estimators=500, random_state=16; total time=   0.6s\n",
      "[CV] END .....max_depth=3, n_estimators=500, random_state=16; total time=   0.7s\n",
      "[CV] END .....max_depth=3, n_estimators=500, random_state=16; total time=   0.6s\n",
      "[CV] END .....max_depth=3, n_estimators=500, random_state=16; total time=   0.6s\n",
      "[CV] END .....max_depth=3, n_estimators=500, random_state=16; total time=   0.6s\n",
      "[CV] END .....max_depth=3, n_estimators=500, random_state=20; total time=   0.6s\n",
      "[CV] END .....max_depth=3, n_estimators=500, random_state=20; total time=   0.6s\n",
      "[CV] END .....max_depth=3, n_estimators=500, random_state=20; total time=   0.6s\n",
      "[CV] END .....max_depth=3, n_estimators=500, random_state=20; total time=   0.7s\n",
      "[CV] END .....max_depth=3, n_estimators=500, random_state=20; total time=   0.7s\n",
      "[CV] END .....max_depth=3, n_estimators=500, random_state=25; total time=   0.6s\n",
      "[CV] END .....max_depth=3, n_estimators=500, random_state=25; total time=   0.6s\n",
      "[CV] END .....max_depth=3, n_estimators=500, random_state=25; total time=   0.6s\n",
      "[CV] END .....max_depth=3, n_estimators=500, random_state=25; total time=   0.6s\n",
      "[CV] END .....max_depth=3, n_estimators=500, random_state=25; total time=   0.6s\n",
      "[CV] END .....max_depth=3, n_estimators=344, random_state=10; total time=   0.4s\n",
      "[CV] END .....max_depth=3, n_estimators=344, random_state=10; total time=   0.4s\n",
      "[CV] END .....max_depth=3, n_estimators=344, random_state=10; total time=   0.5s\n",
      "[CV] END .....max_depth=3, n_estimators=344, random_state=10; total time=   0.4s\n",
      "[CV] END .....max_depth=3, n_estimators=344, random_state=10; total time=   0.4s\n",
      "[CV] END .....max_depth=3, n_estimators=344, random_state=13; total time=   0.4s\n",
      "[CV] END .....max_depth=3, n_estimators=344, random_state=13; total time=   0.4s\n",
      "[CV] END .....max_depth=3, n_estimators=344, random_state=13; total time=   0.5s\n",
      "[CV] END .....max_depth=3, n_estimators=344, random_state=13; total time=   0.4s\n",
      "[CV] END .....max_depth=3, n_estimators=344, random_state=13; total time=   0.4s\n",
      "[CV] END .....max_depth=3, n_estimators=344, random_state=15; total time=   0.4s\n",
      "[CV] END .....max_depth=3, n_estimators=344, random_state=15; total time=   0.4s\n",
      "[CV] END .....max_depth=3, n_estimators=344, random_state=15; total time=   0.4s\n",
      "[CV] END .....max_depth=3, n_estimators=344, random_state=15; total time=   0.4s\n",
      "[CV] END .....max_depth=3, n_estimators=344, random_state=15; total time=   0.5s\n",
      "[CV] END .....max_depth=3, n_estimators=344, random_state=16; total time=   0.4s\n",
      "[CV] END .....max_depth=3, n_estimators=344, random_state=16; total time=   0.4s\n",
      "[CV] END .....max_depth=3, n_estimators=344, random_state=16; total time=   0.4s\n",
      "[CV] END .....max_depth=3, n_estimators=344, random_state=16; total time=   0.4s\n",
      "[CV] END .....max_depth=3, n_estimators=344, random_state=16; total time=   0.4s\n",
      "[CV] END .....max_depth=3, n_estimators=344, random_state=20; total time=   0.4s\n",
      "[CV] END .....max_depth=3, n_estimators=344, random_state=20; total time=   0.4s\n",
      "[CV] END .....max_depth=3, n_estimators=344, random_state=20; total time=   0.4s\n",
      "[CV] END .....max_depth=3, n_estimators=344, random_state=20; total time=   0.4s\n",
      "[CV] END .....max_depth=3, n_estimators=344, random_state=20; total time=   0.5s\n",
      "[CV] END .....max_depth=3, n_estimators=344, random_state=25; total time=   0.4s\n",
      "[CV] END .....max_depth=3, n_estimators=344, random_state=25; total time=   0.4s\n",
      "[CV] END .....max_depth=3, n_estimators=344, random_state=25; total time=   0.4s\n",
      "[CV] END .....max_depth=3, n_estimators=344, random_state=25; total time=   0.4s\n",
      "[CV] END .....max_depth=3, n_estimators=344, random_state=25; total time=   0.4s\n",
      "[CV] END .....max_depth=5, n_estimators=100, random_state=10; total time=   0.1s\n",
      "[CV] END .....max_depth=5, n_estimators=100, random_state=10; total time=   0.1s\n",
      "[CV] END .....max_depth=5, n_estimators=100, random_state=10; total time=   0.1s\n",
      "[CV] END .....max_depth=5, n_estimators=100, random_state=10; total time=   0.1s\n",
      "[CV] END .....max_depth=5, n_estimators=100, random_state=10; total time=   0.1s\n",
      "[CV] END .....max_depth=5, n_estimators=100, random_state=13; total time=   0.1s\n",
      "[CV] END .....max_depth=5, n_estimators=100, random_state=13; total time=   0.1s\n",
      "[CV] END .....max_depth=5, n_estimators=100, random_state=13; total time=   0.1s\n",
      "[CV] END .....max_depth=5, n_estimators=100, random_state=13; total time=   0.1s\n",
      "[CV] END .....max_depth=5, n_estimators=100, random_state=13; total time=   0.1s\n",
      "[CV] END .....max_depth=5, n_estimators=100, random_state=15; total time=   0.1s\n",
      "[CV] END .....max_depth=5, n_estimators=100, random_state=15; total time=   0.1s\n",
      "[CV] END .....max_depth=5, n_estimators=100, random_state=15; total time=   0.1s\n",
      "[CV] END .....max_depth=5, n_estimators=100, random_state=15; total time=   0.1s\n",
      "[CV] END .....max_depth=5, n_estimators=100, random_state=15; total time=   0.1s\n",
      "[CV] END .....max_depth=5, n_estimators=100, random_state=16; total time=   0.1s\n",
      "[CV] END .....max_depth=5, n_estimators=100, random_state=16; total time=   0.1s\n",
      "[CV] END .....max_depth=5, n_estimators=100, random_state=16; total time=   0.1s\n",
      "[CV] END .....max_depth=5, n_estimators=100, random_state=16; total time=   0.1s\n",
      "[CV] END .....max_depth=5, n_estimators=100, random_state=16; total time=   0.1s\n",
      "[CV] END .....max_depth=5, n_estimators=100, random_state=20; total time=   0.1s\n",
      "[CV] END .....max_depth=5, n_estimators=100, random_state=20; total time=   0.1s\n",
      "[CV] END .....max_depth=5, n_estimators=100, random_state=20; total time=   0.1s\n",
      "[CV] END .....max_depth=5, n_estimators=100, random_state=20; total time=   0.1s\n",
      "[CV] END .....max_depth=5, n_estimators=100, random_state=20; total time=   0.1s\n"
     ]
    },
    {
     "name": "stdout",
     "output_type": "stream",
     "text": [
      "[CV] END .....max_depth=5, n_estimators=100, random_state=25; total time=   0.1s\n",
      "[CV] END .....max_depth=5, n_estimators=100, random_state=25; total time=   0.1s\n",
      "[CV] END .....max_depth=5, n_estimators=100, random_state=25; total time=   0.1s\n",
      "[CV] END .....max_depth=5, n_estimators=100, random_state=25; total time=   0.1s\n",
      "[CV] END .....max_depth=5, n_estimators=100, random_state=25; total time=   0.1s\n",
      "[CV] END .....max_depth=5, n_estimators=200, random_state=10; total time=   0.3s\n",
      "[CV] END .....max_depth=5, n_estimators=200, random_state=10; total time=   0.3s\n",
      "[CV] END .....max_depth=5, n_estimators=200, random_state=10; total time=   0.3s\n",
      "[CV] END .....max_depth=5, n_estimators=200, random_state=10; total time=   0.3s\n",
      "[CV] END .....max_depth=5, n_estimators=200, random_state=10; total time=   0.3s\n",
      "[CV] END .....max_depth=5, n_estimators=200, random_state=13; total time=   0.3s\n",
      "[CV] END .....max_depth=5, n_estimators=200, random_state=13; total time=   0.3s\n",
      "[CV] END .....max_depth=5, n_estimators=200, random_state=13; total time=   0.3s\n",
      "[CV] END .....max_depth=5, n_estimators=200, random_state=13; total time=   0.3s\n",
      "[CV] END .....max_depth=5, n_estimators=200, random_state=13; total time=   0.3s\n",
      "[CV] END .....max_depth=5, n_estimators=200, random_state=15; total time=   0.3s\n",
      "[CV] END .....max_depth=5, n_estimators=200, random_state=15; total time=   0.3s\n",
      "[CV] END .....max_depth=5, n_estimators=200, random_state=15; total time=   0.3s\n",
      "[CV] END .....max_depth=5, n_estimators=200, random_state=15; total time=   0.3s\n",
      "[CV] END .....max_depth=5, n_estimators=200, random_state=15; total time=   0.3s\n",
      "[CV] END .....max_depth=5, n_estimators=200, random_state=16; total time=   0.3s\n",
      "[CV] END .....max_depth=5, n_estimators=200, random_state=16; total time=   0.3s\n",
      "[CV] END .....max_depth=5, n_estimators=200, random_state=16; total time=   0.3s\n",
      "[CV] END .....max_depth=5, n_estimators=200, random_state=16; total time=   0.3s\n",
      "[CV] END .....max_depth=5, n_estimators=200, random_state=16; total time=   0.3s\n",
      "[CV] END .....max_depth=5, n_estimators=200, random_state=20; total time=   0.3s\n",
      "[CV] END .....max_depth=5, n_estimators=200, random_state=20; total time=   0.3s\n",
      "[CV] END .....max_depth=5, n_estimators=200, random_state=20; total time=   0.3s\n",
      "[CV] END .....max_depth=5, n_estimators=200, random_state=20; total time=   0.3s\n",
      "[CV] END .....max_depth=5, n_estimators=200, random_state=20; total time=   0.3s\n",
      "[CV] END .....max_depth=5, n_estimators=200, random_state=25; total time=   0.3s\n",
      "[CV] END .....max_depth=5, n_estimators=200, random_state=25; total time=   0.3s\n",
      "[CV] END .....max_depth=5, n_estimators=200, random_state=25; total time=   0.3s\n",
      "[CV] END .....max_depth=5, n_estimators=200, random_state=25; total time=   0.3s\n",
      "[CV] END .....max_depth=5, n_estimators=200, random_state=25; total time=   0.3s\n",
      "[CV] END ......max_depth=5, n_estimators=40, random_state=10; total time=   0.1s\n",
      "[CV] END ......max_depth=5, n_estimators=40, random_state=10; total time=   0.1s\n",
      "[CV] END ......max_depth=5, n_estimators=40, random_state=10; total time=   0.1s\n",
      "[CV] END ......max_depth=5, n_estimators=40, random_state=10; total time=   0.1s\n",
      "[CV] END ......max_depth=5, n_estimators=40, random_state=10; total time=   0.1s\n",
      "[CV] END ......max_depth=5, n_estimators=40, random_state=13; total time=   0.1s\n",
      "[CV] END ......max_depth=5, n_estimators=40, random_state=13; total time=   0.1s\n",
      "[CV] END ......max_depth=5, n_estimators=40, random_state=13; total time=   0.1s\n",
      "[CV] END ......max_depth=5, n_estimators=40, random_state=13; total time=   0.1s\n",
      "[CV] END ......max_depth=5, n_estimators=40, random_state=13; total time=   0.1s\n",
      "[CV] END ......max_depth=5, n_estimators=40, random_state=15; total time=   0.1s\n",
      "[CV] END ......max_depth=5, n_estimators=40, random_state=15; total time=   0.1s\n",
      "[CV] END ......max_depth=5, n_estimators=40, random_state=15; total time=   0.1s\n",
      "[CV] END ......max_depth=5, n_estimators=40, random_state=15; total time=   0.1s\n",
      "[CV] END ......max_depth=5, n_estimators=40, random_state=15; total time=   0.1s\n",
      "[CV] END ......max_depth=5, n_estimators=40, random_state=16; total time=   0.1s\n",
      "[CV] END ......max_depth=5, n_estimators=40, random_state=16; total time=   0.1s\n",
      "[CV] END ......max_depth=5, n_estimators=40, random_state=16; total time=   0.1s\n",
      "[CV] END ......max_depth=5, n_estimators=40, random_state=16; total time=   0.1s\n",
      "[CV] END ......max_depth=5, n_estimators=40, random_state=16; total time=   0.1s\n",
      "[CV] END ......max_depth=5, n_estimators=40, random_state=20; total time=   0.1s\n",
      "[CV] END ......max_depth=5, n_estimators=40, random_state=20; total time=   0.1s\n",
      "[CV] END ......max_depth=5, n_estimators=40, random_state=20; total time=   0.1s\n",
      "[CV] END ......max_depth=5, n_estimators=40, random_state=20; total time=   0.1s\n",
      "[CV] END ......max_depth=5, n_estimators=40, random_state=20; total time=   0.1s\n",
      "[CV] END ......max_depth=5, n_estimators=40, random_state=25; total time=   0.1s\n",
      "[CV] END ......max_depth=5, n_estimators=40, random_state=25; total time=   0.1s\n",
      "[CV] END ......max_depth=5, n_estimators=40, random_state=25; total time=   0.1s\n",
      "[CV] END ......max_depth=5, n_estimators=40, random_state=25; total time=   0.1s\n",
      "[CV] END ......max_depth=5, n_estimators=40, random_state=25; total time=   0.1s\n",
      "[CV] END ......max_depth=5, n_estimators=50, random_state=10; total time=   0.1s\n",
      "[CV] END ......max_depth=5, n_estimators=50, random_state=10; total time=   0.1s\n",
      "[CV] END ......max_depth=5, n_estimators=50, random_state=10; total time=   0.1s\n",
      "[CV] END ......max_depth=5, n_estimators=50, random_state=10; total time=   0.1s\n",
      "[CV] END ......max_depth=5, n_estimators=50, random_state=10; total time=   0.1s\n",
      "[CV] END ......max_depth=5, n_estimators=50, random_state=13; total time=   0.1s\n",
      "[CV] END ......max_depth=5, n_estimators=50, random_state=13; total time=   0.1s\n",
      "[CV] END ......max_depth=5, n_estimators=50, random_state=13; total time=   0.1s\n",
      "[CV] END ......max_depth=5, n_estimators=50, random_state=13; total time=   0.1s\n",
      "[CV] END ......max_depth=5, n_estimators=50, random_state=13; total time=   0.1s\n",
      "[CV] END ......max_depth=5, n_estimators=50, random_state=15; total time=   0.1s\n",
      "[CV] END ......max_depth=5, n_estimators=50, random_state=15; total time=   0.1s\n",
      "[CV] END ......max_depth=5, n_estimators=50, random_state=15; total time=   0.1s\n",
      "[CV] END ......max_depth=5, n_estimators=50, random_state=15; total time=   0.1s\n",
      "[CV] END ......max_depth=5, n_estimators=50, random_state=15; total time=   0.1s\n",
      "[CV] END ......max_depth=5, n_estimators=50, random_state=16; total time=   0.1s\n",
      "[CV] END ......max_depth=5, n_estimators=50, random_state=16; total time=   0.1s\n",
      "[CV] END ......max_depth=5, n_estimators=50, random_state=16; total time=   0.1s\n",
      "[CV] END ......max_depth=5, n_estimators=50, random_state=16; total time=   0.1s\n",
      "[CV] END ......max_depth=5, n_estimators=50, random_state=16; total time=   0.1s\n",
      "[CV] END ......max_depth=5, n_estimators=50, random_state=20; total time=   0.1s\n",
      "[CV] END ......max_depth=5, n_estimators=50, random_state=20; total time=   0.1s\n",
      "[CV] END ......max_depth=5, n_estimators=50, random_state=20; total time=   0.1s\n",
      "[CV] END ......max_depth=5, n_estimators=50, random_state=20; total time=   0.1s\n",
      "[CV] END ......max_depth=5, n_estimators=50, random_state=20; total time=   0.1s\n",
      "[CV] END ......max_depth=5, n_estimators=50, random_state=25; total time=   0.1s\n",
      "[CV] END ......max_depth=5, n_estimators=50, random_state=25; total time=   0.1s\n",
      "[CV] END ......max_depth=5, n_estimators=50, random_state=25; total time=   0.1s\n",
      "[CV] END ......max_depth=5, n_estimators=50, random_state=25; total time=   0.1s\n",
      "[CV] END ......max_depth=5, n_estimators=50, random_state=25; total time=   0.1s\n",
      "[CV] END .....max_depth=5, n_estimators=500, random_state=10; total time=   0.7s\n",
      "[CV] END .....max_depth=5, n_estimators=500, random_state=10; total time=   0.7s\n",
      "[CV] END .....max_depth=5, n_estimators=500, random_state=10; total time=   0.7s\n",
      "[CV] END .....max_depth=5, n_estimators=500, random_state=10; total time=   0.7s\n",
      "[CV] END .....max_depth=5, n_estimators=500, random_state=10; total time=   0.7s\n",
      "[CV] END .....max_depth=5, n_estimators=500, random_state=13; total time=   0.7s\n",
      "[CV] END .....max_depth=5, n_estimators=500, random_state=13; total time=   0.7s\n"
     ]
    },
    {
     "name": "stdout",
     "output_type": "stream",
     "text": [
      "[CV] END .....max_depth=5, n_estimators=500, random_state=13; total time=   0.7s\n",
      "[CV] END .....max_depth=5, n_estimators=500, random_state=13; total time=   0.7s\n",
      "[CV] END .....max_depth=5, n_estimators=500, random_state=13; total time=   0.7s\n",
      "[CV] END .....max_depth=5, n_estimators=500, random_state=15; total time=   0.7s\n",
      "[CV] END .....max_depth=5, n_estimators=500, random_state=15; total time=   0.7s\n",
      "[CV] END .....max_depth=5, n_estimators=500, random_state=15; total time=   0.7s\n",
      "[CV] END .....max_depth=5, n_estimators=500, random_state=15; total time=   0.7s\n",
      "[CV] END .....max_depth=5, n_estimators=500, random_state=15; total time=   0.7s\n",
      "[CV] END .....max_depth=5, n_estimators=500, random_state=16; total time=   0.7s\n",
      "[CV] END .....max_depth=5, n_estimators=500, random_state=16; total time=   0.7s\n",
      "[CV] END .....max_depth=5, n_estimators=500, random_state=16; total time=   0.7s\n",
      "[CV] END .....max_depth=5, n_estimators=500, random_state=16; total time=   0.7s\n",
      "[CV] END .....max_depth=5, n_estimators=500, random_state=16; total time=   0.7s\n",
      "[CV] END .....max_depth=5, n_estimators=500, random_state=20; total time=   0.7s\n",
      "[CV] END .....max_depth=5, n_estimators=500, random_state=20; total time=   0.7s\n",
      "[CV] END .....max_depth=5, n_estimators=500, random_state=20; total time=   0.7s\n",
      "[CV] END .....max_depth=5, n_estimators=500, random_state=20; total time=   0.7s\n",
      "[CV] END .....max_depth=5, n_estimators=500, random_state=20; total time=   0.7s\n",
      "[CV] END .....max_depth=5, n_estimators=500, random_state=25; total time=   0.7s\n",
      "[CV] END .....max_depth=5, n_estimators=500, random_state=25; total time=   0.7s\n",
      "[CV] END .....max_depth=5, n_estimators=500, random_state=25; total time=   0.7s\n",
      "[CV] END .....max_depth=5, n_estimators=500, random_state=25; total time=   0.7s\n",
      "[CV] END .....max_depth=5, n_estimators=500, random_state=25; total time=   0.7s\n",
      "[CV] END .....max_depth=5, n_estimators=344, random_state=10; total time=   0.5s\n",
      "[CV] END .....max_depth=5, n_estimators=344, random_state=10; total time=   0.5s\n",
      "[CV] END .....max_depth=5, n_estimators=344, random_state=10; total time=   0.5s\n",
      "[CV] END .....max_depth=5, n_estimators=344, random_state=10; total time=   0.5s\n",
      "[CV] END .....max_depth=5, n_estimators=344, random_state=10; total time=   0.5s\n",
      "[CV] END .....max_depth=5, n_estimators=344, random_state=13; total time=   0.5s\n",
      "[CV] END .....max_depth=5, n_estimators=344, random_state=13; total time=   0.5s\n",
      "[CV] END .....max_depth=5, n_estimators=344, random_state=13; total time=   0.5s\n",
      "[CV] END .....max_depth=5, n_estimators=344, random_state=13; total time=   0.5s\n",
      "[CV] END .....max_depth=5, n_estimators=344, random_state=13; total time=   0.5s\n",
      "[CV] END .....max_depth=5, n_estimators=344, random_state=15; total time=   0.5s\n",
      "[CV] END .....max_depth=5, n_estimators=344, random_state=15; total time=   0.5s\n",
      "[CV] END .....max_depth=5, n_estimators=344, random_state=15; total time=   0.5s\n",
      "[CV] END .....max_depth=5, n_estimators=344, random_state=15; total time=   0.5s\n",
      "[CV] END .....max_depth=5, n_estimators=344, random_state=15; total time=   0.5s\n",
      "[CV] END .....max_depth=5, n_estimators=344, random_state=16; total time=   0.5s\n",
      "[CV] END .....max_depth=5, n_estimators=344, random_state=16; total time=   0.5s\n",
      "[CV] END .....max_depth=5, n_estimators=344, random_state=16; total time=   0.5s\n",
      "[CV] END .....max_depth=5, n_estimators=344, random_state=16; total time=   0.5s\n",
      "[CV] END .....max_depth=5, n_estimators=344, random_state=16; total time=   0.5s\n",
      "[CV] END .....max_depth=5, n_estimators=344, random_state=20; total time=   0.5s\n",
      "[CV] END .....max_depth=5, n_estimators=344, random_state=20; total time=   0.5s\n",
      "[CV] END .....max_depth=5, n_estimators=344, random_state=20; total time=   0.5s\n",
      "[CV] END .....max_depth=5, n_estimators=344, random_state=20; total time=   0.5s\n",
      "[CV] END .....max_depth=5, n_estimators=344, random_state=20; total time=   0.5s\n",
      "[CV] END .....max_depth=5, n_estimators=344, random_state=25; total time=   0.5s\n",
      "[CV] END .....max_depth=5, n_estimators=344, random_state=25; total time=   0.5s\n",
      "[CV] END .....max_depth=5, n_estimators=344, random_state=25; total time=   0.5s\n",
      "[CV] END .....max_depth=5, n_estimators=344, random_state=25; total time=   0.5s\n",
      "[CV] END .....max_depth=5, n_estimators=344, random_state=25; total time=   0.5s\n",
      "[CV] END .....max_depth=6, n_estimators=100, random_state=10; total time=   0.1s\n",
      "[CV] END .....max_depth=6, n_estimators=100, random_state=10; total time=   0.1s\n",
      "[CV] END .....max_depth=6, n_estimators=100, random_state=10; total time=   0.1s\n",
      "[CV] END .....max_depth=6, n_estimators=100, random_state=10; total time=   0.1s\n",
      "[CV] END .....max_depth=6, n_estimators=100, random_state=10; total time=   0.1s\n",
      "[CV] END .....max_depth=6, n_estimators=100, random_state=13; total time=   0.1s\n",
      "[CV] END .....max_depth=6, n_estimators=100, random_state=13; total time=   0.1s\n",
      "[CV] END .....max_depth=6, n_estimators=100, random_state=13; total time=   0.1s\n",
      "[CV] END .....max_depth=6, n_estimators=100, random_state=13; total time=   0.1s\n",
      "[CV] END .....max_depth=6, n_estimators=100, random_state=13; total time=   0.1s\n",
      "[CV] END .....max_depth=6, n_estimators=100, random_state=15; total time=   0.1s\n",
      "[CV] END .....max_depth=6, n_estimators=100, random_state=15; total time=   0.1s\n",
      "[CV] END .....max_depth=6, n_estimators=100, random_state=15; total time=   0.1s\n",
      "[CV] END .....max_depth=6, n_estimators=100, random_state=15; total time=   0.1s\n",
      "[CV] END .....max_depth=6, n_estimators=100, random_state=15; total time=   0.1s\n",
      "[CV] END .....max_depth=6, n_estimators=100, random_state=16; total time=   0.1s\n",
      "[CV] END .....max_depth=6, n_estimators=100, random_state=16; total time=   0.1s\n",
      "[CV] END .....max_depth=6, n_estimators=100, random_state=16; total time=   0.1s\n",
      "[CV] END .....max_depth=6, n_estimators=100, random_state=16; total time=   0.1s\n",
      "[CV] END .....max_depth=6, n_estimators=100, random_state=16; total time=   0.1s\n",
      "[CV] END .....max_depth=6, n_estimators=100, random_state=20; total time=   0.1s\n",
      "[CV] END .....max_depth=6, n_estimators=100, random_state=20; total time=   0.1s\n",
      "[CV] END .....max_depth=6, n_estimators=100, random_state=20; total time=   0.1s\n",
      "[CV] END .....max_depth=6, n_estimators=100, random_state=20; total time=   0.1s\n",
      "[CV] END .....max_depth=6, n_estimators=100, random_state=20; total time=   0.1s\n",
      "[CV] END .....max_depth=6, n_estimators=100, random_state=25; total time=   0.1s\n",
      "[CV] END .....max_depth=6, n_estimators=100, random_state=25; total time=   0.1s\n",
      "[CV] END .....max_depth=6, n_estimators=100, random_state=25; total time=   0.1s\n",
      "[CV] END .....max_depth=6, n_estimators=100, random_state=25; total time=   0.1s\n",
      "[CV] END .....max_depth=6, n_estimators=100, random_state=25; total time=   0.1s\n",
      "[CV] END .....max_depth=6, n_estimators=200, random_state=10; total time=   0.3s\n",
      "[CV] END .....max_depth=6, n_estimators=200, random_state=10; total time=   0.3s\n",
      "[CV] END .....max_depth=6, n_estimators=200, random_state=10; total time=   0.3s\n",
      "[CV] END .....max_depth=6, n_estimators=200, random_state=10; total time=   0.3s\n",
      "[CV] END .....max_depth=6, n_estimators=200, random_state=10; total time=   0.3s\n",
      "[CV] END .....max_depth=6, n_estimators=200, random_state=13; total time=   0.3s\n",
      "[CV] END .....max_depth=6, n_estimators=200, random_state=13; total time=   0.3s\n",
      "[CV] END .....max_depth=6, n_estimators=200, random_state=13; total time=   0.3s\n",
      "[CV] END .....max_depth=6, n_estimators=200, random_state=13; total time=   0.3s\n",
      "[CV] END .....max_depth=6, n_estimators=200, random_state=13; total time=   0.3s\n",
      "[CV] END .....max_depth=6, n_estimators=200, random_state=15; total time=   0.3s\n",
      "[CV] END .....max_depth=6, n_estimators=200, random_state=15; total time=   0.3s\n",
      "[CV] END .....max_depth=6, n_estimators=200, random_state=15; total time=   0.3s\n",
      "[CV] END .....max_depth=6, n_estimators=200, random_state=15; total time=   0.3s\n",
      "[CV] END .....max_depth=6, n_estimators=200, random_state=15; total time=   0.3s\n",
      "[CV] END .....max_depth=6, n_estimators=200, random_state=16; total time=   0.3s\n",
      "[CV] END .....max_depth=6, n_estimators=200, random_state=16; total time=   0.3s\n",
      "[CV] END .....max_depth=6, n_estimators=200, random_state=16; total time=   0.3s\n",
      "[CV] END .....max_depth=6, n_estimators=200, random_state=16; total time=   0.3s\n"
     ]
    },
    {
     "name": "stdout",
     "output_type": "stream",
     "text": [
      "[CV] END .....max_depth=6, n_estimators=200, random_state=16; total time=   0.3s\n",
      "[CV] END .....max_depth=6, n_estimators=200, random_state=20; total time=   0.3s\n",
      "[CV] END .....max_depth=6, n_estimators=200, random_state=20; total time=   0.3s\n",
      "[CV] END .....max_depth=6, n_estimators=200, random_state=20; total time=   0.3s\n",
      "[CV] END .....max_depth=6, n_estimators=200, random_state=20; total time=   0.3s\n",
      "[CV] END .....max_depth=6, n_estimators=200, random_state=20; total time=   0.3s\n",
      "[CV] END .....max_depth=6, n_estimators=200, random_state=25; total time=   0.3s\n",
      "[CV] END .....max_depth=6, n_estimators=200, random_state=25; total time=   0.3s\n",
      "[CV] END .....max_depth=6, n_estimators=200, random_state=25; total time=   0.3s\n",
      "[CV] END .....max_depth=6, n_estimators=200, random_state=25; total time=   0.3s\n",
      "[CV] END .....max_depth=6, n_estimators=200, random_state=25; total time=   0.3s\n",
      "[CV] END ......max_depth=6, n_estimators=40, random_state=10; total time=   0.1s\n",
      "[CV] END ......max_depth=6, n_estimators=40, random_state=10; total time=   0.1s\n",
      "[CV] END ......max_depth=6, n_estimators=40, random_state=10; total time=   0.1s\n",
      "[CV] END ......max_depth=6, n_estimators=40, random_state=10; total time=   0.1s\n",
      "[CV] END ......max_depth=6, n_estimators=40, random_state=10; total time=   0.1s\n",
      "[CV] END ......max_depth=6, n_estimators=40, random_state=13; total time=   0.1s\n",
      "[CV] END ......max_depth=6, n_estimators=40, random_state=13; total time=   0.1s\n",
      "[CV] END ......max_depth=6, n_estimators=40, random_state=13; total time=   0.1s\n",
      "[CV] END ......max_depth=6, n_estimators=40, random_state=13; total time=   0.1s\n",
      "[CV] END ......max_depth=6, n_estimators=40, random_state=13; total time=   0.1s\n",
      "[CV] END ......max_depth=6, n_estimators=40, random_state=15; total time=   0.1s\n",
      "[CV] END ......max_depth=6, n_estimators=40, random_state=15; total time=   0.1s\n",
      "[CV] END ......max_depth=6, n_estimators=40, random_state=15; total time=   0.1s\n",
      "[CV] END ......max_depth=6, n_estimators=40, random_state=15; total time=   0.1s\n",
      "[CV] END ......max_depth=6, n_estimators=40, random_state=15; total time=   0.1s\n",
      "[CV] END ......max_depth=6, n_estimators=40, random_state=16; total time=   0.1s\n",
      "[CV] END ......max_depth=6, n_estimators=40, random_state=16; total time=   0.1s\n",
      "[CV] END ......max_depth=6, n_estimators=40, random_state=16; total time=   0.1s\n",
      "[CV] END ......max_depth=6, n_estimators=40, random_state=16; total time=   0.1s\n",
      "[CV] END ......max_depth=6, n_estimators=40, random_state=16; total time=   0.1s\n",
      "[CV] END ......max_depth=6, n_estimators=40, random_state=20; total time=   0.1s\n",
      "[CV] END ......max_depth=6, n_estimators=40, random_state=20; total time=   0.1s\n",
      "[CV] END ......max_depth=6, n_estimators=40, random_state=20; total time=   0.1s\n",
      "[CV] END ......max_depth=6, n_estimators=40, random_state=20; total time=   0.1s\n",
      "[CV] END ......max_depth=6, n_estimators=40, random_state=20; total time=   0.1s\n",
      "[CV] END ......max_depth=6, n_estimators=40, random_state=25; total time=   0.1s\n",
      "[CV] END ......max_depth=6, n_estimators=40, random_state=25; total time=   0.1s\n",
      "[CV] END ......max_depth=6, n_estimators=40, random_state=25; total time=   0.1s\n",
      "[CV] END ......max_depth=6, n_estimators=40, random_state=25; total time=   0.1s\n",
      "[CV] END ......max_depth=6, n_estimators=40, random_state=25; total time=   0.1s\n",
      "[CV] END ......max_depth=6, n_estimators=50, random_state=10; total time=   0.1s\n",
      "[CV] END ......max_depth=6, n_estimators=50, random_state=10; total time=   0.1s\n",
      "[CV] END ......max_depth=6, n_estimators=50, random_state=10; total time=   0.1s\n",
      "[CV] END ......max_depth=6, n_estimators=50, random_state=10; total time=   0.1s\n",
      "[CV] END ......max_depth=6, n_estimators=50, random_state=10; total time=   0.1s\n",
      "[CV] END ......max_depth=6, n_estimators=50, random_state=13; total time=   0.1s\n",
      "[CV] END ......max_depth=6, n_estimators=50, random_state=13; total time=   0.1s\n",
      "[CV] END ......max_depth=6, n_estimators=50, random_state=13; total time=   0.1s\n",
      "[CV] END ......max_depth=6, n_estimators=50, random_state=13; total time=   0.1s\n",
      "[CV] END ......max_depth=6, n_estimators=50, random_state=13; total time=   0.1s\n",
      "[CV] END ......max_depth=6, n_estimators=50, random_state=15; total time=   0.1s\n",
      "[CV] END ......max_depth=6, n_estimators=50, random_state=15; total time=   0.1s\n",
      "[CV] END ......max_depth=6, n_estimators=50, random_state=15; total time=   0.1s\n",
      "[CV] END ......max_depth=6, n_estimators=50, random_state=15; total time=   0.1s\n",
      "[CV] END ......max_depth=6, n_estimators=50, random_state=15; total time=   0.1s\n",
      "[CV] END ......max_depth=6, n_estimators=50, random_state=16; total time=   0.1s\n",
      "[CV] END ......max_depth=6, n_estimators=50, random_state=16; total time=   0.1s\n",
      "[CV] END ......max_depth=6, n_estimators=50, random_state=16; total time=   0.1s\n",
      "[CV] END ......max_depth=6, n_estimators=50, random_state=16; total time=   0.1s\n",
      "[CV] END ......max_depth=6, n_estimators=50, random_state=16; total time=   0.1s\n",
      "[CV] END ......max_depth=6, n_estimators=50, random_state=20; total time=   0.1s\n",
      "[CV] END ......max_depth=6, n_estimators=50, random_state=20; total time=   0.1s\n",
      "[CV] END ......max_depth=6, n_estimators=50, random_state=20; total time=   0.1s\n",
      "[CV] END ......max_depth=6, n_estimators=50, random_state=20; total time=   0.1s\n",
      "[CV] END ......max_depth=6, n_estimators=50, random_state=20; total time=   0.1s\n",
      "[CV] END ......max_depth=6, n_estimators=50, random_state=25; total time=   0.1s\n",
      "[CV] END ......max_depth=6, n_estimators=50, random_state=25; total time=   0.1s\n",
      "[CV] END ......max_depth=6, n_estimators=50, random_state=25; total time=   0.1s\n",
      "[CV] END ......max_depth=6, n_estimators=50, random_state=25; total time=   0.1s\n",
      "[CV] END ......max_depth=6, n_estimators=50, random_state=25; total time=   0.1s\n",
      "[CV] END .....max_depth=6, n_estimators=500, random_state=10; total time=   0.7s\n",
      "[CV] END .....max_depth=6, n_estimators=500, random_state=10; total time=   0.7s\n",
      "[CV] END .....max_depth=6, n_estimators=500, random_state=10; total time=   0.7s\n",
      "[CV] END .....max_depth=6, n_estimators=500, random_state=10; total time=   0.7s\n",
      "[CV] END .....max_depth=6, n_estimators=500, random_state=10; total time=   0.7s\n",
      "[CV] END .....max_depth=6, n_estimators=500, random_state=13; total time=   0.7s\n",
      "[CV] END .....max_depth=6, n_estimators=500, random_state=13; total time=   0.7s\n",
      "[CV] END .....max_depth=6, n_estimators=500, random_state=13; total time=   0.7s\n",
      "[CV] END .....max_depth=6, n_estimators=500, random_state=13; total time=   0.7s\n",
      "[CV] END .....max_depth=6, n_estimators=500, random_state=13; total time=   0.7s\n",
      "[CV] END .....max_depth=6, n_estimators=500, random_state=15; total time=   0.7s\n",
      "[CV] END .....max_depth=6, n_estimators=500, random_state=15; total time=   0.7s\n",
      "[CV] END .....max_depth=6, n_estimators=500, random_state=15; total time=   0.7s\n",
      "[CV] END .....max_depth=6, n_estimators=500, random_state=15; total time=   0.7s\n",
      "[CV] END .....max_depth=6, n_estimators=500, random_state=15; total time=   0.7s\n",
      "[CV] END .....max_depth=6, n_estimators=500, random_state=16; total time=   0.7s\n",
      "[CV] END .....max_depth=6, n_estimators=500, random_state=16; total time=   0.7s\n",
      "[CV] END .....max_depth=6, n_estimators=500, random_state=16; total time=   0.7s\n",
      "[CV] END .....max_depth=6, n_estimators=500, random_state=16; total time=   0.7s\n",
      "[CV] END .....max_depth=6, n_estimators=500, random_state=16; total time=   0.7s\n",
      "[CV] END .....max_depth=6, n_estimators=500, random_state=20; total time=   0.7s\n",
      "[CV] END .....max_depth=6, n_estimators=500, random_state=20; total time=   0.7s\n",
      "[CV] END .....max_depth=6, n_estimators=500, random_state=20; total time=   0.7s\n",
      "[CV] END .....max_depth=6, n_estimators=500, random_state=20; total time=   0.7s\n",
      "[CV] END .....max_depth=6, n_estimators=500, random_state=20; total time=   0.7s\n",
      "[CV] END .....max_depth=6, n_estimators=500, random_state=25; total time=   0.7s\n",
      "[CV] END .....max_depth=6, n_estimators=500, random_state=25; total time=   0.7s\n",
      "[CV] END .....max_depth=6, n_estimators=500, random_state=25; total time=   0.7s\n",
      "[CV] END .....max_depth=6, n_estimators=500, random_state=25; total time=   0.7s\n",
      "[CV] END .....max_depth=6, n_estimators=500, random_state=25; total time=   0.7s\n",
      "[CV] END .....max_depth=6, n_estimators=344, random_state=10; total time=   0.5s\n"
     ]
    },
    {
     "name": "stdout",
     "output_type": "stream",
     "text": [
      "[CV] END .....max_depth=6, n_estimators=344, random_state=10; total time=   0.5s\n",
      "[CV] END .....max_depth=6, n_estimators=344, random_state=10; total time=   0.5s\n",
      "[CV] END .....max_depth=6, n_estimators=344, random_state=10; total time=   0.5s\n",
      "[CV] END .....max_depth=6, n_estimators=344, random_state=10; total time=   0.5s\n",
      "[CV] END .....max_depth=6, n_estimators=344, random_state=13; total time=   0.5s\n",
      "[CV] END .....max_depth=6, n_estimators=344, random_state=13; total time=   0.5s\n",
      "[CV] END .....max_depth=6, n_estimators=344, random_state=13; total time=   0.5s\n",
      "[CV] END .....max_depth=6, n_estimators=344, random_state=13; total time=   0.5s\n",
      "[CV] END .....max_depth=6, n_estimators=344, random_state=13; total time=   0.5s\n",
      "[CV] END .....max_depth=6, n_estimators=344, random_state=15; total time=   0.5s\n",
      "[CV] END .....max_depth=6, n_estimators=344, random_state=15; total time=   0.5s\n",
      "[CV] END .....max_depth=6, n_estimators=344, random_state=15; total time=   0.5s\n",
      "[CV] END .....max_depth=6, n_estimators=344, random_state=15; total time=   0.5s\n",
      "[CV] END .....max_depth=6, n_estimators=344, random_state=15; total time=   0.5s\n",
      "[CV] END .....max_depth=6, n_estimators=344, random_state=16; total time=   0.5s\n",
      "[CV] END .....max_depth=6, n_estimators=344, random_state=16; total time=   0.5s\n",
      "[CV] END .....max_depth=6, n_estimators=344, random_state=16; total time=   0.5s\n",
      "[CV] END .....max_depth=6, n_estimators=344, random_state=16; total time=   0.5s\n",
      "[CV] END .....max_depth=6, n_estimators=344, random_state=16; total time=   0.5s\n",
      "[CV] END .....max_depth=6, n_estimators=344, random_state=20; total time=   0.5s\n",
      "[CV] END .....max_depth=6, n_estimators=344, random_state=20; total time=   0.5s\n",
      "[CV] END .....max_depth=6, n_estimators=344, random_state=20; total time=   0.5s\n",
      "[CV] END .....max_depth=6, n_estimators=344, random_state=20; total time=   0.5s\n",
      "[CV] END .....max_depth=6, n_estimators=344, random_state=20; total time=   0.5s\n",
      "[CV] END .....max_depth=6, n_estimators=344, random_state=25; total time=   0.5s\n",
      "[CV] END .....max_depth=6, n_estimators=344, random_state=25; total time=   0.5s\n",
      "[CV] END .....max_depth=6, n_estimators=344, random_state=25; total time=   0.5s\n",
      "[CV] END .....max_depth=6, n_estimators=344, random_state=25; total time=   0.5s\n",
      "[CV] END .....max_depth=6, n_estimators=344, random_state=25; total time=   0.5s\n",
      "[CV] END .....max_depth=8, n_estimators=100, random_state=10; total time=   0.1s\n",
      "[CV] END .....max_depth=8, n_estimators=100, random_state=10; total time=   0.1s\n",
      "[CV] END .....max_depth=8, n_estimators=100, random_state=10; total time=   0.1s\n",
      "[CV] END .....max_depth=8, n_estimators=100, random_state=10; total time=   0.1s\n",
      "[CV] END .....max_depth=8, n_estimators=100, random_state=10; total time=   0.1s\n",
      "[CV] END .....max_depth=8, n_estimators=100, random_state=13; total time=   0.1s\n",
      "[CV] END .....max_depth=8, n_estimators=100, random_state=13; total time=   0.1s\n",
      "[CV] END .....max_depth=8, n_estimators=100, random_state=13; total time=   0.1s\n",
      "[CV] END .....max_depth=8, n_estimators=100, random_state=13; total time=   0.1s\n",
      "[CV] END .....max_depth=8, n_estimators=100, random_state=13; total time=   0.1s\n",
      "[CV] END .....max_depth=8, n_estimators=100, random_state=15; total time=   0.1s\n",
      "[CV] END .....max_depth=8, n_estimators=100, random_state=15; total time=   0.1s\n",
      "[CV] END .....max_depth=8, n_estimators=100, random_state=15; total time=   0.1s\n",
      "[CV] END .....max_depth=8, n_estimators=100, random_state=15; total time=   0.1s\n",
      "[CV] END .....max_depth=8, n_estimators=100, random_state=15; total time=   0.1s\n",
      "[CV] END .....max_depth=8, n_estimators=100, random_state=16; total time=   0.2s\n",
      "[CV] END .....max_depth=8, n_estimators=100, random_state=16; total time=   0.1s\n",
      "[CV] END .....max_depth=8, n_estimators=100, random_state=16; total time=   0.1s\n",
      "[CV] END .....max_depth=8, n_estimators=100, random_state=16; total time=   0.1s\n",
      "[CV] END .....max_depth=8, n_estimators=100, random_state=16; total time=   0.1s\n",
      "[CV] END .....max_depth=8, n_estimators=100, random_state=20; total time=   0.1s\n",
      "[CV] END .....max_depth=8, n_estimators=100, random_state=20; total time=   0.1s\n",
      "[CV] END .....max_depth=8, n_estimators=100, random_state=20; total time=   0.1s\n",
      "[CV] END .....max_depth=8, n_estimators=100, random_state=20; total time=   0.1s\n",
      "[CV] END .....max_depth=8, n_estimators=100, random_state=20; total time=   0.1s\n",
      "[CV] END .....max_depth=8, n_estimators=100, random_state=25; total time=   0.1s\n",
      "[CV] END .....max_depth=8, n_estimators=100, random_state=25; total time=   0.1s\n",
      "[CV] END .....max_depth=8, n_estimators=100, random_state=25; total time=   0.1s\n",
      "[CV] END .....max_depth=8, n_estimators=100, random_state=25; total time=   0.1s\n",
      "[CV] END .....max_depth=8, n_estimators=100, random_state=25; total time=   0.1s\n",
      "[CV] END .....max_depth=8, n_estimators=200, random_state=10; total time=   0.3s\n",
      "[CV] END .....max_depth=8, n_estimators=200, random_state=10; total time=   0.3s\n",
      "[CV] END .....max_depth=8, n_estimators=200, random_state=10; total time=   0.3s\n",
      "[CV] END .....max_depth=8, n_estimators=200, random_state=10; total time=   0.3s\n",
      "[CV] END .....max_depth=8, n_estimators=200, random_state=10; total time=   0.3s\n",
      "[CV] END .....max_depth=8, n_estimators=200, random_state=13; total time=   0.3s\n",
      "[CV] END .....max_depth=8, n_estimators=200, random_state=13; total time=   0.3s\n",
      "[CV] END .....max_depth=8, n_estimators=200, random_state=13; total time=   0.3s\n",
      "[CV] END .....max_depth=8, n_estimators=200, random_state=13; total time=   0.3s\n",
      "[CV] END .....max_depth=8, n_estimators=200, random_state=13; total time=   0.3s\n",
      "[CV] END .....max_depth=8, n_estimators=200, random_state=15; total time=   0.3s\n",
      "[CV] END .....max_depth=8, n_estimators=200, random_state=15; total time=   0.3s\n",
      "[CV] END .....max_depth=8, n_estimators=200, random_state=15; total time=   0.3s\n",
      "[CV] END .....max_depth=8, n_estimators=200, random_state=15; total time=   0.3s\n",
      "[CV] END .....max_depth=8, n_estimators=200, random_state=15; total time=   0.3s\n",
      "[CV] END .....max_depth=8, n_estimators=200, random_state=16; total time=   0.3s\n",
      "[CV] END .....max_depth=8, n_estimators=200, random_state=16; total time=   0.3s\n",
      "[CV] END .....max_depth=8, n_estimators=200, random_state=16; total time=   0.3s\n",
      "[CV] END .....max_depth=8, n_estimators=200, random_state=16; total time=   0.3s\n",
      "[CV] END .....max_depth=8, n_estimators=200, random_state=16; total time=   0.3s\n",
      "[CV] END .....max_depth=8, n_estimators=200, random_state=20; total time=   0.3s\n",
      "[CV] END .....max_depth=8, n_estimators=200, random_state=20; total time=   0.3s\n",
      "[CV] END .....max_depth=8, n_estimators=200, random_state=20; total time=   0.3s\n",
      "[CV] END .....max_depth=8, n_estimators=200, random_state=20; total time=   0.3s\n",
      "[CV] END .....max_depth=8, n_estimators=200, random_state=20; total time=   0.3s\n",
      "[CV] END .....max_depth=8, n_estimators=200, random_state=25; total time=   0.3s\n",
      "[CV] END .....max_depth=8, n_estimators=200, random_state=25; total time=   0.3s\n",
      "[CV] END .....max_depth=8, n_estimators=200, random_state=25; total time=   0.3s\n",
      "[CV] END .....max_depth=8, n_estimators=200, random_state=25; total time=   0.3s\n",
      "[CV] END .....max_depth=8, n_estimators=200, random_state=25; total time=   0.3s\n",
      "[CV] END ......max_depth=8, n_estimators=40, random_state=10; total time=   0.1s\n",
      "[CV] END ......max_depth=8, n_estimators=40, random_state=10; total time=   0.1s\n",
      "[CV] END ......max_depth=8, n_estimators=40, random_state=10; total time=   0.1s\n",
      "[CV] END ......max_depth=8, n_estimators=40, random_state=10; total time=   0.1s\n",
      "[CV] END ......max_depth=8, n_estimators=40, random_state=10; total time=   0.1s\n",
      "[CV] END ......max_depth=8, n_estimators=40, random_state=13; total time=   0.1s\n",
      "[CV] END ......max_depth=8, n_estimators=40, random_state=13; total time=   0.1s\n",
      "[CV] END ......max_depth=8, n_estimators=40, random_state=13; total time=   0.1s\n",
      "[CV] END ......max_depth=8, n_estimators=40, random_state=13; total time=   0.1s\n",
      "[CV] END ......max_depth=8, n_estimators=40, random_state=13; total time=   0.1s\n",
      "[CV] END ......max_depth=8, n_estimators=40, random_state=15; total time=   0.1s\n",
      "[CV] END ......max_depth=8, n_estimators=40, random_state=15; total time=   0.1s\n",
      "[CV] END ......max_depth=8, n_estimators=40, random_state=15; total time=   0.1s\n",
      "[CV] END ......max_depth=8, n_estimators=40, random_state=15; total time=   0.1s\n",
      "[CV] END ......max_depth=8, n_estimators=40, random_state=15; total time=   0.1s\n"
     ]
    },
    {
     "name": "stdout",
     "output_type": "stream",
     "text": [
      "[CV] END ......max_depth=8, n_estimators=40, random_state=16; total time=   0.1s\n",
      "[CV] END ......max_depth=8, n_estimators=40, random_state=16; total time=   0.1s\n",
      "[CV] END ......max_depth=8, n_estimators=40, random_state=16; total time=   0.1s\n",
      "[CV] END ......max_depth=8, n_estimators=40, random_state=16; total time=   0.1s\n",
      "[CV] END ......max_depth=8, n_estimators=40, random_state=16; total time=   0.1s\n",
      "[CV] END ......max_depth=8, n_estimators=40, random_state=20; total time=   0.1s\n",
      "[CV] END ......max_depth=8, n_estimators=40, random_state=20; total time=   0.1s\n",
      "[CV] END ......max_depth=8, n_estimators=40, random_state=20; total time=   0.1s\n",
      "[CV] END ......max_depth=8, n_estimators=40, random_state=20; total time=   0.1s\n",
      "[CV] END ......max_depth=8, n_estimators=40, random_state=20; total time=   0.1s\n",
      "[CV] END ......max_depth=8, n_estimators=40, random_state=25; total time=   0.1s\n",
      "[CV] END ......max_depth=8, n_estimators=40, random_state=25; total time=   0.1s\n",
      "[CV] END ......max_depth=8, n_estimators=40, random_state=25; total time=   0.1s\n",
      "[CV] END ......max_depth=8, n_estimators=40, random_state=25; total time=   0.1s\n",
      "[CV] END ......max_depth=8, n_estimators=40, random_state=25; total time=   0.1s\n",
      "[CV] END ......max_depth=8, n_estimators=50, random_state=10; total time=   0.1s\n",
      "[CV] END ......max_depth=8, n_estimators=50, random_state=10; total time=   0.1s\n",
      "[CV] END ......max_depth=8, n_estimators=50, random_state=10; total time=   0.1s\n",
      "[CV] END ......max_depth=8, n_estimators=50, random_state=10; total time=   0.1s\n",
      "[CV] END ......max_depth=8, n_estimators=50, random_state=10; total time=   0.1s\n",
      "[CV] END ......max_depth=8, n_estimators=50, random_state=13; total time=   0.1s\n",
      "[CV] END ......max_depth=8, n_estimators=50, random_state=13; total time=   0.1s\n",
      "[CV] END ......max_depth=8, n_estimators=50, random_state=13; total time=   0.1s\n",
      "[CV] END ......max_depth=8, n_estimators=50, random_state=13; total time=   0.1s\n",
      "[CV] END ......max_depth=8, n_estimators=50, random_state=13; total time=   0.1s\n",
      "[CV] END ......max_depth=8, n_estimators=50, random_state=15; total time=   0.1s\n",
      "[CV] END ......max_depth=8, n_estimators=50, random_state=15; total time=   0.1s\n",
      "[CV] END ......max_depth=8, n_estimators=50, random_state=15; total time=   0.1s\n",
      "[CV] END ......max_depth=8, n_estimators=50, random_state=15; total time=   0.1s\n",
      "[CV] END ......max_depth=8, n_estimators=50, random_state=15; total time=   0.1s\n",
      "[CV] END ......max_depth=8, n_estimators=50, random_state=16; total time=   0.1s\n",
      "[CV] END ......max_depth=8, n_estimators=50, random_state=16; total time=   0.1s\n",
      "[CV] END ......max_depth=8, n_estimators=50, random_state=16; total time=   0.1s\n",
      "[CV] END ......max_depth=8, n_estimators=50, random_state=16; total time=   0.1s\n",
      "[CV] END ......max_depth=8, n_estimators=50, random_state=16; total time=   0.1s\n",
      "[CV] END ......max_depth=8, n_estimators=50, random_state=20; total time=   0.1s\n",
      "[CV] END ......max_depth=8, n_estimators=50, random_state=20; total time=   0.1s\n",
      "[CV] END ......max_depth=8, n_estimators=50, random_state=20; total time=   0.1s\n",
      "[CV] END ......max_depth=8, n_estimators=50, random_state=20; total time=   0.1s\n",
      "[CV] END ......max_depth=8, n_estimators=50, random_state=20; total time=   0.1s\n",
      "[CV] END ......max_depth=8, n_estimators=50, random_state=25; total time=   0.1s\n",
      "[CV] END ......max_depth=8, n_estimators=50, random_state=25; total time=   0.1s\n",
      "[CV] END ......max_depth=8, n_estimators=50, random_state=25; total time=   0.1s\n",
      "[CV] END ......max_depth=8, n_estimators=50, random_state=25; total time=   0.1s\n",
      "[CV] END ......max_depth=8, n_estimators=50, random_state=25; total time=   0.1s\n",
      "[CV] END .....max_depth=8, n_estimators=500, random_state=10; total time=   0.7s\n",
      "[CV] END .....max_depth=8, n_estimators=500, random_state=10; total time=   0.8s\n",
      "[CV] END .....max_depth=8, n_estimators=500, random_state=10; total time=   0.7s\n",
      "[CV] END .....max_depth=8, n_estimators=500, random_state=10; total time=   0.7s\n",
      "[CV] END .....max_depth=8, n_estimators=500, random_state=10; total time=   0.7s\n",
      "[CV] END .....max_depth=8, n_estimators=500, random_state=13; total time=   0.7s\n",
      "[CV] END .....max_depth=8, n_estimators=500, random_state=13; total time=   0.7s\n",
      "[CV] END .....max_depth=8, n_estimators=500, random_state=13; total time=   0.7s\n",
      "[CV] END .....max_depth=8, n_estimators=500, random_state=13; total time=   0.7s\n",
      "[CV] END .....max_depth=8, n_estimators=500, random_state=13; total time=   0.7s\n",
      "[CV] END .....max_depth=8, n_estimators=500, random_state=15; total time=   0.7s\n",
      "[CV] END .....max_depth=8, n_estimators=500, random_state=15; total time=   0.7s\n",
      "[CV] END .....max_depth=8, n_estimators=500, random_state=15; total time=   0.7s\n",
      "[CV] END .....max_depth=8, n_estimators=500, random_state=15; total time=   0.7s\n",
      "[CV] END .....max_depth=8, n_estimators=500, random_state=15; total time=   0.7s\n",
      "[CV] END .....max_depth=8, n_estimators=500, random_state=16; total time=   0.7s\n",
      "[CV] END .....max_depth=8, n_estimators=500, random_state=16; total time=   0.7s\n",
      "[CV] END .....max_depth=8, n_estimators=500, random_state=16; total time=   0.7s\n",
      "[CV] END .....max_depth=8, n_estimators=500, random_state=16; total time=   0.7s\n",
      "[CV] END .....max_depth=8, n_estimators=500, random_state=16; total time=   0.7s\n",
      "[CV] END .....max_depth=8, n_estimators=500, random_state=20; total time=   0.7s\n",
      "[CV] END .....max_depth=8, n_estimators=500, random_state=20; total time=   0.7s\n",
      "[CV] END .....max_depth=8, n_estimators=500, random_state=20; total time=   0.7s\n",
      "[CV] END .....max_depth=8, n_estimators=500, random_state=20; total time=   0.7s\n",
      "[CV] END .....max_depth=8, n_estimators=500, random_state=20; total time=   0.7s\n",
      "[CV] END .....max_depth=8, n_estimators=500, random_state=25; total time=   0.7s\n",
      "[CV] END .....max_depth=8, n_estimators=500, random_state=25; total time=   0.7s\n",
      "[CV] END .....max_depth=8, n_estimators=500, random_state=25; total time=   0.7s\n",
      "[CV] END .....max_depth=8, n_estimators=500, random_state=25; total time=   0.7s\n",
      "[CV] END .....max_depth=8, n_estimators=500, random_state=25; total time=   0.7s\n",
      "[CV] END .....max_depth=8, n_estimators=344, random_state=10; total time=   0.5s\n",
      "[CV] END .....max_depth=8, n_estimators=344, random_state=10; total time=   0.5s\n",
      "[CV] END .....max_depth=8, n_estimators=344, random_state=10; total time=   0.5s\n",
      "[CV] END .....max_depth=8, n_estimators=344, random_state=10; total time=   0.5s\n",
      "[CV] END .....max_depth=8, n_estimators=344, random_state=10; total time=   0.5s\n",
      "[CV] END .....max_depth=8, n_estimators=344, random_state=13; total time=   0.5s\n",
      "[CV] END .....max_depth=8, n_estimators=344, random_state=13; total time=   0.5s\n",
      "[CV] END .....max_depth=8, n_estimators=344, random_state=13; total time=   0.5s\n",
      "[CV] END .....max_depth=8, n_estimators=344, random_state=13; total time=   0.5s\n",
      "[CV] END .....max_depth=8, n_estimators=344, random_state=13; total time=   0.5s\n",
      "[CV] END .....max_depth=8, n_estimators=344, random_state=15; total time=   0.5s\n",
      "[CV] END .....max_depth=8, n_estimators=344, random_state=15; total time=   0.5s\n",
      "[CV] END .....max_depth=8, n_estimators=344, random_state=15; total time=   0.5s\n",
      "[CV] END .....max_depth=8, n_estimators=344, random_state=15; total time=   0.5s\n",
      "[CV] END .....max_depth=8, n_estimators=344, random_state=15; total time=   0.5s\n",
      "[CV] END .....max_depth=8, n_estimators=344, random_state=16; total time=   0.5s\n",
      "[CV] END .....max_depth=8, n_estimators=344, random_state=16; total time=   0.5s\n",
      "[CV] END .....max_depth=8, n_estimators=344, random_state=16; total time=   0.5s\n",
      "[CV] END .....max_depth=8, n_estimators=344, random_state=16; total time=   0.5s\n",
      "[CV] END .....max_depth=8, n_estimators=344, random_state=16; total time=   0.5s\n",
      "[CV] END .....max_depth=8, n_estimators=344, random_state=20; total time=   0.5s\n",
      "[CV] END .....max_depth=8, n_estimators=344, random_state=20; total time=   0.5s\n",
      "[CV] END .....max_depth=8, n_estimators=344, random_state=20; total time=   0.5s\n",
      "[CV] END .....max_depth=8, n_estimators=344, random_state=20; total time=   0.5s\n",
      "[CV] END .....max_depth=8, n_estimators=344, random_state=20; total time=   0.5s\n",
      "[CV] END .....max_depth=8, n_estimators=344, random_state=25; total time=   0.5s\n",
      "[CV] END .....max_depth=8, n_estimators=344, random_state=25; total time=   0.5s\n"
     ]
    },
    {
     "name": "stdout",
     "output_type": "stream",
     "text": [
      "[CV] END .....max_depth=8, n_estimators=344, random_state=25; total time=   0.5s\n",
      "[CV] END .....max_depth=8, n_estimators=344, random_state=25; total time=   0.5s\n",
      "[CV] END .....max_depth=8, n_estimators=344, random_state=25; total time=   0.5s\n",
      "[CV] END .....max_depth=9, n_estimators=100, random_state=10; total time=   0.1s\n",
      "[CV] END .....max_depth=9, n_estimators=100, random_state=10; total time=   0.1s\n",
      "[CV] END .....max_depth=9, n_estimators=100, random_state=10; total time=   0.1s\n",
      "[CV] END .....max_depth=9, n_estimators=100, random_state=10; total time=   0.1s\n",
      "[CV] END .....max_depth=9, n_estimators=100, random_state=10; total time=   0.1s\n",
      "[CV] END .....max_depth=9, n_estimators=100, random_state=13; total time=   0.1s\n",
      "[CV] END .....max_depth=9, n_estimators=100, random_state=13; total time=   0.1s\n",
      "[CV] END .....max_depth=9, n_estimators=100, random_state=13; total time=   0.1s\n",
      "[CV] END .....max_depth=9, n_estimators=100, random_state=13; total time=   0.1s\n",
      "[CV] END .....max_depth=9, n_estimators=100, random_state=13; total time=   0.1s\n",
      "[CV] END .....max_depth=9, n_estimators=100, random_state=15; total time=   0.1s\n",
      "[CV] END .....max_depth=9, n_estimators=100, random_state=15; total time=   0.1s\n",
      "[CV] END .....max_depth=9, n_estimators=100, random_state=15; total time=   0.1s\n",
      "[CV] END .....max_depth=9, n_estimators=100, random_state=15; total time=   0.1s\n",
      "[CV] END .....max_depth=9, n_estimators=100, random_state=15; total time=   0.1s\n",
      "[CV] END .....max_depth=9, n_estimators=100, random_state=16; total time=   0.1s\n",
      "[CV] END .....max_depth=9, n_estimators=100, random_state=16; total time=   0.1s\n",
      "[CV] END .....max_depth=9, n_estimators=100, random_state=16; total time=   0.1s\n",
      "[CV] END .....max_depth=9, n_estimators=100, random_state=16; total time=   0.1s\n",
      "[CV] END .....max_depth=9, n_estimators=100, random_state=16; total time=   0.1s\n",
      "[CV] END .....max_depth=9, n_estimators=100, random_state=20; total time=   0.1s\n",
      "[CV] END .....max_depth=9, n_estimators=100, random_state=20; total time=   0.1s\n",
      "[CV] END .....max_depth=9, n_estimators=100, random_state=20; total time=   0.1s\n",
      "[CV] END .....max_depth=9, n_estimators=100, random_state=20; total time=   0.1s\n",
      "[CV] END .....max_depth=9, n_estimators=100, random_state=20; total time=   0.1s\n",
      "[CV] END .....max_depth=9, n_estimators=100, random_state=25; total time=   0.1s\n",
      "[CV] END .....max_depth=9, n_estimators=100, random_state=25; total time=   0.1s\n",
      "[CV] END .....max_depth=9, n_estimators=100, random_state=25; total time=   0.1s\n",
      "[CV] END .....max_depth=9, n_estimators=100, random_state=25; total time=   0.2s\n",
      "[CV] END .....max_depth=9, n_estimators=100, random_state=25; total time=   0.1s\n",
      "[CV] END .....max_depth=9, n_estimators=200, random_state=10; total time=   0.3s\n",
      "[CV] END .....max_depth=9, n_estimators=200, random_state=10; total time=   0.3s\n",
      "[CV] END .....max_depth=9, n_estimators=200, random_state=10; total time=   0.3s\n",
      "[CV] END .....max_depth=9, n_estimators=200, random_state=10; total time=   0.3s\n",
      "[CV] END .....max_depth=9, n_estimators=200, random_state=10; total time=   0.3s\n",
      "[CV] END .....max_depth=9, n_estimators=200, random_state=13; total time=   0.3s\n",
      "[CV] END .....max_depth=9, n_estimators=200, random_state=13; total time=   0.3s\n",
      "[CV] END .....max_depth=9, n_estimators=200, random_state=13; total time=   0.3s\n",
      "[CV] END .....max_depth=9, n_estimators=200, random_state=13; total time=   0.3s\n",
      "[CV] END .....max_depth=9, n_estimators=200, random_state=13; total time=   0.3s\n",
      "[CV] END .....max_depth=9, n_estimators=200, random_state=15; total time=   0.3s\n",
      "[CV] END .....max_depth=9, n_estimators=200, random_state=15; total time=   0.3s\n",
      "[CV] END .....max_depth=9, n_estimators=200, random_state=15; total time=   0.3s\n",
      "[CV] END .....max_depth=9, n_estimators=200, random_state=15; total time=   0.3s\n",
      "[CV] END .....max_depth=9, n_estimators=200, random_state=15; total time=   0.3s\n",
      "[CV] END .....max_depth=9, n_estimators=200, random_state=16; total time=   0.3s\n",
      "[CV] END .....max_depth=9, n_estimators=200, random_state=16; total time=   0.3s\n",
      "[CV] END .....max_depth=9, n_estimators=200, random_state=16; total time=   0.3s\n",
      "[CV] END .....max_depth=9, n_estimators=200, random_state=16; total time=   0.3s\n",
      "[CV] END .....max_depth=9, n_estimators=200, random_state=16; total time=   0.3s\n",
      "[CV] END .....max_depth=9, n_estimators=200, random_state=20; total time=   0.3s\n",
      "[CV] END .....max_depth=9, n_estimators=200, random_state=20; total time=   0.3s\n",
      "[CV] END .....max_depth=9, n_estimators=200, random_state=20; total time=   0.3s\n",
      "[CV] END .....max_depth=9, n_estimators=200, random_state=20; total time=   0.3s\n",
      "[CV] END .....max_depth=9, n_estimators=200, random_state=20; total time=   0.3s\n",
      "[CV] END .....max_depth=9, n_estimators=200, random_state=25; total time=   0.3s\n",
      "[CV] END .....max_depth=9, n_estimators=200, random_state=25; total time=   0.3s\n",
      "[CV] END .....max_depth=9, n_estimators=200, random_state=25; total time=   0.3s\n",
      "[CV] END .....max_depth=9, n_estimators=200, random_state=25; total time=   0.3s\n",
      "[CV] END .....max_depth=9, n_estimators=200, random_state=25; total time=   0.3s\n",
      "[CV] END ......max_depth=9, n_estimators=40, random_state=10; total time=   0.1s\n",
      "[CV] END ......max_depth=9, n_estimators=40, random_state=10; total time=   0.1s\n",
      "[CV] END ......max_depth=9, n_estimators=40, random_state=10; total time=   0.1s\n",
      "[CV] END ......max_depth=9, n_estimators=40, random_state=10; total time=   0.1s\n",
      "[CV] END ......max_depth=9, n_estimators=40, random_state=10; total time=   0.1s\n",
      "[CV] END ......max_depth=9, n_estimators=40, random_state=13; total time=   0.1s\n",
      "[CV] END ......max_depth=9, n_estimators=40, random_state=13; total time=   0.1s\n",
      "[CV] END ......max_depth=9, n_estimators=40, random_state=13; total time=   0.1s\n",
      "[CV] END ......max_depth=9, n_estimators=40, random_state=13; total time=   0.1s\n",
      "[CV] END ......max_depth=9, n_estimators=40, random_state=13; total time=   0.1s\n",
      "[CV] END ......max_depth=9, n_estimators=40, random_state=15; total time=   0.1s\n",
      "[CV] END ......max_depth=9, n_estimators=40, random_state=15; total time=   0.1s\n",
      "[CV] END ......max_depth=9, n_estimators=40, random_state=15; total time=   0.1s\n",
      "[CV] END ......max_depth=9, n_estimators=40, random_state=15; total time=   0.1s\n",
      "[CV] END ......max_depth=9, n_estimators=40, random_state=15; total time=   0.1s\n",
      "[CV] END ......max_depth=9, n_estimators=40, random_state=16; total time=   0.1s\n",
      "[CV] END ......max_depth=9, n_estimators=40, random_state=16; total time=   0.1s\n",
      "[CV] END ......max_depth=9, n_estimators=40, random_state=16; total time=   0.1s\n",
      "[CV] END ......max_depth=9, n_estimators=40, random_state=16; total time=   0.1s\n",
      "[CV] END ......max_depth=9, n_estimators=40, random_state=16; total time=   0.1s\n",
      "[CV] END ......max_depth=9, n_estimators=40, random_state=20; total time=   0.1s\n",
      "[CV] END ......max_depth=9, n_estimators=40, random_state=20; total time=   0.1s\n",
      "[CV] END ......max_depth=9, n_estimators=40, random_state=20; total time=   0.1s\n",
      "[CV] END ......max_depth=9, n_estimators=40, random_state=20; total time=   0.1s\n",
      "[CV] END ......max_depth=9, n_estimators=40, random_state=20; total time=   0.1s\n",
      "[CV] END ......max_depth=9, n_estimators=40, random_state=25; total time=   0.1s\n",
      "[CV] END ......max_depth=9, n_estimators=40, random_state=25; total time=   0.1s\n",
      "[CV] END ......max_depth=9, n_estimators=40, random_state=25; total time=   0.1s\n",
      "[CV] END ......max_depth=9, n_estimators=40, random_state=25; total time=   0.1s\n",
      "[CV] END ......max_depth=9, n_estimators=40, random_state=25; total time=   0.1s\n",
      "[CV] END ......max_depth=9, n_estimators=50, random_state=10; total time=   0.1s\n",
      "[CV] END ......max_depth=9, n_estimators=50, random_state=10; total time=   0.1s\n",
      "[CV] END ......max_depth=9, n_estimators=50, random_state=10; total time=   0.1s\n",
      "[CV] END ......max_depth=9, n_estimators=50, random_state=10; total time=   0.1s\n",
      "[CV] END ......max_depth=9, n_estimators=50, random_state=10; total time=   0.1s\n",
      "[CV] END ......max_depth=9, n_estimators=50, random_state=13; total time=   0.1s\n",
      "[CV] END ......max_depth=9, n_estimators=50, random_state=13; total time=   0.1s\n",
      "[CV] END ......max_depth=9, n_estimators=50, random_state=13; total time=   0.1s\n",
      "[CV] END ......max_depth=9, n_estimators=50, random_state=13; total time=   0.1s\n",
      "[CV] END ......max_depth=9, n_estimators=50, random_state=13; total time=   0.1s\n"
     ]
    },
    {
     "name": "stdout",
     "output_type": "stream",
     "text": [
      "[CV] END ......max_depth=9, n_estimators=50, random_state=15; total time=   0.1s\n",
      "[CV] END ......max_depth=9, n_estimators=50, random_state=15; total time=   0.1s\n",
      "[CV] END ......max_depth=9, n_estimators=50, random_state=15; total time=   0.1s\n",
      "[CV] END ......max_depth=9, n_estimators=50, random_state=15; total time=   0.1s\n",
      "[CV] END ......max_depth=9, n_estimators=50, random_state=15; total time=   0.1s\n",
      "[CV] END ......max_depth=9, n_estimators=50, random_state=16; total time=   0.1s\n",
      "[CV] END ......max_depth=9, n_estimators=50, random_state=16; total time=   0.1s\n",
      "[CV] END ......max_depth=9, n_estimators=50, random_state=16; total time=   0.1s\n",
      "[CV] END ......max_depth=9, n_estimators=50, random_state=16; total time=   0.1s\n",
      "[CV] END ......max_depth=9, n_estimators=50, random_state=16; total time=   0.1s\n",
      "[CV] END ......max_depth=9, n_estimators=50, random_state=20; total time=   0.1s\n",
      "[CV] END ......max_depth=9, n_estimators=50, random_state=20; total time=   0.1s\n",
      "[CV] END ......max_depth=9, n_estimators=50, random_state=20; total time=   0.1s\n",
      "[CV] END ......max_depth=9, n_estimators=50, random_state=20; total time=   0.1s\n",
      "[CV] END ......max_depth=9, n_estimators=50, random_state=20; total time=   0.1s\n",
      "[CV] END ......max_depth=9, n_estimators=50, random_state=25; total time=   0.1s\n",
      "[CV] END ......max_depth=9, n_estimators=50, random_state=25; total time=   0.1s\n",
      "[CV] END ......max_depth=9, n_estimators=50, random_state=25; total time=   0.1s\n",
      "[CV] END ......max_depth=9, n_estimators=50, random_state=25; total time=   0.1s\n",
      "[CV] END ......max_depth=9, n_estimators=50, random_state=25; total time=   0.1s\n",
      "[CV] END .....max_depth=9, n_estimators=500, random_state=10; total time=   0.7s\n",
      "[CV] END .....max_depth=9, n_estimators=500, random_state=10; total time=   0.7s\n",
      "[CV] END .....max_depth=9, n_estimators=500, random_state=10; total time=   0.7s\n",
      "[CV] END .....max_depth=9, n_estimators=500, random_state=10; total time=   0.7s\n",
      "[CV] END .....max_depth=9, n_estimators=500, random_state=10; total time=   0.7s\n",
      "[CV] END .....max_depth=9, n_estimators=500, random_state=13; total time=   0.7s\n",
      "[CV] END .....max_depth=9, n_estimators=500, random_state=13; total time=   0.7s\n",
      "[CV] END .....max_depth=9, n_estimators=500, random_state=13; total time=   0.7s\n",
      "[CV] END .....max_depth=9, n_estimators=500, random_state=13; total time=   0.7s\n",
      "[CV] END .....max_depth=9, n_estimators=500, random_state=13; total time=   0.7s\n",
      "[CV] END .....max_depth=9, n_estimators=500, random_state=15; total time=   0.7s\n",
      "[CV] END .....max_depth=9, n_estimators=500, random_state=15; total time=   0.7s\n",
      "[CV] END .....max_depth=9, n_estimators=500, random_state=15; total time=   0.7s\n",
      "[CV] END .....max_depth=9, n_estimators=500, random_state=15; total time=   0.7s\n",
      "[CV] END .....max_depth=9, n_estimators=500, random_state=15; total time=   0.7s\n",
      "[CV] END .....max_depth=9, n_estimators=500, random_state=16; total time=   0.7s\n",
      "[CV] END .....max_depth=9, n_estimators=500, random_state=16; total time=   0.7s\n",
      "[CV] END .....max_depth=9, n_estimators=500, random_state=16; total time=   0.7s\n",
      "[CV] END .....max_depth=9, n_estimators=500, random_state=16; total time=   0.7s\n",
      "[CV] END .....max_depth=9, n_estimators=500, random_state=16; total time=   0.7s\n",
      "[CV] END .....max_depth=9, n_estimators=500, random_state=20; total time=   0.7s\n",
      "[CV] END .....max_depth=9, n_estimators=500, random_state=20; total time=   0.7s\n",
      "[CV] END .....max_depth=9, n_estimators=500, random_state=20; total time=   0.7s\n",
      "[CV] END .....max_depth=9, n_estimators=500, random_state=20; total time=   0.7s\n",
      "[CV] END .....max_depth=9, n_estimators=500, random_state=20; total time=   0.7s\n",
      "[CV] END .....max_depth=9, n_estimators=500, random_state=25; total time=   0.7s\n",
      "[CV] END .....max_depth=9, n_estimators=500, random_state=25; total time=   0.7s\n",
      "[CV] END .....max_depth=9, n_estimators=500, random_state=25; total time=   0.7s\n",
      "[CV] END .....max_depth=9, n_estimators=500, random_state=25; total time=   0.7s\n",
      "[CV] END .....max_depth=9, n_estimators=500, random_state=25; total time=   0.7s\n",
      "[CV] END .....max_depth=9, n_estimators=344, random_state=10; total time=   0.5s\n",
      "[CV] END .....max_depth=9, n_estimators=344, random_state=10; total time=   0.5s\n",
      "[CV] END .....max_depth=9, n_estimators=344, random_state=10; total time=   0.5s\n",
      "[CV] END .....max_depth=9, n_estimators=344, random_state=10; total time=   0.5s\n",
      "[CV] END .....max_depth=9, n_estimators=344, random_state=10; total time=   0.5s\n",
      "[CV] END .....max_depth=9, n_estimators=344, random_state=13; total time=   0.5s\n",
      "[CV] END .....max_depth=9, n_estimators=344, random_state=13; total time=   0.5s\n",
      "[CV] END .....max_depth=9, n_estimators=344, random_state=13; total time=   0.5s\n",
      "[CV] END .....max_depth=9, n_estimators=344, random_state=13; total time=   0.5s\n",
      "[CV] END .....max_depth=9, n_estimators=344, random_state=13; total time=   0.5s\n",
      "[CV] END .....max_depth=9, n_estimators=344, random_state=15; total time=   0.5s\n",
      "[CV] END .....max_depth=9, n_estimators=344, random_state=15; total time=   0.5s\n",
      "[CV] END .....max_depth=9, n_estimators=344, random_state=15; total time=   0.5s\n",
      "[CV] END .....max_depth=9, n_estimators=344, random_state=15; total time=   0.5s\n",
      "[CV] END .....max_depth=9, n_estimators=344, random_state=15; total time=   0.5s\n",
      "[CV] END .....max_depth=9, n_estimators=344, random_state=16; total time=   0.5s\n",
      "[CV] END .....max_depth=9, n_estimators=344, random_state=16; total time=   0.5s\n",
      "[CV] END .....max_depth=9, n_estimators=344, random_state=16; total time=   0.5s\n",
      "[CV] END .....max_depth=9, n_estimators=344, random_state=16; total time=   0.5s\n",
      "[CV] END .....max_depth=9, n_estimators=344, random_state=16; total time=   0.5s\n",
      "[CV] END .....max_depth=9, n_estimators=344, random_state=20; total time=   0.5s\n",
      "[CV] END .....max_depth=9, n_estimators=344, random_state=20; total time=   0.5s\n",
      "[CV] END .....max_depth=9, n_estimators=344, random_state=20; total time=   0.5s\n",
      "[CV] END .....max_depth=9, n_estimators=344, random_state=20; total time=   0.5s\n",
      "[CV] END .....max_depth=9, n_estimators=344, random_state=20; total time=   0.5s\n",
      "[CV] END .....max_depth=9, n_estimators=344, random_state=25; total time=   0.5s\n",
      "[CV] END .....max_depth=9, n_estimators=344, random_state=25; total time=   0.5s\n",
      "[CV] END .....max_depth=9, n_estimators=344, random_state=25; total time=   0.5s\n",
      "[CV] END .....max_depth=9, n_estimators=344, random_state=25; total time=   0.5s\n",
      "[CV] END .....max_depth=9, n_estimators=344, random_state=25; total time=   0.5s\n",
      "[CV] END ....max_depth=10, n_estimators=100, random_state=10; total time=   0.1s\n",
      "[CV] END ....max_depth=10, n_estimators=100, random_state=10; total time=   0.1s\n",
      "[CV] END ....max_depth=10, n_estimators=100, random_state=10; total time=   0.1s\n",
      "[CV] END ....max_depth=10, n_estimators=100, random_state=10; total time=   0.1s\n",
      "[CV] END ....max_depth=10, n_estimators=100, random_state=10; total time=   0.1s\n",
      "[CV] END ....max_depth=10, n_estimators=100, random_state=13; total time=   0.1s\n",
      "[CV] END ....max_depth=10, n_estimators=100, random_state=13; total time=   0.1s\n",
      "[CV] END ....max_depth=10, n_estimators=100, random_state=13; total time=   0.1s\n",
      "[CV] END ....max_depth=10, n_estimators=100, random_state=13; total time=   0.1s\n",
      "[CV] END ....max_depth=10, n_estimators=100, random_state=13; total time=   0.1s\n",
      "[CV] END ....max_depth=10, n_estimators=100, random_state=15; total time=   0.1s\n",
      "[CV] END ....max_depth=10, n_estimators=100, random_state=15; total time=   0.2s\n",
      "[CV] END ....max_depth=10, n_estimators=100, random_state=15; total time=   0.1s\n",
      "[CV] END ....max_depth=10, n_estimators=100, random_state=15; total time=   0.1s\n",
      "[CV] END ....max_depth=10, n_estimators=100, random_state=15; total time=   0.1s\n",
      "[CV] END ....max_depth=10, n_estimators=100, random_state=16; total time=   0.1s\n",
      "[CV] END ....max_depth=10, n_estimators=100, random_state=16; total time=   0.1s\n",
      "[CV] END ....max_depth=10, n_estimators=100, random_state=16; total time=   0.1s\n",
      "[CV] END ....max_depth=10, n_estimators=100, random_state=16; total time=   0.1s\n",
      "[CV] END ....max_depth=10, n_estimators=100, random_state=16; total time=   0.1s\n",
      "[CV] END ....max_depth=10, n_estimators=100, random_state=20; total time=   0.1s\n",
      "[CV] END ....max_depth=10, n_estimators=100, random_state=20; total time=   0.1s\n",
      "[CV] END ....max_depth=10, n_estimators=100, random_state=20; total time=   0.1s\n"
     ]
    },
    {
     "name": "stdout",
     "output_type": "stream",
     "text": [
      "[CV] END ....max_depth=10, n_estimators=100, random_state=20; total time=   0.1s\n",
      "[CV] END ....max_depth=10, n_estimators=100, random_state=20; total time=   0.1s\n",
      "[CV] END ....max_depth=10, n_estimators=100, random_state=25; total time=   0.1s\n",
      "[CV] END ....max_depth=10, n_estimators=100, random_state=25; total time=   0.1s\n",
      "[CV] END ....max_depth=10, n_estimators=100, random_state=25; total time=   0.1s\n",
      "[CV] END ....max_depth=10, n_estimators=100, random_state=25; total time=   0.1s\n",
      "[CV] END ....max_depth=10, n_estimators=100, random_state=25; total time=   0.2s\n",
      "[CV] END ....max_depth=10, n_estimators=200, random_state=10; total time=   0.3s\n",
      "[CV] END ....max_depth=10, n_estimators=200, random_state=10; total time=   0.3s\n",
      "[CV] END ....max_depth=10, n_estimators=200, random_state=10; total time=   0.3s\n",
      "[CV] END ....max_depth=10, n_estimators=200, random_state=10; total time=   0.3s\n",
      "[CV] END ....max_depth=10, n_estimators=200, random_state=10; total time=   0.3s\n",
      "[CV] END ....max_depth=10, n_estimators=200, random_state=13; total time=   0.3s\n",
      "[CV] END ....max_depth=10, n_estimators=200, random_state=13; total time=   0.3s\n",
      "[CV] END ....max_depth=10, n_estimators=200, random_state=13; total time=   0.3s\n",
      "[CV] END ....max_depth=10, n_estimators=200, random_state=13; total time=   0.3s\n",
      "[CV] END ....max_depth=10, n_estimators=200, random_state=13; total time=   0.3s\n",
      "[CV] END ....max_depth=10, n_estimators=200, random_state=15; total time=   0.3s\n",
      "[CV] END ....max_depth=10, n_estimators=200, random_state=15; total time=   0.3s\n",
      "[CV] END ....max_depth=10, n_estimators=200, random_state=15; total time=   0.3s\n",
      "[CV] END ....max_depth=10, n_estimators=200, random_state=15; total time=   0.3s\n",
      "[CV] END ....max_depth=10, n_estimators=200, random_state=15; total time=   0.3s\n",
      "[CV] END ....max_depth=10, n_estimators=200, random_state=16; total time=   0.3s\n",
      "[CV] END ....max_depth=10, n_estimators=200, random_state=16; total time=   0.3s\n",
      "[CV] END ....max_depth=10, n_estimators=200, random_state=16; total time=   0.3s\n",
      "[CV] END ....max_depth=10, n_estimators=200, random_state=16; total time=   0.3s\n",
      "[CV] END ....max_depth=10, n_estimators=200, random_state=16; total time=   0.3s\n",
      "[CV] END ....max_depth=10, n_estimators=200, random_state=20; total time=   0.3s\n",
      "[CV] END ....max_depth=10, n_estimators=200, random_state=20; total time=   0.3s\n",
      "[CV] END ....max_depth=10, n_estimators=200, random_state=20; total time=   0.3s\n",
      "[CV] END ....max_depth=10, n_estimators=200, random_state=20; total time=   0.3s\n",
      "[CV] END ....max_depth=10, n_estimators=200, random_state=20; total time=   0.3s\n",
      "[CV] END ....max_depth=10, n_estimators=200, random_state=25; total time=   0.3s\n",
      "[CV] END ....max_depth=10, n_estimators=200, random_state=25; total time=   0.3s\n",
      "[CV] END ....max_depth=10, n_estimators=200, random_state=25; total time=   0.3s\n",
      "[CV] END ....max_depth=10, n_estimators=200, random_state=25; total time=   0.3s\n",
      "[CV] END ....max_depth=10, n_estimators=200, random_state=25; total time=   0.3s\n",
      "[CV] END .....max_depth=10, n_estimators=40, random_state=10; total time=   0.1s\n",
      "[CV] END .....max_depth=10, n_estimators=40, random_state=10; total time=   0.1s\n",
      "[CV] END .....max_depth=10, n_estimators=40, random_state=10; total time=   0.1s\n",
      "[CV] END .....max_depth=10, n_estimators=40, random_state=10; total time=   0.1s\n",
      "[CV] END .....max_depth=10, n_estimators=40, random_state=10; total time=   0.1s\n",
      "[CV] END .....max_depth=10, n_estimators=40, random_state=13; total time=   0.1s\n",
      "[CV] END .....max_depth=10, n_estimators=40, random_state=13; total time=   0.1s\n",
      "[CV] END .....max_depth=10, n_estimators=40, random_state=13; total time=   0.1s\n",
      "[CV] END .....max_depth=10, n_estimators=40, random_state=13; total time=   0.1s\n",
      "[CV] END .....max_depth=10, n_estimators=40, random_state=13; total time=   0.1s\n",
      "[CV] END .....max_depth=10, n_estimators=40, random_state=15; total time=   0.1s\n",
      "[CV] END .....max_depth=10, n_estimators=40, random_state=15; total time=   0.1s\n",
      "[CV] END .....max_depth=10, n_estimators=40, random_state=15; total time=   0.1s\n",
      "[CV] END .....max_depth=10, n_estimators=40, random_state=15; total time=   0.1s\n",
      "[CV] END .....max_depth=10, n_estimators=40, random_state=15; total time=   0.1s\n",
      "[CV] END .....max_depth=10, n_estimators=40, random_state=16; total time=   0.1s\n",
      "[CV] END .....max_depth=10, n_estimators=40, random_state=16; total time=   0.1s\n",
      "[CV] END .....max_depth=10, n_estimators=40, random_state=16; total time=   0.1s\n",
      "[CV] END .....max_depth=10, n_estimators=40, random_state=16; total time=   0.1s\n",
      "[CV] END .....max_depth=10, n_estimators=40, random_state=16; total time=   0.1s\n",
      "[CV] END .....max_depth=10, n_estimators=40, random_state=20; total time=   0.1s\n",
      "[CV] END .....max_depth=10, n_estimators=40, random_state=20; total time=   0.1s\n",
      "[CV] END .....max_depth=10, n_estimators=40, random_state=20; total time=   0.1s\n",
      "[CV] END .....max_depth=10, n_estimators=40, random_state=20; total time=   0.1s\n",
      "[CV] END .....max_depth=10, n_estimators=40, random_state=20; total time=   0.1s\n",
      "[CV] END .....max_depth=10, n_estimators=40, random_state=25; total time=   0.1s\n",
      "[CV] END .....max_depth=10, n_estimators=40, random_state=25; total time=   0.1s\n",
      "[CV] END .....max_depth=10, n_estimators=40, random_state=25; total time=   0.1s\n",
      "[CV] END .....max_depth=10, n_estimators=40, random_state=25; total time=   0.1s\n",
      "[CV] END .....max_depth=10, n_estimators=40, random_state=25; total time=   0.1s\n",
      "[CV] END .....max_depth=10, n_estimators=50, random_state=10; total time=   0.1s\n",
      "[CV] END .....max_depth=10, n_estimators=50, random_state=10; total time=   0.1s\n",
      "[CV] END .....max_depth=10, n_estimators=50, random_state=10; total time=   0.1s\n",
      "[CV] END .....max_depth=10, n_estimators=50, random_state=10; total time=   0.1s\n",
      "[CV] END .....max_depth=10, n_estimators=50, random_state=10; total time=   0.1s\n",
      "[CV] END .....max_depth=10, n_estimators=50, random_state=13; total time=   0.1s\n",
      "[CV] END .....max_depth=10, n_estimators=50, random_state=13; total time=   0.1s\n",
      "[CV] END .....max_depth=10, n_estimators=50, random_state=13; total time=   0.1s\n",
      "[CV] END .....max_depth=10, n_estimators=50, random_state=13; total time=   0.1s\n",
      "[CV] END .....max_depth=10, n_estimators=50, random_state=13; total time=   0.1s\n",
      "[CV] END .....max_depth=10, n_estimators=50, random_state=15; total time=   0.1s\n",
      "[CV] END .....max_depth=10, n_estimators=50, random_state=15; total time=   0.1s\n",
      "[CV] END .....max_depth=10, n_estimators=50, random_state=15; total time=   0.1s\n",
      "[CV] END .....max_depth=10, n_estimators=50, random_state=15; total time=   0.1s\n",
      "[CV] END .....max_depth=10, n_estimators=50, random_state=15; total time=   0.1s\n",
      "[CV] END .....max_depth=10, n_estimators=50, random_state=16; total time=   0.1s\n",
      "[CV] END .....max_depth=10, n_estimators=50, random_state=16; total time=   0.1s\n",
      "[CV] END .....max_depth=10, n_estimators=50, random_state=16; total time=   0.1s\n",
      "[CV] END .....max_depth=10, n_estimators=50, random_state=16; total time=   0.1s\n",
      "[CV] END .....max_depth=10, n_estimators=50, random_state=16; total time=   0.1s\n",
      "[CV] END .....max_depth=10, n_estimators=50, random_state=20; total time=   0.1s\n",
      "[CV] END .....max_depth=10, n_estimators=50, random_state=20; total time=   0.1s\n",
      "[CV] END .....max_depth=10, n_estimators=50, random_state=20; total time=   0.1s\n",
      "[CV] END .....max_depth=10, n_estimators=50, random_state=20; total time=   0.1s\n",
      "[CV] END .....max_depth=10, n_estimators=50, random_state=20; total time=   0.1s\n",
      "[CV] END .....max_depth=10, n_estimators=50, random_state=25; total time=   0.1s\n",
      "[CV] END .....max_depth=10, n_estimators=50, random_state=25; total time=   0.1s\n",
      "[CV] END .....max_depth=10, n_estimators=50, random_state=25; total time=   0.1s\n",
      "[CV] END .....max_depth=10, n_estimators=50, random_state=25; total time=   0.1s\n",
      "[CV] END .....max_depth=10, n_estimators=50, random_state=25; total time=   0.1s\n",
      "[CV] END ....max_depth=10, n_estimators=500, random_state=10; total time=   0.7s\n",
      "[CV] END ....max_depth=10, n_estimators=500, random_state=10; total time=   0.7s\n",
      "[CV] END ....max_depth=10, n_estimators=500, random_state=10; total time=   0.7s\n",
      "[CV] END ....max_depth=10, n_estimators=500, random_state=10; total time=   0.7s\n",
      "[CV] END ....max_depth=10, n_estimators=500, random_state=10; total time=   0.7s\n"
     ]
    },
    {
     "name": "stdout",
     "output_type": "stream",
     "text": [
      "[CV] END ....max_depth=10, n_estimators=500, random_state=13; total time=   0.7s\n",
      "[CV] END ....max_depth=10, n_estimators=500, random_state=13; total time=   0.7s\n",
      "[CV] END ....max_depth=10, n_estimators=500, random_state=13; total time=   0.7s\n",
      "[CV] END ....max_depth=10, n_estimators=500, random_state=13; total time=   0.7s\n",
      "[CV] END ....max_depth=10, n_estimators=500, random_state=13; total time=   0.7s\n",
      "[CV] END ....max_depth=10, n_estimators=500, random_state=15; total time=   0.7s\n",
      "[CV] END ....max_depth=10, n_estimators=500, random_state=15; total time=   0.7s\n",
      "[CV] END ....max_depth=10, n_estimators=500, random_state=15; total time=   0.7s\n",
      "[CV] END ....max_depth=10, n_estimators=500, random_state=15; total time=   0.7s\n",
      "[CV] END ....max_depth=10, n_estimators=500, random_state=15; total time=   0.7s\n",
      "[CV] END ....max_depth=10, n_estimators=500, random_state=16; total time=   0.7s\n",
      "[CV] END ....max_depth=10, n_estimators=500, random_state=16; total time=   0.7s\n",
      "[CV] END ....max_depth=10, n_estimators=500, random_state=16; total time=   0.7s\n",
      "[CV] END ....max_depth=10, n_estimators=500, random_state=16; total time=   0.7s\n",
      "[CV] END ....max_depth=10, n_estimators=500, random_state=16; total time=   0.7s\n",
      "[CV] END ....max_depth=10, n_estimators=500, random_state=20; total time=   0.7s\n",
      "[CV] END ....max_depth=10, n_estimators=500, random_state=20; total time=   0.7s\n",
      "[CV] END ....max_depth=10, n_estimators=500, random_state=20; total time=   0.8s\n",
      "[CV] END ....max_depth=10, n_estimators=500, random_state=20; total time=   0.7s\n",
      "[CV] END ....max_depth=10, n_estimators=500, random_state=20; total time=   0.7s\n",
      "[CV] END ....max_depth=10, n_estimators=500, random_state=25; total time=   0.7s\n",
      "[CV] END ....max_depth=10, n_estimators=500, random_state=25; total time=   0.7s\n",
      "[CV] END ....max_depth=10, n_estimators=500, random_state=25; total time=   0.7s\n",
      "[CV] END ....max_depth=10, n_estimators=500, random_state=25; total time=   0.7s\n",
      "[CV] END ....max_depth=10, n_estimators=500, random_state=25; total time=   0.7s\n",
      "[CV] END ....max_depth=10, n_estimators=344, random_state=10; total time=   0.5s\n",
      "[CV] END ....max_depth=10, n_estimators=344, random_state=10; total time=   0.5s\n",
      "[CV] END ....max_depth=10, n_estimators=344, random_state=10; total time=   0.5s\n",
      "[CV] END ....max_depth=10, n_estimators=344, random_state=10; total time=   0.5s\n",
      "[CV] END ....max_depth=10, n_estimators=344, random_state=10; total time=   0.5s\n",
      "[CV] END ....max_depth=10, n_estimators=344, random_state=13; total time=   0.5s\n",
      "[CV] END ....max_depth=10, n_estimators=344, random_state=13; total time=   0.5s\n",
      "[CV] END ....max_depth=10, n_estimators=344, random_state=13; total time=   0.5s\n",
      "[CV] END ....max_depth=10, n_estimators=344, random_state=13; total time=   0.5s\n",
      "[CV] END ....max_depth=10, n_estimators=344, random_state=13; total time=   0.5s\n",
      "[CV] END ....max_depth=10, n_estimators=344, random_state=15; total time=   0.5s\n",
      "[CV] END ....max_depth=10, n_estimators=344, random_state=15; total time=   0.5s\n",
      "[CV] END ....max_depth=10, n_estimators=344, random_state=15; total time=   0.5s\n",
      "[CV] END ....max_depth=10, n_estimators=344, random_state=15; total time=   0.5s\n",
      "[CV] END ....max_depth=10, n_estimators=344, random_state=15; total time=   0.5s\n",
      "[CV] END ....max_depth=10, n_estimators=344, random_state=16; total time=   0.5s\n",
      "[CV] END ....max_depth=10, n_estimators=344, random_state=16; total time=   0.5s\n",
      "[CV] END ....max_depth=10, n_estimators=344, random_state=16; total time=   0.5s\n",
      "[CV] END ....max_depth=10, n_estimators=344, random_state=16; total time=   0.5s\n",
      "[CV] END ....max_depth=10, n_estimators=344, random_state=16; total time=   0.5s\n",
      "[CV] END ....max_depth=10, n_estimators=344, random_state=20; total time=   0.5s\n",
      "[CV] END ....max_depth=10, n_estimators=344, random_state=20; total time=   0.5s\n",
      "[CV] END ....max_depth=10, n_estimators=344, random_state=20; total time=   0.5s\n",
      "[CV] END ....max_depth=10, n_estimators=344, random_state=20; total time=   0.5s\n",
      "[CV] END ....max_depth=10, n_estimators=344, random_state=20; total time=   0.5s\n",
      "[CV] END ....max_depth=10, n_estimators=344, random_state=25; total time=   0.5s\n",
      "[CV] END ....max_depth=10, n_estimators=344, random_state=25; total time=   0.5s\n",
      "[CV] END ....max_depth=10, n_estimators=344, random_state=25; total time=   0.5s\n",
      "[CV] END ....max_depth=10, n_estimators=344, random_state=25; total time=   0.5s\n",
      "[CV] END ....max_depth=10, n_estimators=344, random_state=25; total time=   0.5s\n",
      "[CV] END ....max_depth=14, n_estimators=100, random_state=10; total time=   0.1s\n",
      "[CV] END ....max_depth=14, n_estimators=100, random_state=10; total time=   0.1s\n",
      "[CV] END ....max_depth=14, n_estimators=100, random_state=10; total time=   0.1s\n",
      "[CV] END ....max_depth=14, n_estimators=100, random_state=10; total time=   0.1s\n",
      "[CV] END ....max_depth=14, n_estimators=100, random_state=10; total time=   0.2s\n",
      "[CV] END ....max_depth=14, n_estimators=100, random_state=13; total time=   0.2s\n",
      "[CV] END ....max_depth=14, n_estimators=100, random_state=13; total time=   0.1s\n",
      "[CV] END ....max_depth=14, n_estimators=100, random_state=13; total time=   0.1s\n",
      "[CV] END ....max_depth=14, n_estimators=100, random_state=13; total time=   0.1s\n",
      "[CV] END ....max_depth=14, n_estimators=100, random_state=13; total time=   0.2s\n",
      "[CV] END ....max_depth=14, n_estimators=100, random_state=15; total time=   0.1s\n",
      "[CV] END ....max_depth=14, n_estimators=100, random_state=15; total time=   0.1s\n",
      "[CV] END ....max_depth=14, n_estimators=100, random_state=15; total time=   0.1s\n",
      "[CV] END ....max_depth=14, n_estimators=100, random_state=15; total time=   0.1s\n",
      "[CV] END ....max_depth=14, n_estimators=100, random_state=15; total time=   0.1s\n",
      "[CV] END ....max_depth=14, n_estimators=100, random_state=16; total time=   0.2s\n",
      "[CV] END ....max_depth=14, n_estimators=100, random_state=16; total time=   0.1s\n",
      "[CV] END ....max_depth=14, n_estimators=100, random_state=16; total time=   0.2s\n",
      "[CV] END ....max_depth=14, n_estimators=100, random_state=16; total time=   0.2s\n",
      "[CV] END ....max_depth=14, n_estimators=100, random_state=16; total time=   0.2s\n",
      "[CV] END ....max_depth=14, n_estimators=100, random_state=20; total time=   0.2s\n",
      "[CV] END ....max_depth=14, n_estimators=100, random_state=20; total time=   0.1s\n",
      "[CV] END ....max_depth=14, n_estimators=100, random_state=20; total time=   0.2s\n",
      "[CV] END ....max_depth=14, n_estimators=100, random_state=20; total time=   0.2s\n",
      "[CV] END ....max_depth=14, n_estimators=100, random_state=20; total time=   0.2s\n",
      "[CV] END ....max_depth=14, n_estimators=100, random_state=25; total time=   0.2s\n",
      "[CV] END ....max_depth=14, n_estimators=100, random_state=25; total time=   0.2s\n",
      "[CV] END ....max_depth=14, n_estimators=100, random_state=25; total time=   0.1s\n",
      "[CV] END ....max_depth=14, n_estimators=100, random_state=25; total time=   0.1s\n",
      "[CV] END ....max_depth=14, n_estimators=100, random_state=25; total time=   0.2s\n",
      "[CV] END ....max_depth=14, n_estimators=200, random_state=10; total time=   0.3s\n",
      "[CV] END ....max_depth=14, n_estimators=200, random_state=10; total time=   0.3s\n",
      "[CV] END ....max_depth=14, n_estimators=200, random_state=10; total time=   0.3s\n",
      "[CV] END ....max_depth=14, n_estimators=200, random_state=10; total time=   0.3s\n",
      "[CV] END ....max_depth=14, n_estimators=200, random_state=10; total time=   0.3s\n",
      "[CV] END ....max_depth=14, n_estimators=200, random_state=13; total time=   0.3s\n",
      "[CV] END ....max_depth=14, n_estimators=200, random_state=13; total time=   0.3s\n",
      "[CV] END ....max_depth=14, n_estimators=200, random_state=13; total time=   0.3s\n",
      "[CV] END ....max_depth=14, n_estimators=200, random_state=13; total time=   0.3s\n",
      "[CV] END ....max_depth=14, n_estimators=200, random_state=13; total time=   0.3s\n",
      "[CV] END ....max_depth=14, n_estimators=200, random_state=15; total time=   0.3s\n",
      "[CV] END ....max_depth=14, n_estimators=200, random_state=15; total time=   0.3s\n",
      "[CV] END ....max_depth=14, n_estimators=200, random_state=15; total time=   0.3s\n",
      "[CV] END ....max_depth=14, n_estimators=200, random_state=15; total time=   0.3s\n",
      "[CV] END ....max_depth=14, n_estimators=200, random_state=15; total time=   0.3s\n",
      "[CV] END ....max_depth=14, n_estimators=200, random_state=16; total time=   0.3s\n",
      "[CV] END ....max_depth=14, n_estimators=200, random_state=16; total time=   0.3s\n"
     ]
    },
    {
     "name": "stdout",
     "output_type": "stream",
     "text": [
      "[CV] END ....max_depth=14, n_estimators=200, random_state=16; total time=   0.3s\n",
      "[CV] END ....max_depth=14, n_estimators=200, random_state=16; total time=   0.3s\n",
      "[CV] END ....max_depth=14, n_estimators=200, random_state=16; total time=   0.3s\n",
      "[CV] END ....max_depth=14, n_estimators=200, random_state=20; total time=   0.3s\n",
      "[CV] END ....max_depth=14, n_estimators=200, random_state=20; total time=   0.3s\n",
      "[CV] END ....max_depth=14, n_estimators=200, random_state=20; total time=   0.3s\n",
      "[CV] END ....max_depth=14, n_estimators=200, random_state=20; total time=   0.3s\n",
      "[CV] END ....max_depth=14, n_estimators=200, random_state=20; total time=   0.3s\n",
      "[CV] END ....max_depth=14, n_estimators=200, random_state=25; total time=   0.3s\n",
      "[CV] END ....max_depth=14, n_estimators=200, random_state=25; total time=   0.3s\n",
      "[CV] END ....max_depth=14, n_estimators=200, random_state=25; total time=   0.3s\n",
      "[CV] END ....max_depth=14, n_estimators=200, random_state=25; total time=   0.3s\n",
      "[CV] END ....max_depth=14, n_estimators=200, random_state=25; total time=   0.3s\n",
      "[CV] END .....max_depth=14, n_estimators=40, random_state=10; total time=   0.1s\n",
      "[CV] END .....max_depth=14, n_estimators=40, random_state=10; total time=   0.1s\n",
      "[CV] END .....max_depth=14, n_estimators=40, random_state=10; total time=   0.1s\n",
      "[CV] END .....max_depth=14, n_estimators=40, random_state=10; total time=   0.1s\n",
      "[CV] END .....max_depth=14, n_estimators=40, random_state=10; total time=   0.1s\n",
      "[CV] END .....max_depth=14, n_estimators=40, random_state=13; total time=   0.1s\n",
      "[CV] END .....max_depth=14, n_estimators=40, random_state=13; total time=   0.1s\n",
      "[CV] END .....max_depth=14, n_estimators=40, random_state=13; total time=   0.1s\n",
      "[CV] END .....max_depth=14, n_estimators=40, random_state=13; total time=   0.1s\n",
      "[CV] END .....max_depth=14, n_estimators=40, random_state=13; total time=   0.1s\n",
      "[CV] END .....max_depth=14, n_estimators=40, random_state=15; total time=   0.1s\n",
      "[CV] END .....max_depth=14, n_estimators=40, random_state=15; total time=   0.1s\n",
      "[CV] END .....max_depth=14, n_estimators=40, random_state=15; total time=   0.1s\n",
      "[CV] END .....max_depth=14, n_estimators=40, random_state=15; total time=   0.1s\n",
      "[CV] END .....max_depth=14, n_estimators=40, random_state=15; total time=   0.1s\n",
      "[CV] END .....max_depth=14, n_estimators=40, random_state=16; total time=   0.1s\n",
      "[CV] END .....max_depth=14, n_estimators=40, random_state=16; total time=   0.1s\n",
      "[CV] END .....max_depth=14, n_estimators=40, random_state=16; total time=   0.1s\n",
      "[CV] END .....max_depth=14, n_estimators=40, random_state=16; total time=   0.1s\n",
      "[CV] END .....max_depth=14, n_estimators=40, random_state=16; total time=   0.1s\n",
      "[CV] END .....max_depth=14, n_estimators=40, random_state=20; total time=   0.1s\n",
      "[CV] END .....max_depth=14, n_estimators=40, random_state=20; total time=   0.1s\n",
      "[CV] END .....max_depth=14, n_estimators=40, random_state=20; total time=   0.1s\n",
      "[CV] END .....max_depth=14, n_estimators=40, random_state=20; total time=   0.1s\n",
      "[CV] END .....max_depth=14, n_estimators=40, random_state=20; total time=   0.1s\n",
      "[CV] END .....max_depth=14, n_estimators=40, random_state=25; total time=   0.1s\n",
      "[CV] END .....max_depth=14, n_estimators=40, random_state=25; total time=   0.1s\n",
      "[CV] END .....max_depth=14, n_estimators=40, random_state=25; total time=   0.1s\n",
      "[CV] END .....max_depth=14, n_estimators=40, random_state=25; total time=   0.1s\n",
      "[CV] END .....max_depth=14, n_estimators=40, random_state=25; total time=   0.1s\n",
      "[CV] END .....max_depth=14, n_estimators=50, random_state=10; total time=   0.1s\n",
      "[CV] END .....max_depth=14, n_estimators=50, random_state=10; total time=   0.1s\n",
      "[CV] END .....max_depth=14, n_estimators=50, random_state=10; total time=   0.1s\n",
      "[CV] END .....max_depth=14, n_estimators=50, random_state=10; total time=   0.1s\n",
      "[CV] END .....max_depth=14, n_estimators=50, random_state=10; total time=   0.1s\n",
      "[CV] END .....max_depth=14, n_estimators=50, random_state=13; total time=   0.1s\n",
      "[CV] END .....max_depth=14, n_estimators=50, random_state=13; total time=   0.1s\n",
      "[CV] END .....max_depth=14, n_estimators=50, random_state=13; total time=   0.1s\n",
      "[CV] END .....max_depth=14, n_estimators=50, random_state=13; total time=   0.1s\n",
      "[CV] END .....max_depth=14, n_estimators=50, random_state=13; total time=   0.1s\n",
      "[CV] END .....max_depth=14, n_estimators=50, random_state=15; total time=   0.1s\n",
      "[CV] END .....max_depth=14, n_estimators=50, random_state=15; total time=   0.1s\n",
      "[CV] END .....max_depth=14, n_estimators=50, random_state=15; total time=   0.1s\n",
      "[CV] END .....max_depth=14, n_estimators=50, random_state=15; total time=   0.1s\n",
      "[CV] END .....max_depth=14, n_estimators=50, random_state=15; total time=   0.1s\n",
      "[CV] END .....max_depth=14, n_estimators=50, random_state=16; total time=   0.1s\n",
      "[CV] END .....max_depth=14, n_estimators=50, random_state=16; total time=   0.1s\n",
      "[CV] END .....max_depth=14, n_estimators=50, random_state=16; total time=   0.1s\n",
      "[CV] END .....max_depth=14, n_estimators=50, random_state=16; total time=   0.1s\n",
      "[CV] END .....max_depth=14, n_estimators=50, random_state=16; total time=   0.1s\n",
      "[CV] END .....max_depth=14, n_estimators=50, random_state=20; total time=   0.1s\n",
      "[CV] END .....max_depth=14, n_estimators=50, random_state=20; total time=   0.1s\n",
      "[CV] END .....max_depth=14, n_estimators=50, random_state=20; total time=   0.1s\n",
      "[CV] END .....max_depth=14, n_estimators=50, random_state=20; total time=   0.1s\n",
      "[CV] END .....max_depth=14, n_estimators=50, random_state=20; total time=   0.1s\n",
      "[CV] END .....max_depth=14, n_estimators=50, random_state=25; total time=   0.1s\n",
      "[CV] END .....max_depth=14, n_estimators=50, random_state=25; total time=   0.1s\n",
      "[CV] END .....max_depth=14, n_estimators=50, random_state=25; total time=   0.1s\n",
      "[CV] END .....max_depth=14, n_estimators=50, random_state=25; total time=   0.1s\n",
      "[CV] END .....max_depth=14, n_estimators=50, random_state=25; total time=   0.1s\n",
      "[CV] END ....max_depth=14, n_estimators=500, random_state=10; total time=   0.7s\n",
      "[CV] END ....max_depth=14, n_estimators=500, random_state=10; total time=   0.7s\n",
      "[CV] END ....max_depth=14, n_estimators=500, random_state=10; total time=   0.7s\n",
      "[CV] END ....max_depth=14, n_estimators=500, random_state=10; total time=   0.7s\n",
      "[CV] END ....max_depth=14, n_estimators=500, random_state=10; total time=   0.7s\n",
      "[CV] END ....max_depth=14, n_estimators=500, random_state=13; total time=   0.7s\n",
      "[CV] END ....max_depth=14, n_estimators=500, random_state=13; total time=   0.7s\n",
      "[CV] END ....max_depth=14, n_estimators=500, random_state=13; total time=   0.7s\n",
      "[CV] END ....max_depth=14, n_estimators=500, random_state=13; total time=   0.7s\n",
      "[CV] END ....max_depth=14, n_estimators=500, random_state=13; total time=   0.7s\n",
      "[CV] END ....max_depth=14, n_estimators=500, random_state=15; total time=   0.7s\n",
      "[CV] END ....max_depth=14, n_estimators=500, random_state=15; total time=   0.7s\n",
      "[CV] END ....max_depth=14, n_estimators=500, random_state=15; total time=   0.8s\n",
      "[CV] END ....max_depth=14, n_estimators=500, random_state=15; total time=   0.8s\n",
      "[CV] END ....max_depth=14, n_estimators=500, random_state=15; total time=   0.8s\n",
      "[CV] END ....max_depth=14, n_estimators=500, random_state=16; total time=   0.8s\n",
      "[CV] END ....max_depth=14, n_estimators=500, random_state=16; total time=   0.8s\n",
      "[CV] END ....max_depth=14, n_estimators=500, random_state=16; total time=   0.8s\n",
      "[CV] END ....max_depth=14, n_estimators=500, random_state=16; total time=   0.8s\n",
      "[CV] END ....max_depth=14, n_estimators=500, random_state=16; total time=   0.8s\n",
      "[CV] END ....max_depth=14, n_estimators=500, random_state=20; total time=   0.7s\n",
      "[CV] END ....max_depth=14, n_estimators=500, random_state=20; total time=   0.8s\n",
      "[CV] END ....max_depth=14, n_estimators=500, random_state=20; total time=   0.8s\n",
      "[CV] END ....max_depth=14, n_estimators=500, random_state=20; total time=   0.7s\n",
      "[CV] END ....max_depth=14, n_estimators=500, random_state=20; total time=   0.7s\n",
      "[CV] END ....max_depth=14, n_estimators=500, random_state=25; total time=   0.7s\n",
      "[CV] END ....max_depth=14, n_estimators=500, random_state=25; total time=   0.7s\n",
      "[CV] END ....max_depth=14, n_estimators=500, random_state=25; total time=   0.8s\n",
      "[CV] END ....max_depth=14, n_estimators=500, random_state=25; total time=   0.8s\n"
     ]
    },
    {
     "name": "stdout",
     "output_type": "stream",
     "text": [
      "[CV] END ....max_depth=14, n_estimators=500, random_state=25; total time=   0.8s\n",
      "[CV] END ....max_depth=14, n_estimators=344, random_state=10; total time=   0.5s\n",
      "[CV] END ....max_depth=14, n_estimators=344, random_state=10; total time=   0.5s\n",
      "[CV] END ....max_depth=14, n_estimators=344, random_state=10; total time=   0.5s\n",
      "[CV] END ....max_depth=14, n_estimators=344, random_state=10; total time=   0.5s\n",
      "[CV] END ....max_depth=14, n_estimators=344, random_state=10; total time=   0.5s\n",
      "[CV] END ....max_depth=14, n_estimators=344, random_state=13; total time=   0.5s\n",
      "[CV] END ....max_depth=14, n_estimators=344, random_state=13; total time=   0.5s\n",
      "[CV] END ....max_depth=14, n_estimators=344, random_state=13; total time=   0.5s\n",
      "[CV] END ....max_depth=14, n_estimators=344, random_state=13; total time=   0.5s\n",
      "[CV] END ....max_depth=14, n_estimators=344, random_state=13; total time=   0.5s\n",
      "[CV] END ....max_depth=14, n_estimators=344, random_state=15; total time=   0.5s\n",
      "[CV] END ....max_depth=14, n_estimators=344, random_state=15; total time=   0.5s\n",
      "[CV] END ....max_depth=14, n_estimators=344, random_state=15; total time=   0.5s\n",
      "[CV] END ....max_depth=14, n_estimators=344, random_state=15; total time=   0.5s\n",
      "[CV] END ....max_depth=14, n_estimators=344, random_state=15; total time=   0.5s\n",
      "[CV] END ....max_depth=14, n_estimators=344, random_state=16; total time=   0.5s\n",
      "[CV] END ....max_depth=14, n_estimators=344, random_state=16; total time=   0.5s\n",
      "[CV] END ....max_depth=14, n_estimators=344, random_state=16; total time=   0.5s\n",
      "[CV] END ....max_depth=14, n_estimators=344, random_state=16; total time=   0.5s\n",
      "[CV] END ....max_depth=14, n_estimators=344, random_state=16; total time=   0.5s\n",
      "[CV] END ....max_depth=14, n_estimators=344, random_state=20; total time=   0.5s\n",
      "[CV] END ....max_depth=14, n_estimators=344, random_state=20; total time=   0.5s\n",
      "[CV] END ....max_depth=14, n_estimators=344, random_state=20; total time=   0.5s\n",
      "[CV] END ....max_depth=14, n_estimators=344, random_state=20; total time=   0.5s\n",
      "[CV] END ....max_depth=14, n_estimators=344, random_state=20; total time=   0.5s\n",
      "[CV] END ....max_depth=14, n_estimators=344, random_state=25; total time=   0.5s\n",
      "[CV] END ....max_depth=14, n_estimators=344, random_state=25; total time=   0.5s\n",
      "[CV] END ....max_depth=14, n_estimators=344, random_state=25; total time=   0.5s\n",
      "[CV] END ....max_depth=14, n_estimators=344, random_state=25; total time=   0.5s\n",
      "[CV] END ....max_depth=14, n_estimators=344, random_state=25; total time=   0.5s\n"
     ]
    },
    {
     "data": {
      "text/plain": [
       "GridSearchCV(estimator=RandomForestClassifier(),\n",
       "             param_grid={'max_depth': [3, 5, 6, 8, 9, 10, 14],\n",
       "                         'n_estimators': [100, 200, 40, 50, 500, 344],\n",
       "                         'random_state': [10, 13, 15, 16, 20, 25]},\n",
       "             verbose=2)"
      ]
     },
     "execution_count": 32,
     "metadata": {},
     "output_type": "execute_result"
    }
   ],
   "source": [
    "from sklearn.model_selection import GridSearchCV\n",
    "\n",
    "parameters={\n",
    "'random_state':[10,13,15,16,20,25],\n",
    "'n_estimators':[100,200,40,50,500,344], #no. of trees to make\n",
    "'max_depth':[3,5,6,8,9,10,14]\n",
    "}\n",
    "grid_model=GridSearchCV(RandomForestClassifier(),parameters,verbose=2)\n",
    "grid_model.fit(X_train,y_train)"
   ]
  },
  {
   "cell_type": "markdown",
   "metadata": {},
   "source": [
    "# Got improved accuracy"
   ]
  },
  {
   "cell_type": "code",
   "execution_count": 33,
   "metadata": {},
   "outputs": [
    {
     "data": {
      "text/plain": [
       "0.832857142857143"
      ]
     },
     "execution_count": 33,
     "metadata": {},
     "output_type": "execute_result"
    }
   ],
   "source": [
    "grid_model.best_score_"
   ]
  },
  {
   "cell_type": "markdown",
   "metadata": {},
   "source": [
    "# Got best parameters for model"
   ]
  },
  {
   "cell_type": "code",
   "execution_count": 34,
   "metadata": {},
   "outputs": [
    {
     "data": {
      "text/plain": [
       "{'max_depth': 14, 'n_estimators': 40, 'random_state': 16}"
      ]
     },
     "execution_count": 34,
     "metadata": {},
     "output_type": "execute_result"
    }
   ],
   "source": [
    "grid_model.best_params_ "
   ]
  },
  {
   "cell_type": "markdown",
   "metadata": {},
   "source": [
    "# Prediction"
   ]
  },
  {
   "cell_type": "code",
   "execution_count": 35,
   "metadata": {},
   "outputs": [],
   "source": [
    "y_predict=grid_model.predict(X_test)"
   ]
  },
  {
   "cell_type": "markdown",
   "metadata": {},
   "source": [
    "# Confusion matrix"
   ]
  },
  {
   "cell_type": "code",
   "execution_count": 36,
   "metadata": {},
   "outputs": [
    {
     "data": {
      "text/html": [
       "<div>\n",
       "<style scoped>\n",
       "    .dataframe tbody tr th:only-of-type {\n",
       "        vertical-align: middle;\n",
       "    }\n",
       "\n",
       "    .dataframe tbody tr th {\n",
       "        vertical-align: top;\n",
       "    }\n",
       "\n",
       "    .dataframe thead th {\n",
       "        text-align: right;\n",
       "    }\n",
       "</style>\n",
       "<table border=\"1\" class=\"dataframe\">\n",
       "  <thead>\n",
       "    <tr style=\"text-align: right;\">\n",
       "      <th>col_0</th>\n",
       "      <th>0.0</th>\n",
       "      <th>1.0</th>\n",
       "    </tr>\n",
       "    <tr>\n",
       "      <th>Made Donation in March 2007</th>\n",
       "      <th></th>\n",
       "      <th></th>\n",
       "    </tr>\n",
       "  </thead>\n",
       "  <tbody>\n",
       "    <tr>\n",
       "      <th>0.0</th>\n",
       "      <td>74</td>\n",
       "      <td>21</td>\n",
       "    </tr>\n",
       "    <tr>\n",
       "      <th>1.0</th>\n",
       "      <td>14</td>\n",
       "      <td>67</td>\n",
       "    </tr>\n",
       "  </tbody>\n",
       "</table>\n",
       "</div>"
      ],
      "text/plain": [
       "col_0                        0.0  1.0\n",
       "Made Donation in March 2007          \n",
       "0.0                           74   21\n",
       "1.0                           14   67"
      ]
     },
     "execution_count": 36,
     "metadata": {},
     "output_type": "execute_result"
    }
   ],
   "source": [
    "pd.crosstab(y_test,y_predict)"
   ]
  },
  {
   "cell_type": "markdown",
   "metadata": {},
   "source": [
    "# Classification report"
   ]
  },
  {
   "cell_type": "code",
   "execution_count": 37,
   "metadata": {},
   "outputs": [
    {
     "name": "stdout",
     "output_type": "stream",
     "text": [
      "              precision    recall  f1-score   support\n",
      "\n",
      "         0.0       0.78      0.84      0.81        88\n",
      "         1.0       0.83      0.76      0.79        88\n",
      "\n",
      "    accuracy                           0.80       176\n",
      "   macro avg       0.80      0.80      0.80       176\n",
      "weighted avg       0.80      0.80      0.80       176\n",
      "\n"
     ]
    }
   ],
   "source": [
    "print(classification_report(y_predict,y_test))"
   ]
  },
  {
   "cell_type": "markdown",
   "metadata": {},
   "source": [
    "# Saving the model "
   ]
  },
  {
   "cell_type": "code",
   "execution_count": 34,
   "metadata": {},
   "outputs": [
    {
     "data": {
      "text/plain": [
       "['/Users/ayushmehta/Downloads/Capston/Blood_donation/RF_Oversampling_gridsearch83%.pkl']"
      ]
     },
     "execution_count": 34,
     "metadata": {},
     "output_type": "execute_result"
    }
   ],
   "source": [
    "import joblib\n",
    "joblib.dump(grid_model, \"/Users/ayushmehta/Downloads/Capston/Blood_donation/RF_Oversampling_gridsearch83%.pkl\")"
   ]
  },
  {
   "cell_type": "code",
   "execution_count": null,
   "metadata": {},
   "outputs": [],
   "source": []
  }
 ],
 "metadata": {
  "kernelspec": {
   "display_name": "Python 3",
   "language": "python",
   "name": "python3"
  },
  "language_info": {
   "codemirror_mode": {
    "name": "ipython",
    "version": 3
   },
   "file_extension": ".py",
   "mimetype": "text/x-python",
   "name": "python",
   "nbconvert_exporter": "python",
   "pygments_lexer": "ipython3",
   "version": "3.8.5"
  }
 },
 "nbformat": 4,
 "nbformat_minor": 4
}
